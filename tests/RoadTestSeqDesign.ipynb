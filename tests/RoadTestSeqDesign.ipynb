{
 "cells": [
  {
   "cell_type": "markdown",
   "metadata": {},
   "source": [
    "# Road Test Sequential Design"
   ]
  },
  {
   "cell_type": "code",
   "execution_count": 1,
   "metadata": {},
   "outputs": [
    {
     "name": "stderr",
     "output_type": "stream",
     "text": [
      "/Users/jpn/anaconda/envs/EMAT/lib/python3.6/importlib/_bootstrap.py:219: ImportWarning: can't resolve package from __spec__ or __package__, falling back on __name__ and __path__\n",
      "  return f(*args, **kwds)\n",
      "/Users/jpn/anaconda/envs/EMAT/lib/python3.6/site-packages/distributed/utils.py:136: RuntimeWarning: Couldn't detect a suitable IP address for reaching '8.8.8.8', defaulting to '127.0.0.1': [Errno 51] Network is unreachable\n",
      "  RuntimeWarning,\n"
     ]
    },
    {
     "data": {
      "text/plain": [
       "'2.1.CS1'"
      ]
     },
     "execution_count": 1,
     "metadata": {},
     "output_type": "execute_result"
    }
   ],
   "source": [
    "import ema_workbench\n",
    "ema_workbench.__version__"
   ]
  },
  {
   "cell_type": "code",
   "execution_count": 2,
   "metadata": {},
   "outputs": [
    {
     "data": {
      "text/plain": [
       "'0.1.3'"
      ]
     },
     "execution_count": 2,
     "metadata": {},
     "output_type": "execute_result"
    }
   ],
   "source": [
    "import emat\n",
    "emat.__version__"
   ]
  },
  {
   "cell_type": "code",
   "execution_count": 3,
   "metadata": {},
   "outputs": [],
   "source": [
    "import os, numpy, pandas, functools\n",
    "from emat.util.xmle import Show"
   ]
  },
  {
   "cell_type": "code",
   "execution_count": 4,
   "metadata": {},
   "outputs": [],
   "source": [
    "logger = emat.util.loggers.log_to_stderr(20, True)"
   ]
  },
  {
   "cell_type": "code",
   "execution_count": 5,
   "metadata": {},
   "outputs": [],
   "source": [
    "road_test_scope_file = emat.package_file('model','tests','road_test.yaml')"
   ]
  },
  {
   "cell_type": "code",
   "execution_count": 6,
   "metadata": {},
   "outputs": [
    {
     "data": {
      "text/plain": [
       "<emat.Scope with 2 constants, 7 uncertainties, 4 levers, 7 measures>"
      ]
     },
     "execution_count": 6,
     "metadata": {},
     "output_type": "execute_result"
    }
   ],
   "source": [
    "road_scope = emat.Scope(road_test_scope_file)\n",
    "road_scope"
   ]
  },
  {
   "cell_type": "code",
   "execution_count": 7,
   "metadata": {},
   "outputs": [
    {
     "name": "stdout",
     "output_type": "stream",
     "text": [
      "name: EMAT Road Test\n",
      "desc: prototype run\n",
      "constants:\n",
      "  free_flow_time = 60\n",
      "  initial_capacity = 100\n",
      "uncertainties:\n",
      "  alpha = 0.1 to 0.2\n",
      "  beta = 3.5 to 5.5\n",
      "  input_flow = 80 to 150\n",
      "  value_of_time = 0.001 to 0.08\n",
      "  unit_cost_expansion = 95.0 to 145.0\n",
      "  interest_rate = 0.025 to 0.04\n",
      "  yield_curve = -0.0025 to 0.02\n",
      "levers:\n",
      "  expand_capacity = 0.0 to 100.0\n",
      "  amortization_period = 15 to 50\n",
      "  debt_type = categorical\n",
      "  interest_rate_lock = boolean\n",
      "measures:\n",
      "  no_build_travel_time\n",
      "  build_travel_time\n",
      "  time_savings\n",
      "  value_of_time_savings\n",
      "  net_benefits\n",
      "  cost_of_capacity_expansion\n",
      "  present_cost_expansion\n"
     ]
    }
   ],
   "source": [
    "road_scope.info()"
   ]
  },
  {
   "cell_type": "code",
   "execution_count": 8,
   "metadata": {},
   "outputs": [
    {
     "name": "stderr",
     "output_type": "stream",
     "text": [
      "[00:08.58] MainProcess/INFO: running script scope.sql\n",
      "[00:08.59] MainProcess/INFO: running script exp_design.sql\n",
      "[00:08.59] MainProcess/INFO: running script meta_model.sql\n"
     ]
    }
   ],
   "source": [
    "emat_db = emat.SQLiteDB()"
   ]
  },
  {
   "cell_type": "code",
   "execution_count": 9,
   "metadata": {},
   "outputs": [],
   "source": [
    "road_scope.store_scope(emat_db)"
   ]
  },
  {
   "cell_type": "code",
   "execution_count": 10,
   "metadata": {},
   "outputs": [],
   "source": [
    "from emat.experiment.experimental_design import design_experiments"
   ]
  },
  {
   "cell_type": "code",
   "execution_count": 11,
   "metadata": {},
   "outputs": [
    {
     "data": {
      "text/html": [
       "<div>\n",
       "<style scoped>\n",
       "    .dataframe tbody tr th:only-of-type {\n",
       "        vertical-align: middle;\n",
       "    }\n",
       "\n",
       "    .dataframe tbody tr th {\n",
       "        vertical-align: top;\n",
       "    }\n",
       "\n",
       "    .dataframe thead th {\n",
       "        text-align: right;\n",
       "    }\n",
       "</style>\n",
       "<table border=\"1\" class=\"dataframe\">\n",
       "  <thead>\n",
       "    <tr style=\"text-align: right;\">\n",
       "      <th></th>\n",
       "      <th>alpha</th>\n",
       "      <th>amortization_period</th>\n",
       "      <th>beta</th>\n",
       "      <th>debt_type</th>\n",
       "      <th>expand_capacity</th>\n",
       "      <th>input_flow</th>\n",
       "      <th>interest_rate</th>\n",
       "      <th>interest_rate_lock</th>\n",
       "      <th>unit_cost_expansion</th>\n",
       "      <th>value_of_time</th>\n",
       "      <th>yield_curve</th>\n",
       "      <th>free_flow_time</th>\n",
       "      <th>initial_capacity</th>\n",
       "    </tr>\n",
       "    <tr>\n",
       "      <th>experiment</th>\n",
       "      <th></th>\n",
       "      <th></th>\n",
       "      <th></th>\n",
       "      <th></th>\n",
       "      <th></th>\n",
       "      <th></th>\n",
       "      <th></th>\n",
       "      <th></th>\n",
       "      <th></th>\n",
       "      <th></th>\n",
       "      <th></th>\n",
       "      <th></th>\n",
       "      <th></th>\n",
       "    </tr>\n",
       "  </thead>\n",
       "  <tbody>\n",
       "    <tr>\n",
       "      <th>1</th>\n",
       "      <td>0.184682</td>\n",
       "      <td>38</td>\n",
       "      <td>5.237143</td>\n",
       "      <td>Rev Bond</td>\n",
       "      <td>18.224793</td>\n",
       "      <td>115</td>\n",
       "      <td>0.031645</td>\n",
       "      <td>False</td>\n",
       "      <td>118.213466</td>\n",
       "      <td>0.022518</td>\n",
       "      <td>0.015659</td>\n",
       "      <td>60</td>\n",
       "      <td>100</td>\n",
       "    </tr>\n",
       "    <tr>\n",
       "      <th>2</th>\n",
       "      <td>0.166133</td>\n",
       "      <td>36</td>\n",
       "      <td>4.121963</td>\n",
       "      <td>Paygo</td>\n",
       "      <td>87.525790</td>\n",
       "      <td>129</td>\n",
       "      <td>0.037612</td>\n",
       "      <td>True</td>\n",
       "      <td>141.322696</td>\n",
       "      <td>0.052306</td>\n",
       "      <td>0.007307</td>\n",
       "      <td>60</td>\n",
       "      <td>100</td>\n",
       "    </tr>\n",
       "    <tr>\n",
       "      <th>3</th>\n",
       "      <td>0.198937</td>\n",
       "      <td>44</td>\n",
       "      <td>4.719838</td>\n",
       "      <td>GO Bond</td>\n",
       "      <td>45.698048</td>\n",
       "      <td>105</td>\n",
       "      <td>0.028445</td>\n",
       "      <td>False</td>\n",
       "      <td>97.783320</td>\n",
       "      <td>0.011923</td>\n",
       "      <td>-0.001545</td>\n",
       "      <td>60</td>\n",
       "      <td>100</td>\n",
       "    </tr>\n",
       "    <tr>\n",
       "      <th>4</th>\n",
       "      <td>0.158758</td>\n",
       "      <td>42</td>\n",
       "      <td>4.915816</td>\n",
       "      <td>GO Bond</td>\n",
       "      <td>51.297546</td>\n",
       "      <td>113</td>\n",
       "      <td>0.036234</td>\n",
       "      <td>True</td>\n",
       "      <td>127.224901</td>\n",
       "      <td>0.077527</td>\n",
       "      <td>0.004342</td>\n",
       "      <td>60</td>\n",
       "      <td>100</td>\n",
       "    </tr>\n",
       "    <tr>\n",
       "      <th>5</th>\n",
       "      <td>0.157671</td>\n",
       "      <td>42</td>\n",
       "      <td>3.845952</td>\n",
       "      <td>Paygo</td>\n",
       "      <td>22.824149</td>\n",
       "      <td>133</td>\n",
       "      <td>0.039257</td>\n",
       "      <td>False</td>\n",
       "      <td>107.820482</td>\n",
       "      <td>0.027270</td>\n",
       "      <td>0.001558</td>\n",
       "      <td>60</td>\n",
       "      <td>100</td>\n",
       "    </tr>\n",
       "  </tbody>\n",
       "</table>\n",
       "</div>"
      ],
      "text/plain": [
       "               alpha  amortization_period      beta debt_type  \\\n",
       "experiment                                                      \n",
       "1           0.184682                   38  5.237143  Rev Bond   \n",
       "2           0.166133                   36  4.121963     Paygo   \n",
       "3           0.198937                   44  4.719838   GO Bond   \n",
       "4           0.158758                   42  4.915816   GO Bond   \n",
       "5           0.157671                   42  3.845952     Paygo   \n",
       "\n",
       "            expand_capacity  input_flow  interest_rate  interest_rate_lock  \\\n",
       "experiment                                                                   \n",
       "1                 18.224793         115       0.031645               False   \n",
       "2                 87.525790         129       0.037612                True   \n",
       "3                 45.698048         105       0.028445               False   \n",
       "4                 51.297546         113       0.036234                True   \n",
       "5                 22.824149         133       0.039257               False   \n",
       "\n",
       "            unit_cost_expansion  value_of_time  yield_curve  free_flow_time  \\\n",
       "experiment                                                                    \n",
       "1                    118.213466       0.022518     0.015659              60   \n",
       "2                    141.322696       0.052306     0.007307              60   \n",
       "3                     97.783320       0.011923    -0.001545              60   \n",
       "4                    127.224901       0.077527     0.004342              60   \n",
       "5                    107.820482       0.027270     0.001558              60   \n",
       "\n",
       "            initial_capacity  \n",
       "experiment                    \n",
       "1                        100  \n",
       "2                        100  \n",
       "3                        100  \n",
       "4                        100  \n",
       "5                        100  "
      ]
     },
     "execution_count": 11,
     "metadata": {},
     "output_type": "execute_result"
    }
   ],
   "source": [
    "design = design_experiments(road_scope, db=emat_db, n_samples_per_factor=10, sampler='lhs')\n",
    "design.head()"
   ]
  },
  {
   "cell_type": "markdown",
   "metadata": {},
   "source": [
    "## Core Model"
   ]
  },
  {
   "cell_type": "code",
   "execution_count": 12,
   "metadata": {},
   "outputs": [],
   "source": [
    "from emat.model.core_python import PythonCoreModel\n",
    "from emat.model.core_python import Road_Capacity_Investment"
   ]
  },
  {
   "cell_type": "code",
   "execution_count": 13,
   "metadata": {},
   "outputs": [],
   "source": [
    "m = PythonCoreModel(Road_Capacity_Investment, scope=road_scope, db=emat_db)"
   ]
  },
  {
   "cell_type": "code",
   "execution_count": 14,
   "metadata": {},
   "outputs": [
    {
     "name": "stderr",
     "output_type": "stream",
     "text": [
      "[00:08.79] MainProcess/INFO: performing 110 scenarios/policies * 1 model(s) = 110 experiments\n",
      "[00:08.82] MainProcess/INFO: performing experiments sequentially\n",
      "[00:08.83] MainProcess/INFO: 11 cases completed\n",
      "[00:08.83] MainProcess/INFO: 22 cases completed\n",
      "[00:08.84] MainProcess/INFO: 33 cases completed\n",
      "[00:08.85] MainProcess/INFO: 44 cases completed\n",
      "[00:08.85] MainProcess/INFO: 55 cases completed\n",
      "[00:08.86] MainProcess/INFO: 66 cases completed\n",
      "[00:08.87] MainProcess/INFO: 77 cases completed\n",
      "[00:08.88] MainProcess/INFO: 88 cases completed\n",
      "[00:08.88] MainProcess/INFO: 99 cases completed\n",
      "[00:08.89] MainProcess/INFO: 110 cases completed\n",
      "[00:08.89] MainProcess/INFO: experiments finished\n"
     ]
    },
    {
     "data": {
      "text/html": [
       "<div>\n",
       "<style scoped>\n",
       "    .dataframe tbody tr th:only-of-type {\n",
       "        vertical-align: middle;\n",
       "    }\n",
       "\n",
       "    .dataframe tbody tr th {\n",
       "        vertical-align: top;\n",
       "    }\n",
       "\n",
       "    .dataframe thead th {\n",
       "        text-align: right;\n",
       "    }\n",
       "</style>\n",
       "<table border=\"1\" class=\"dataframe\">\n",
       "  <thead>\n",
       "    <tr style=\"text-align: right;\">\n",
       "      <th></th>\n",
       "      <th>alpha</th>\n",
       "      <th>beta</th>\n",
       "      <th>input_flow</th>\n",
       "      <th>value_of_time</th>\n",
       "      <th>unit_cost_expansion</th>\n",
       "      <th>interest_rate</th>\n",
       "      <th>yield_curve</th>\n",
       "      <th>expand_capacity</th>\n",
       "      <th>amortization_period</th>\n",
       "      <th>debt_type</th>\n",
       "      <th>interest_rate_lock</th>\n",
       "      <th>no_build_travel_time</th>\n",
       "      <th>build_travel_time</th>\n",
       "      <th>time_savings</th>\n",
       "      <th>value_of_time_savings</th>\n",
       "      <th>net_benefits</th>\n",
       "      <th>cost_of_capacity_expansion</th>\n",
       "      <th>present_cost_expansion</th>\n",
       "    </tr>\n",
       "    <tr>\n",
       "      <th>experiment</th>\n",
       "      <th></th>\n",
       "      <th></th>\n",
       "      <th></th>\n",
       "      <th></th>\n",
       "      <th></th>\n",
       "      <th></th>\n",
       "      <th></th>\n",
       "      <th></th>\n",
       "      <th></th>\n",
       "      <th></th>\n",
       "      <th></th>\n",
       "      <th></th>\n",
       "      <th></th>\n",
       "      <th></th>\n",
       "      <th></th>\n",
       "      <th></th>\n",
       "      <th></th>\n",
       "      <th></th>\n",
       "    </tr>\n",
       "  </thead>\n",
       "  <tbody>\n",
       "    <tr>\n",
       "      <th>1</th>\n",
       "      <td>0.184682</td>\n",
       "      <td>5.237143</td>\n",
       "      <td>115</td>\n",
       "      <td>0.022518</td>\n",
       "      <td>118.213466</td>\n",
       "      <td>0.031645</td>\n",
       "      <td>0.015659</td>\n",
       "      <td>18.224793</td>\n",
       "      <td>38</td>\n",
       "      <td>Rev Bond</td>\n",
       "      <td>False</td>\n",
       "      <td>83.038716</td>\n",
       "      <td>69.586789</td>\n",
       "      <td>13.451927</td>\n",
       "      <td>34.835362</td>\n",
       "      <td>-79.515515</td>\n",
       "      <td>114.350877</td>\n",
       "      <td>2154.415985</td>\n",
       "    </tr>\n",
       "    <tr>\n",
       "      <th>2</th>\n",
       "      <td>0.166133</td>\n",
       "      <td>4.121963</td>\n",
       "      <td>129</td>\n",
       "      <td>0.052306</td>\n",
       "      <td>141.322696</td>\n",
       "      <td>0.037612</td>\n",
       "      <td>0.007307</td>\n",
       "      <td>87.525790</td>\n",
       "      <td>36</td>\n",
       "      <td>Paygo</td>\n",
       "      <td>True</td>\n",
       "      <td>88.474313</td>\n",
       "      <td>62.132583</td>\n",
       "      <td>26.341730</td>\n",
       "      <td>177.741192</td>\n",
       "      <td>-205.321480</td>\n",
       "      <td>383.062672</td>\n",
       "      <td>12369.380535</td>\n",
       "    </tr>\n",
       "    <tr>\n",
       "      <th>3</th>\n",
       "      <td>0.198937</td>\n",
       "      <td>4.719838</td>\n",
       "      <td>105</td>\n",
       "      <td>0.011923</td>\n",
       "      <td>97.783320</td>\n",
       "      <td>0.028445</td>\n",
       "      <td>-0.001545</td>\n",
       "      <td>45.698048</td>\n",
       "      <td>44</td>\n",
       "      <td>GO Bond</td>\n",
       "      <td>False</td>\n",
       "      <td>75.027180</td>\n",
       "      <td>62.543328</td>\n",
       "      <td>12.483852</td>\n",
       "      <td>15.629037</td>\n",
       "      <td>-151.944318</td>\n",
       "      <td>167.573355</td>\n",
       "      <td>4468.506839</td>\n",
       "    </tr>\n",
       "    <tr>\n",
       "      <th>4</th>\n",
       "      <td>0.158758</td>\n",
       "      <td>4.915816</td>\n",
       "      <td>113</td>\n",
       "      <td>0.077527</td>\n",
       "      <td>127.224901</td>\n",
       "      <td>0.036234</td>\n",
       "      <td>0.004342</td>\n",
       "      <td>51.297546</td>\n",
       "      <td>42</td>\n",
       "      <td>GO Bond</td>\n",
       "      <td>True</td>\n",
       "      <td>77.370428</td>\n",
       "      <td>62.268768</td>\n",
       "      <td>15.101660</td>\n",
       "      <td>132.298475</td>\n",
       "      <td>-167.624871</td>\n",
       "      <td>299.923347</td>\n",
       "      <td>6526.325171</td>\n",
       "    </tr>\n",
       "    <tr>\n",
       "      <th>5</th>\n",
       "      <td>0.157671</td>\n",
       "      <td>3.845952</td>\n",
       "      <td>133</td>\n",
       "      <td>0.027270</td>\n",
       "      <td>107.820482</td>\n",
       "      <td>0.039257</td>\n",
       "      <td>0.001558</td>\n",
       "      <td>22.824149</td>\n",
       "      <td>42</td>\n",
       "      <td>Paygo</td>\n",
       "      <td>False</td>\n",
       "      <td>88.328990</td>\n",
       "      <td>72.848428</td>\n",
       "      <td>15.480561</td>\n",
       "      <td>56.146908</td>\n",
       "      <td>-3.972940</td>\n",
       "      <td>60.119848</td>\n",
       "      <td>2460.910705</td>\n",
       "    </tr>\n",
       "  </tbody>\n",
       "</table>\n",
       "</div>"
      ],
      "text/plain": [
       "               alpha      beta  input_flow  value_of_time  \\\n",
       "experiment                                                  \n",
       "1           0.184682  5.237143         115       0.022518   \n",
       "2           0.166133  4.121963         129       0.052306   \n",
       "3           0.198937  4.719838         105       0.011923   \n",
       "4           0.158758  4.915816         113       0.077527   \n",
       "5           0.157671  3.845952         133       0.027270   \n",
       "\n",
       "            unit_cost_expansion  interest_rate  yield_curve  expand_capacity  \\\n",
       "experiment                                                                     \n",
       "1                    118.213466       0.031645     0.015659        18.224793   \n",
       "2                    141.322696       0.037612     0.007307        87.525790   \n",
       "3                     97.783320       0.028445    -0.001545        45.698048   \n",
       "4                    127.224901       0.036234     0.004342        51.297546   \n",
       "5                    107.820482       0.039257     0.001558        22.824149   \n",
       "\n",
       "            amortization_period debt_type  interest_rate_lock  \\\n",
       "experiment                                                      \n",
       "1                            38  Rev Bond               False   \n",
       "2                            36     Paygo                True   \n",
       "3                            44   GO Bond               False   \n",
       "4                            42   GO Bond                True   \n",
       "5                            42     Paygo               False   \n",
       "\n",
       "            no_build_travel_time  build_travel_time  time_savings  \\\n",
       "experiment                                                          \n",
       "1                      83.038716          69.586789     13.451927   \n",
       "2                      88.474313          62.132583     26.341730   \n",
       "3                      75.027180          62.543328     12.483852   \n",
       "4                      77.370428          62.268768     15.101660   \n",
       "5                      88.328990          72.848428     15.480561   \n",
       "\n",
       "            value_of_time_savings  net_benefits  cost_of_capacity_expansion  \\\n",
       "experiment                                                                    \n",
       "1                       34.835362    -79.515515                  114.350877   \n",
       "2                      177.741192   -205.321480                  383.062672   \n",
       "3                       15.629037   -151.944318                  167.573355   \n",
       "4                      132.298475   -167.624871                  299.923347   \n",
       "5                       56.146908     -3.972940                   60.119848   \n",
       "\n",
       "            present_cost_expansion  \n",
       "experiment                          \n",
       "1                      2154.415985  \n",
       "2                     12369.380535  \n",
       "3                      4468.506839  \n",
       "4                      6526.325171  \n",
       "5                      2460.910705  "
      ]
     },
     "execution_count": 14,
     "metadata": {},
     "output_type": "execute_result"
    }
   ],
   "source": [
    "lhs_results = m.run_experiments(design_name='lhs')\n",
    "lhs_results.head()"
   ]
  },
  {
   "cell_type": "code",
   "execution_count": 15,
   "metadata": {},
   "outputs": [
    {
     "data": {
      "text/plain": [
       "<emat.PythonCoreModel \"EMATMeta\", metamodel_id=1 with 2 constants, 7 uncertainties, 4 levers, 7 measures>"
      ]
     },
     "execution_count": 15,
     "metadata": {},
     "output_type": "execute_result"
    }
   ],
   "source": [
    "mm = m.create_metamodel_from_design('lhs')\n",
    "mm"
   ]
  },
  {
   "cell_type": "code",
   "execution_count": 16,
   "metadata": {},
   "outputs": [],
   "source": [
    "mm_cv = mm.function.cross_val_scores()"
   ]
  },
  {
   "cell_type": "code",
   "execution_count": 17,
   "metadata": {},
   "outputs": [
    {
     "data": {
      "text/plain": [
       "no_build_travel_time          0.975653\n",
       "build_travel_time             0.984832\n",
       "time_savings                  0.880716\n",
       "value_of_time_savings         0.807826\n",
       "net_benefits                  0.825774\n",
       "cost_of_capacity_expansion    0.834869\n",
       "present_cost_expansion        0.932757\n",
       "dtype: float64"
      ]
     },
     "execution_count": 17,
     "metadata": {},
     "output_type": "execute_result"
    }
   ],
   "source": [
    "mm_cv"
   ]
  },
  {
   "cell_type": "code",
   "execution_count": 18,
   "metadata": {},
   "outputs": [],
   "source": [
    "#mm_cv_ = mm.function.cross_val_scores_()"
   ]
  },
  {
   "cell_type": "code",
   "execution_count": 19,
   "metadata": {},
   "outputs": [],
   "source": [
    "# def cross_val_scores_(self, cv=5, gpr_only=False):\n",
    "#     \"\"\"\n",
    "#     Calculate the cross validation scores for this meta-model.\n",
    "\n",
    "#     Args:\n",
    "#         cv (int, default 5): The number of folds to use in\n",
    "#             cross-validation.\n",
    "#         gpr_only (bool, default False): Whether to limit the\n",
    "#             cross-validation analysis to only the GPR step (i.e.,\n",
    "#             to measure the improvement in meta-model fit from\n",
    "#             using the GPR-based meta-model, over and above\n",
    "#             using the linear regression meta-model alone.)\n",
    "\n",
    "#     Returns:\n",
    "#         pandas.Series: The cross-validation scores, by output.\n",
    "\n",
    "#     \"\"\"\n",
    "#     if self.sample_stratification is not None:\n",
    "#         from ..multitarget.splits import ExogenouslyStratifiedKFold\n",
    "#         cv = ExogenouslyStratifiedKFold(exo_data=self.sample_stratification, n_splits=cv)\n",
    "\n",
    "#     if gpr_only:\n",
    "#         residuals = self.regression.residual_predict(self.input_sample)\n",
    "#         regression = multitarget.MultipleTargetRegression()\n",
    "#         return regression.cross_val_scores(self.input_sample, residuals, cv=cv)\n",
    "#     return self.regression.cross_val_scores_(self.input_sample, self.output_sample, cv=cv)\n"
   ]
  },
  {
   "cell_type": "code",
   "execution_count": 20,
   "metadata": {},
   "outputs": [],
   "source": [
    "# mm.function.regression.score(mm.function.input_sample, mm.function.output_sample)"
   ]
  },
  {
   "cell_type": "code",
   "execution_count": 21,
   "metadata": {},
   "outputs": [],
   "source": [
    "# mm.function.regression.scores(mm.function.input_sample, mm.function.output_sample)"
   ]
  },
  {
   "cell_type": "code",
   "execution_count": 22,
   "metadata": {},
   "outputs": [],
   "source": [
    "# mm.function.regression"
   ]
  },
  {
   "cell_type": "code",
   "execution_count": 23,
   "metadata": {},
   "outputs": [
    {
     "data": {
      "text/plain": [
       "no_build_travel_time          0.993385\n",
       "build_travel_time             0.984056\n",
       "time_savings                  0.882865\n",
       "value_of_time_savings         0.868693\n",
       "net_benefits                  0.755810\n",
       "cost_of_capacity_expansion    0.897744\n",
       "present_cost_expansion        0.931553\n",
       "dtype: float64"
      ]
     },
     "execution_count": 23,
     "metadata": {},
     "output_type": "execute_result"
    }
   ],
   "source": [
    "mm_cv_ = cross_val_scores_(mm.function, cv=5)\n",
    "mm_cv_"
   ]
  },
  {
   "cell_type": "code",
   "execution_count": 24,
   "metadata": {},
   "outputs": [
    {
     "data": {
      "text/plain": [
       "no_build_travel_time          0.996059\n",
       "build_travel_time             0.979534\n",
       "time_savings                  0.924309\n",
       "value_of_time_savings         0.806513\n",
       "net_benefits                  0.763217\n",
       "cost_of_capacity_expansion    0.836336\n",
       "present_cost_expansion        0.944906\n",
       "dtype: float64"
      ]
     },
     "execution_count": 24,
     "metadata": {},
     "output_type": "execute_result"
    }
   ],
   "source": [
    "cross_val_scores_(mm.function, cv=5)"
   ]
  },
  {
   "cell_type": "markdown",
   "metadata": {},
   "source": [
    "### Loeppky Augmentation"
   ]
  },
  {
   "cell_type": "code",
   "execution_count": null,
   "metadata": {},
   "outputs": [],
   "source": [
    "n_augmentations = 3\n",
    "aug_batch_size = 10\n",
    "aug_design = {}\n",
    "aug_results = {}\n",
    "aug_mm = {-1: mm}\n",
    "aug_cv = {-1: mm_cv}\n",
    "aug_names = ['lhs',]"
   ]
  },
  {
   "cell_type": "code",
   "execution_count": null,
   "metadata": {},
   "outputs": [],
   "source": [
    "for aug in range(n_augmentations):\n",
    "    \n",
    "    design_pool = design_experiments(\n",
    "        road_scope, \n",
    "        n_samples=5000, \n",
    "        sampler='ulhs', \n",
    "        random_seed=42+aug,\n",
    "    )\n",
    "    \n",
    "    aug_name = f'la_{aug}'\n",
    "    aug_design[aug] = aug_mm[aug-1].function.pick_new_experiments(\n",
    "            design_pool,\n",
    "            batch_size=aug_batch_size,\n",
    "            output_focus=dict(1-aug_cv[aug-1]),\n",
    "            scope=road_scope,\n",
    "            db=emat_db,\n",
    "            design_name=aug_name,\n",
    "    )\n",
    "    aug_results[aug] = m.run_experiments(design_name=aug_name)\n",
    "    aug_names.append(aug_name)\n",
    "    aug_mm[aug] = m.create_metamodel_from_designs(aug_names)\n",
    "    aug_cv[aug] = aug_mm[aug].function.cross_val_scores()\n",
    "    print(f\"-- Cross Validation Loeppky {aug} --\\n\", aug_cv[aug])\n",
    "        \n",
    "#     j = aug_mm[aug].run_experiments(grid_df[['x1','x2']], db=False)\n",
    "#     j_stderr = aug_mm[aug].function.compute_std(grid_df[['x1','x2']])\n",
    "    \n",
    "#     for cc in [1,2,3,4]:\n",
    "#         fig, axs = plt.subplots(1,4, figsize=(13,3))\n",
    "#         axs[0].scatter(grid_df.x1, grid_df.x2, c=grid_df[f'c{cc}'])\n",
    "#         axs[0].set_title(f'Core{cc}')\n",
    "#         axs[1].scatter(j.x1, j.x2, c=j[f'c{cc}'])\n",
    "#         axs[1].set_title(f'Loeppky MetaModel{cc}')\n",
    "#         diffs = grid_df[f'c{cc}']-j[f'c{cc}']\n",
    "#         maxdiff = numpy.fabs(diffs).max()\n",
    "#         axs[2].scatter(j.x1, j.x2, c=diffs, cmap='PiYG', vmin=-maxdiff, vmax=maxdiff)\n",
    "#         axs[2].set_title(f'Error in MetaModel{cc}')\n",
    "\n",
    "#         axs[3].scatter(j.x1, j.x2, c=j_stderr[f'c{cc}'])\n",
    "#         axs[3].set_title(f'Std Err of MetaModel{cc}')\n",
    "\n",
    "#         plt.show()\n",
    "\n"
   ]
  },
  {
   "cell_type": "code",
   "execution_count": null,
   "metadata": {},
   "outputs": [],
   "source": [
    "df = emat_db.read_experiment_all(scope_name=emat_db.read_scope_names()[0], design=None)"
   ]
  },
  {
   "cell_type": "code",
   "execution_count": null,
   "metadata": {},
   "outputs": [],
   "source": [
    "(df.expand_capacity * df.unit_cost_expansion)"
   ]
  },
  {
   "cell_type": "code",
   "execution_count": null,
   "metadata": {},
   "outputs": [],
   "source": [
    "df_p = emat_db.read_experiment_parameters(scope_name=emat_db.read_scope_names()[0], design=None)"
   ]
  },
  {
   "cell_type": "code",
   "execution_count": null,
   "metadata": {},
   "outputs": [],
   "source": [
    "pandas.concat([\n",
    "    df.present_cost_expansion.rename(\"CoreModel\"),\n",
    "    mm.function.predict(df_p, trend_only=True)['present_cost_expansion'].rename('Trend')\n",
    "], axis=1)"
   ]
  },
  {
   "cell_type": "code",
   "execution_count": null,
   "metadata": {},
   "outputs": [],
   "source": [
    "mm.function.predict(df_p, trend_only=True)"
   ]
  },
  {
   "cell_type": "code",
   "execution_count": null,
   "metadata": {},
   "outputs": [],
   "source": [
    "from matplotlib import pyplot as plt"
   ]
  },
  {
   "cell_type": "code",
   "execution_count": null,
   "metadata": {},
   "outputs": [],
   "source": [
    "\n",
    "fig, ax = plt.subplots()\n",
    "ax.scatter(\n",
    "    df.unit_cost_expansion, \n",
    "    df.expand_capacity, \n",
    "    c=df.present_cost_expansion,\n",
    ")\n",
    "plt.show()\n",
    "plt.close(fig)\n"
   ]
  },
  {
   "cell_type": "code",
   "execution_count": null,
   "metadata": {},
   "outputs": [],
   "source": [
    "df.info()"
   ]
  },
  {
   "cell_type": "code",
   "execution_count": null,
   "metadata": {},
   "outputs": [],
   "source": [
    "aug_mm[0].function.cross_val_scores()"
   ]
  },
  {
   "cell_type": "code",
   "execution_count": null,
   "metadata": {},
   "outputs": [],
   "source": [
    "aug_mm[2].function.input_sample"
   ]
  },
  {
   "cell_type": "code",
   "execution_count": null,
   "metadata": {},
   "outputs": [],
   "source": [
    "# aug_cv[aug] = aug_mm[aug].function.cross_val_scores()\n",
    "\n"
   ]
  },
  {
   "cell_type": "code",
   "execution_count": null,
   "metadata": {},
   "outputs": [],
   "source": []
  }
 ],
 "metadata": {
  "kernelspec": {
   "display_name": "Python [conda env:EMAT]",
   "language": "python",
   "name": "conda-env-EMAT-py"
  },
  "language_info": {
   "codemirror_mode": {
    "name": "ipython",
    "version": 3
   },
   "file_extension": ".py",
   "mimetype": "text/x-python",
   "name": "python",
   "nbconvert_exporter": "python",
   "pygments_lexer": "ipython3",
   "version": "3.6.7"
  }
 },
 "nbformat": 4,
 "nbformat_minor": 2
}
