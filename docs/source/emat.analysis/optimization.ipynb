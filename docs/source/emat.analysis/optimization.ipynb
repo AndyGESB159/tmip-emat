{
 "cells": [
  {
   "cell_type": "markdown",
   "metadata": {},
   "source": [
    "# Optimization"
   ]
  },
  {
   "cell_type": "markdown",
   "metadata": {},
   "source": [
    "Typically, transportation policy planning models will be used to\n",
    "try to find policies that provide the \"best\" outcomes.  In a traditional\n",
    "analytical environment, that typically means using models to find optimal outcomes\n",
    "for performance measures, possibly subject to some assumptions about the\n",
    "future values of various possible exogenous uncertainties that may \n",
    "impact the models."
   ]
  },
  {
   "cell_type": "markdown",
   "metadata": {},
   "source": [
    "## Optimization Tools\n",
    "\n",
    "Transportation models as used in the TMIP-EMAT frawework are \n",
    "generally characterized by two important features: they are \n",
    "subject to significant exogenous uncertainties about the future\n",
    "state of the world, and they include numerous performance measures\n",
    "for which decision makers would like to see good outcomes. Therefore,\n",
    "optimization tools applied to these models should be \n",
    "flexible to consider *multiple objectives*,\n",
    "as well as be *robust* against uncertainty."
   ]
  },
  {
   "cell_type": "markdown",
   "metadata": {},
   "source": [
    "### Multi-Objective Optimization"
   ]
  },
  {
   "cell_type": "markdown",
   "metadata": {},
   "source": [
    "With exploratory modeling, optimization is also often undertaken as a \n",
    "[multi-objective optimization](https://en.wikipedia.org/wiki/Multi-objective_optimization) exercise, where multiple\n",
    "and possibly conflicting performance measures need to be addressed simultaneously. \n",
    "A road capacity expansion project is a good example of a multi-objective optimization \n",
    "problem. In such a situation, we want to expand the capacity of a roadway, both minimizing\n",
    "the costs and maximizing the travel time benefits.  A smaller expansion project will cost less\n",
    "but also provide lesser benefits.  Funding it with variable rate debt might \n",
    "decrease expected future costs but doing so entails more risk than fixed-rate debt."
   ]
  },
  {
   "cell_type": "markdown",
   "metadata": {},
   "source": [
    "One approach to managing a multi-objective optimization problem is to distill it \n",
    "into a single objective problem, by assigning relative weights to the various \n",
    "objectives.  For a variety of reasons, this can be difficult to accomplish in public policy environments that are common in transportation planning. \n",
    "Multiple stakeholders may have different\n",
    "priorities and may not be able to agree on a relative weighting structure.  \n",
    "Certain small improvements in a performance measure may be valued very differently \n",
    "if they tip the measure over a regulated threshold (e.g. to attain a particular \n",
    "mandated level of emissions or air quality).\n",
    "\n",
    "Instead of trying to simplify a multi-objective into a simple-objective one,\n",
    "an alternate approach is to preserve the multi-objective nature of the problem\n",
    "and find a set or spectrum of different solutions, each of which solves the problem\n",
    "at a different weighting of the various objectives.  Decision makers can then\n",
    "review the various different solutions, and make judgements about the various\n",
    "trade-offs implicit in choosing one path over another.\n",
    "\n",
    "Within a set of solutions for this kind of problem, each individual solution is \n",
    "\"[Pareto optimal](https://en.wikipedia.org/wiki/Pareto_efficiency)\", such that\n",
    "no individual objective can be improved without degrading at least one other\n",
    "objective by some amount.  Thus, each of these solutions might be the \"best\"\n",
    "policy to adopt, and exactly which is the best is left as a subjective judgement\n",
    "to decision makers, instead of being a concretely objective evaluation based \n",
    "on mathematics alone."
   ]
  },
  {
   "cell_type": "markdown",
   "metadata": {},
   "source": [
    "### Robust Optimization"
   ]
  },
  {
   "cell_type": "markdown",
   "metadata": {},
   "source": [
    "Robust optimization is a variant of the more traditional optimization\n",
    "problem, where we will try to find policies that yield *good* outcomes\n",
    "across a range of possible futures, instead of trying to find a policy\n",
    "that delivers the *best* outcome for a particular future.\n",
    "\n",
    "To conceptualize this, let us consider a decision where there are four\n",
    "possible policies to choose among, a single exogenous uncertainty that\n",
    "will impact the future, and a single performance measure that we would\n",
    "like to mimimize.  We have a model that can forecast the performance \n",
    "measure, conditional on the chosen policy and the future value of the\n",
    "exogenous uncertainty, and which gives us a forecasts as shown below."
   ]
  },
  {
   "cell_type": "code",
   "execution_count": 1,
   "metadata": {
    "nbsphinx": "hidden"
   },
   "outputs": [],
   "source": [
    "import numpy\n",
    "from matplotlib import pyplot as plt\n",
    "x = numpy.linspace(0,1)\n",
    "y1 = x**3 + numpy.cos((x-3)*23)*.01\n",
    "y2 = x**3 + .1 + numpy.sin((x-3)*23)*.01\n",
    "y3 = 1.3*(1-x)**17 + numpy.cos((x-3)*23)*.01 + .1\n",
    "y4 = numpy.sin((x-3)*23)*.01+0.16 + .1*(x-0.5)\n",
    "\n",
    "linestyles = [\n",
    "    dict(ls='-', c='blue'),\n",
    "    dict(ls=':', c='orange'),\n",
    "    dict(ls='-.', c='green'),\n",
    "    dict(ls='--', c='red'),\n",
    "]\n",
    "\n",
    "fig, ax = plt.subplots(1,1)\n",
    "ax.plot(x, y1, **linestyles[0], label=\"Policy 1\")\n",
    "ax.plot(x, y2, **linestyles[1], label=\"Policy 2\")\n",
    "ax.plot(x, y3, **linestyles[2], label=\"Policy 3\")\n",
    "ax.plot(x, y4, **linestyles[3], label=\"Policy 4\")\n",
    "ax.set_ylabel(\"Performance Measure\\n← Lower is Better ←\")\n",
    "ax.set_xlabel(\"Exogenous Uncertainty\")\n",
    "ax.legend()\n",
    "ax.set_title(\"Example Simple Forecasting Experiment\")\n",
    "\n",
    "plt.savefig(\"robust_example.png\");"
   ]
  },
  {
   "cell_type": "raw",
   "metadata": {
    "raw_mimetype": "text/restructuredtext"
   },
   "source": [
    "..image: robust_example.png"
   ]
  },
  {
   "cell_type": "markdown",
   "metadata": {},
   "source": [
    "In a naive optimization approach, if we want to minimize the performance\n",
    "measure, we can do so by selecting Policy 1 and setting the exogenous\n",
    "uncertainty to 0.1.  Of course, in application we are able to select\n",
    "Policy 1, but we are unable to actually control the exogenous uncertainty\n",
    "(hence, \"exogenous\") and we may very well end up with a very bad result\n",
    "on the right side of the figure.\n",
    "\n",
    "We can see from the figure that, depending on the ultimate value for \n",
    "the exogenous uncertainty, either Policy 1 or Policy 3 might yield the\n",
    "best possible value of the performace measure.  However, both of these\n",
    "policies come with substantial risks as well -- in each Policy there are\n",
    "some futures where the results are optimal, but there are also some \n",
    "futures where the results are exceptionally poor.\n",
    "\n",
    "In contrast with these optimal policies, Policy 4 may be considered a \n",
    "\"robust\" solution.  Although there is no value of the exogenous \n",
    "uncertainty where Policy 4 yields the best possible outcome, there is\n",
    "also no future where Policy 4 yields a very poor outcome.  Instead, across\n",
    "all futures it is always generating a \"pretty good\" outcome.\n",
    "\n",
    "Different expectations for the future may lead to different policy \n",
    "choices.  If the decision maker feels that low values of the exogenous\n",
    "uncertainty are much more likely than high values, Policy 1 might be\n",
    "the best policy to choose.  If high values of the exogenous uncertainty\n",
    "are expected, then Policy 3 might be the best choice.  If there is not\n",
    "much agreement on the probable future values of the exogenous uncertainty,\n",
    "or if decision makers want to adopt a risk-averse stance, then Policy 4\n",
    "might be the best choice.  \n",
    "\n",
    "The remaining policy shown in the figure, Policy 2, is the lone holdout \n",
    "in this example -- there is no set of expectations about the future, or\n",
    "attitudes toward risk, that can make this policy the best choice.  This\n",
    "is because, no matter what the future value of the exogenous uncertainty\n",
    "may be, the performance measure has a better outcome from Policy 1 than\n",
    "from Policy 2.  In this circumstance, we can say that Policy 2 is \n",
    "\"dominated\" and should never be chosen by decision makers."
   ]
  },
  {
   "cell_type": "markdown",
   "metadata": {},
   "source": [
    "#### Robustness Functions"
   ]
  },
  {
   "cell_type": "markdown",
   "metadata": {},
   "source": [
    "To perform robust optimization in EMAT, we need a core model (or meta-model)\n",
    "with defined input and output parameters, as well a set of functions called\n",
    "\"robustness measures\" that define what a \"robust\" measure represents.  \n",
    "As noted above, different expectations about future states of the world\n",
    "can lead to different rankings of policy options.  In addition, different\n",
    "attitudes towards risk can result in different robustness measures that are\n",
    "derived from the same underlying modeled performance measures.  \n",
    "\n",
    "For example, consider the *Example Simple Forecasting Experiment* shown above.\n",
    "In this example, we could compute a robustness measure for each policy where\n",
    "we calculate the maximum value of the performance measure across any possible\n",
    "value of the exogenous uncertainty.  This value is shown in the first column\n",
    "of robustness measures in the figure below, and under this measure Policy 4 is\n",
    "far and away the best choice. "
   ]
  },
  {
   "cell_type": "code",
   "execution_count": null,
   "metadata": {
    "nbsphinx": "hidden"
   },
   "outputs": [],
   "source": [
    "fig, ax = plt.subplots(\n",
    "    1,6, sharey=True, \n",
    "    gridspec_kw=dict(width_ratios=[7,1,1,1,1,1], wspace=0.05,), \n",
    "    figsize=[8, 4.],\n",
    ")\n",
    "\n",
    "\n",
    "ax[0].plot(x, y1, **linestyles[0], label=\"Policy 1\")\n",
    "ax[0].plot(x, y2, **linestyles[1], label=\"Policy 2\")\n",
    "ax[0].plot(x, y3, **linestyles[2], label=\"Policy 3\")\n",
    "ax[0].plot(x, y4, **linestyles[3], label=\"Policy 4\")\n",
    "ax[1].plot([0,1], [y1.max()]*2, **linestyles[0], lw=2)\n",
    "ax[1].plot([0,1], [y2.max()]*2, **linestyles[1], lw=2)\n",
    "ax[1].plot([0,1],[y3.max()]*2, **linestyles[2],  lw=2)\n",
    "ax[1].plot([0,1], [y4.max()]*2, **linestyles[3], lw=2)\n",
    "\n",
    "ax[2].plot([0,1], [y1.mean()]*2, **linestyles[0], lw=2)\n",
    "ax[2].plot([0,1], [y2.mean()]*2, **linestyles[1], lw=2)\n",
    "ax[2].plot([0,1],[y3.mean()]*2, **linestyles[2],  lw=2)\n",
    "ax[2].plot([0,1], [y4.mean()]*2, **linestyles[3], lw=2)\n",
    "\n",
    "ax[3].plot([0,1], [numpy.median(y1)]*2, **linestyles[0], lw=2)\n",
    "ax[3].plot([0,1], [numpy.median(y2)]*2, **linestyles[1], lw=2)\n",
    "ax[3].plot([0,1], [numpy.median(y3)]*2, **linestyles[2],  lw=2)\n",
    "ax[3].plot([0,1], [numpy.median(y4)]*2, **linestyles[3], lw=2)\n",
    "\n",
    "ax[4].plot([0,1], [numpy.percentile(y1, 90)]*2, **linestyles[0], lw=2)\n",
    "ax[4].plot([0,1], [numpy.percentile(y2, 90)]*2, **linestyles[1], lw=2)\n",
    "ax[4].plot([0,1], [numpy.percentile(y3, 90)]*2, **linestyles[2],  lw=2)\n",
    "ax[4].plot([0,1], [numpy.percentile(y4, 90)]*2, **linestyles[3], lw=2)\n",
    "\n",
    "ax[5].plot([0,1], [y1.min()]*2, **linestyles[0], lw=2)\n",
    "ax[5].plot([0,1], [y2.min()]*2, **linestyles[1], lw=2)\n",
    "ax[5].plot([0,1], [y3.min()]*2, **linestyles[2], lw=2)\n",
    "ax[5].plot([0,1], [y4.min()]*2, **linestyles[3], lw=2)\n",
    "\n",
    "\n",
    "ax[0].set_ylabel(\"Performance Measure\\n← Lower is Better ←\")\n",
    "ax[0].set_xlabel(\"Exogenous Uncertainty\")\n",
    "ax[0].legend()\n",
    "ax[0].set_title(\"Example Simple Forecasting Experiment\")\n",
    "ax[3].set_title(\"Robustness Measures\")\n",
    "ax[1].set_xlabel(\"Max\\nPM\")\n",
    "ax[2].set_xlabel(\"Mean\\nPM\")\n",
    "ax[3].set_xlabel(\"Median\\nPM\")\n",
    "ax[4].set_xlabel(\"90%ile\\nPM\")\n",
    "ax[5].set_xlabel(\"Min\\nPM\")\n",
    "ax[-1].yaxis.set_label_position(\"right\")\n",
    "for a in [1,2,3,4,5]:\n",
    "    ax[a].set_xticks([])\n",
    "    ax[a].set_yticks([])\n",
    "plt.savefig(\"robust_measures.png\");\n"
   ]
  },
  {
   "cell_type": "raw",
   "metadata": {
    "raw_mimetype": "text/restructuredtext"
   },
   "source": [
    "..image: robust_measures.png"
   ]
  },
  {
   "cell_type": "markdown",
   "metadata": {},
   "source": [
    "The \"maximum performance measure result\" robustness function is a very\n",
    "risk averse approach, as no consideration is given to the shape or distribution\n",
    "of performance measure values other than the maximum.  Consider these same\n",
    "policies shown if Policy 4 is not available. In this case, the next best \n",
    "policy under this robustness function is Policy 1, as it has the next lowest\n",
    "maximum value.  However, when we look at\n",
    "a comparison between Policies 1 and 3 in aggregate, we might easily conclude\n",
    "that Policy 3 is a better choice overall: it is better than Policy 1 on average,\n",
    "as judged by the mean, median, and 90th percentile measures.  The only reason \n",
    "Policy 3 appears worse than Policy 1 on the initial robustness function is that \n",
    "it has an especially poor outcome at one extreme end of the uncertainty \n",
    "distribution.  Depending on our attitude towards risk on this performance measure,\n",
    "we may want to consider using some of these alternative robustness functions.\n",
    "An additional consideration here is that the various robustness measures\n",
    "in this example case are all unweighted measures: they implicitly assume a \n",
    "uniform probability distribution for the entire range of possible values for\n",
    "the exogenous uncertainty.  If we are able to develop a probability distribution\n",
    "on our expectations for the future values of the exogenous uncertainties,\n",
    "we can use that probability distribution to weight the robustness functions\n",
    "appropriately, creating more meaningful values, particularly for the non-extreme\n",
    "value robustness functions (i.e., everything except the min and max)."
   ]
  },
  {
   "cell_type": "markdown",
   "metadata": {},
   "source": [
    "## Mechanics of Using Optimization"
   ]
  },
  {
   "cell_type": "markdown",
   "metadata": {},
   "source": [
    "### Policy Optimization: Search over Levers"
   ]
  },
  {
   "cell_type": "markdown",
   "metadata": {},
   "source": [
    "The simplest optimization tool available for TMIP-EMAT users is \n",
    "a *search over policy levers*, which represents multi-objective\n",
    "optimization, manipulating policy lever values to find a Pareto\n",
    "optimal set of solutions, holding the exogenous uncertainties\n",
    "fixed at a particular value for each uncertainty (typically at \n",
    "the default values).  This is often a useful first step\n",
    "in exploratory analysis, even if your ultimate goal is to \n",
    "eventually undertake a robust optimization analysis.  This less\n",
    "complex optimization can give insights into tradeoffs between\n",
    "performance measures and reasonable combinations of policy levers.\n",
    "\n",
    "To demonstrate a search over levers, we'll use the Road Test \n",
    "example model."
   ]
  },
  {
   "cell_type": "code",
   "execution_count": 2,
   "metadata": {},
   "outputs": [],
   "source": [
    "import emat.examples\n",
    "scope, db, model = emat.examples.road_test()"
   ]
  },
  {
   "cell_type": "markdown",
   "metadata": {},
   "source": [
    "The scope defined for a model in TMIP-EMAT will already provide\n",
    "information about the preferred directionality of performance\n",
    "measures (i.e., 'maximize' when larger values are better,\n",
    "'minimize' when smaller values are better, or 'info' when we\n",
    "do not have a preference for bigger or smaller values, but we \n",
    "just want to be tracking the measure).  We can see these\n",
    "preferences for any particular performance measure by inspecting\n",
    "the scope definition file, or by using the `info` method of\n",
    "`emat.Measure` instances."
   ]
  },
  {
   "cell_type": "code",
   "execution_count": 3,
   "metadata": {},
   "outputs": [
    {
     "name": "stdout",
     "output_type": "stream",
     "text": [
      "net_benefits:\n",
      "  kind: maximize\n"
     ]
    }
   ],
   "source": [
    "scope['net_benefits'].info()"
   ]
  },
  {
   "cell_type": "markdown",
   "metadata": {},
   "source": [
    "To conduct an optimization search over levers, we'll use the \n",
    "`optimize` method of the TMIP-EMAT model class, setting the\n",
    "`search_over` argument to `'levers'`.  In this example, we will\n",
    "set the number of function evaluations (`nfe`) to 10,000, although\n",
    "for other models you may need more or fewer to achieve a good, \n",
    "well converged result.  In a Jupyter notebook environment, \n",
    "we can monitor convergence visually in real time in the figures\n",
    "that will appear automatically."
   ]
  },
  {
   "cell_type": "code",
   "execution_count": 4,
   "metadata": {},
   "outputs": [
    {
     "data": {
      "application/vnd.jupyter.widget-view+json": {
       "model_id": "afbafea5646b4ac086bc9d39b55b439d",
       "version_major": 2,
       "version_minor": 0
      },
      "text/plain": [
       "ConvergenceMetrics(children=(FigureWidget({\n",
       "    'data': [{'fill': 'tonexty',\n",
       "              'line': {'shape': '…"
      ]
     },
     "metadata": {},
     "output_type": "display_data"
    }
   ],
   "source": [
    "result = model.optimize(\n",
    "    nfe=10_000, \n",
    "    searchover='levers', \n",
    "    check_extremes=1,\n",
    "    cache_file='./optimization_cache/road_test_search_over_levers.gz',\n",
    ")"
   ]
  },
  {
   "cell_type": "markdown",
   "metadata": {},
   "source": [
    "The `optimize` method returns an `OptimizationResult` object, \n",
    "which contains the resulting solutions, as well as some information\n",
    "about how they were derived.  We can review the raw values of the\n",
    "solutions as a pandas DataFrame, or see the scenario values used \n",
    "to generate these solutions."
   ]
  },
  {
   "cell_type": "code",
   "execution_count": 5,
   "metadata": {},
   "outputs": [
    {
     "data": {
      "text/html": [
       "<div>\n",
       "<style scoped>\n",
       "    .dataframe tbody tr th:only-of-type {\n",
       "        vertical-align: middle;\n",
       "    }\n",
       "\n",
       "    .dataframe tbody tr th {\n",
       "        vertical-align: top;\n",
       "    }\n",
       "\n",
       "    .dataframe thead th {\n",
       "        text-align: right;\n",
       "    }\n",
       "</style>\n",
       "<table border=\"1\" class=\"dataframe\">\n",
       "  <thead>\n",
       "    <tr style=\"text-align: right;\">\n",
       "      <th></th>\n",
       "      <th>expand_capacity</th>\n",
       "      <th>amortization_period</th>\n",
       "      <th>debt_type</th>\n",
       "      <th>interest_rate_lock</th>\n",
       "      <th>build_travel_time</th>\n",
       "      <th>time_savings</th>\n",
       "      <th>value_of_time_savings</th>\n",
       "      <th>net_benefits</th>\n",
       "      <th>cost_of_capacity_expansion</th>\n",
       "    </tr>\n",
       "  </thead>\n",
       "  <tbody>\n",
       "    <tr>\n",
       "      <td>0</td>\n",
       "      <td>43.450483</td>\n",
       "      <td>50</td>\n",
       "      <td>Paygo</td>\n",
       "      <td>True</td>\n",
       "      <td>62.125370</td>\n",
       "      <td>6.874630</td>\n",
       "      <td>6.874630</td>\n",
       "      <td>-103.979417</td>\n",
       "      <td>110.854047</td>\n",
       "    </tr>\n",
       "    <tr>\n",
       "      <td>1</td>\n",
       "      <td>15.332477</td>\n",
       "      <td>50</td>\n",
       "      <td>Paygo</td>\n",
       "      <td>True</td>\n",
       "      <td>65.086699</td>\n",
       "      <td>3.913301</td>\n",
       "      <td>3.913301</td>\n",
       "      <td>-35.204034</td>\n",
       "      <td>39.117335</td>\n",
       "    </tr>\n",
       "    <tr>\n",
       "      <td>2</td>\n",
       "      <td>92.259130</td>\n",
       "      <td>50</td>\n",
       "      <td>Paygo</td>\n",
       "      <td>False</td>\n",
       "      <td>60.658711</td>\n",
       "      <td>8.341289</td>\n",
       "      <td>8.341289</td>\n",
       "      <td>-227.036946</td>\n",
       "      <td>235.378235</td>\n",
       "    </tr>\n",
       "    <tr>\n",
       "      <td>3</td>\n",
       "      <td>3.931966</td>\n",
       "      <td>50</td>\n",
       "      <td>Paygo</td>\n",
       "      <td>True</td>\n",
       "      <td>67.713402</td>\n",
       "      <td>1.286598</td>\n",
       "      <td>1.286598</td>\n",
       "      <td>-8.744919</td>\n",
       "      <td>10.031518</td>\n",
       "    </tr>\n",
       "    <tr>\n",
       "      <td>4</td>\n",
       "      <td>63.297905</td>\n",
       "      <td>50</td>\n",
       "      <td>Paygo</td>\n",
       "      <td>False</td>\n",
       "      <td>61.265669</td>\n",
       "      <td>7.734331</td>\n",
       "      <td>7.734331</td>\n",
       "      <td>-153.755912</td>\n",
       "      <td>161.490243</td>\n",
       "    </tr>\n",
       "  </tbody>\n",
       "</table>\n",
       "</div>"
      ],
      "text/plain": [
       "   expand_capacity  amortization_period debt_type  interest_rate_lock  \\\n",
       "0        43.450483                   50     Paygo                True   \n",
       "1        15.332477                   50     Paygo                True   \n",
       "2        92.259130                   50     Paygo               False   \n",
       "3         3.931966                   50     Paygo                True   \n",
       "4        63.297905                   50     Paygo               False   \n",
       "\n",
       "   build_travel_time  time_savings  value_of_time_savings  net_benefits  \\\n",
       "0          62.125370      6.874630               6.874630   -103.979417   \n",
       "1          65.086699      3.913301               3.913301    -35.204034   \n",
       "2          60.658711      8.341289               8.341289   -227.036946   \n",
       "3          67.713402      1.286598               1.286598     -8.744919   \n",
       "4          61.265669      7.734331               7.734331   -153.755912   \n",
       "\n",
       "   cost_of_capacity_expansion  \n",
       "0                  110.854047  \n",
       "1                   39.117335  \n",
       "2                  235.378235  \n",
       "3                   10.031518  \n",
       "4                  161.490243  "
      ]
     },
     "execution_count": 5,
     "metadata": {},
     "output_type": "execute_result"
    }
   ],
   "source": [
    "result.result.head()"
   ]
  },
  {
   "cell_type": "code",
   "execution_count": 6,
   "metadata": {},
   "outputs": [
    {
     "data": {
      "text/plain": [
       "Scenario({'alpha': 0.15, 'beta': 4.0, 'input_flow': 100, 'value_of_time': 0.01, 'unit_cost_expansion': 100, 'interest_rate': 0.03, 'yield_curve': 0.01})"
      ]
     },
     "execution_count": 6,
     "metadata": {},
     "output_type": "execute_result"
    }
   ],
   "source": [
    "result.scenario"
   ]
  },
  {
   "cell_type": "markdown",
   "metadata": {},
   "source": [
    "We can visualize the set of solutions using a\n",
    "[parallel coordinates](https://en.wikipedia.org/wiki/Parallel_coordinates) \n",
    "plot.  This figure is composed of a number of vertical axes, one for each \n",
    "column of data in the results DataFrame.  Each row of the DataFrame is\n",
    "represented by a chord that connects across each of the vertical axes.\n",
    "\n",
    "By default, the axes representing performace measures to be minimized are\n",
    "inverted in the parallel coordinates, such that moving up along any \n",
    "performance measure axis results in a \"better\" outcome for that performance\n",
    "measure.\n",
    "\n",
    "In the figure below, we can quickly see that all the all of the Pareto\n",
    "optimal policy solutions for our reference scenario share an amortization\n",
    "period of 50 years and a debt type of 'Paygo'.  By contrast, the set of \n",
    "solutions include multiple different values for the expand capacity lever,\n",
    "ranging from 0 to 100.  These different values offer possible tradeoffs \n",
    "among the performance measures: lower levels of capacity expansion (shown\n",
    "in yellow) will maximize net benefits and minimize the cost of the project,\n",
    "but they will also fail to provide much travel time savings.  Conversely,\n",
    "larger levels of capacity expansion will provide better travel time savings, \n",
    "but will not perform as well on costs.  It is left up the the analysts and\n",
    "decision makers to judge what tradeoffs to make between these conflicting\n",
    "goals."
   ]
  },
  {
   "cell_type": "code",
   "execution_count": 7,
   "metadata": {},
   "outputs": [
    {
     "data": {
      "application/vnd.jupyter.widget-view+json": {
       "model_id": "ebfd5943a0734d189d158b349195ed9a",
       "version_major": 2,
       "version_minor": 0
      },
      "text/plain": [
       "ParCoordsViewer(children=(FigureWidget({\n",
       "    'data': [{'dimensions': [{'label': '(L) expand_capacity',\n",
       "       …"
      ]
     },
     "metadata": {},
     "output_type": "display_data"
    }
   ],
   "source": [
    "result.par_coords()"
   ]
  },
  {
   "cell_type": "markdown",
   "metadata": {},
   "source": [
    "### Worst Case Discovery: Search over Uncertainties"
   ]
  },
  {
   "cell_type": "markdown",
   "metadata": {},
   "source": [
    "We can apply the same multiobjective optimization tool in reverse to \n",
    "study the worst case outcomes from any particular set of policy lever\n",
    "settings.  To do so, we switch out the `searchover` argument from\n",
    "`'levers'` to `'uncertainties'`, and set `reverse_targets` to True,\n",
    "which will tell the optimization engine to search for the worst outcomes\n",
    "instead of the best ones.  We'll often also want to override the reference\n",
    "policy values with selected particular values, although it's possible\n",
    "to omit this reference argument to search for the worst case scenarios\n",
    "under the default policy lever settings."
   ]
  },
  {
   "cell_type": "code",
   "execution_count": 8,
   "metadata": {},
   "outputs": [
    {
     "data": {
      "application/vnd.jupyter.widget-view+json": {
       "model_id": "0d13e488c9194241959def8382c82ebb",
       "version_major": 2,
       "version_minor": 0
      },
      "text/plain": [
       "ConvergenceMetrics(children=(FigureWidget({\n",
       "    'data': [{'fill': 'tonexty',\n",
       "              'line': {'shape': '…"
      ]
     },
     "metadata": {},
     "output_type": "display_data"
    }
   ],
   "source": [
    "worst = model.optimize(\n",
    "    nfe=10_000, \n",
    "    searchover='uncertainties', \n",
    "    reverse_targets = True,\n",
    "    check_extremes=1,\n",
    "    cache_file='./optimization_cache/road_test_search_over_uncs.gz',\n",
    "    reference={\n",
    "        'expand_capacity': 100.0, \n",
    "        'amortization_period': 50, \n",
    "        'debt_type': 'PayGo', \n",
    "        'interest_rate_lock': False,\n",
    "    }\n",
    ")"
   ]
  },
  {
   "cell_type": "code",
   "execution_count": 9,
   "metadata": {},
   "outputs": [
    {
     "data": {
      "application/vnd.jupyter.widget-view+json": {
       "model_id": "931828d2c64f44e9817e7ac44010a742",
       "version_major": 2,
       "version_minor": 0
      },
      "text/plain": [
       "ParCoordsViewer(children=(FigureWidget({\n",
       "    'data': [{'dimensions': [{'label': '(X) alpha',\n",
       "                 …"
      ]
     },
     "metadata": {},
     "output_type": "display_data"
    }
   ],
   "source": [
    "worst.par_coords()"
   ]
  },
  {
   "cell_type": "markdown",
   "metadata": {},
   "source": [
    "### Robust Optimization"
   ]
  },
  {
   "cell_type": "markdown",
   "metadata": {},
   "source": [
    "As dicsussed above, implementing robust optimization requires the\n",
    "definition of relevant robustness functions.  Because the functional\n",
    "form of these functions can be so many different things depending on\n",
    "the particular application, TMIP-EMAT does not implement a mechanism\n",
    "to generate them automatically.  Instead, it is left to the analyst to\n",
    "develop a set of robustness functions that are appropriate for each\n",
    "application.\n",
    "\n",
    "Each robustness function represents an aggregate performance measure,\n",
    "calculated based on the results from a group of individual runs of the\n",
    "underlying core model (or meta-model).  These runs are conducted with\n",
    "a common set of policy lever settings, and a variety of different \n",
    "exogenous uncertainty scenarios.  This allows us to create aggregate \n",
    "measures that encapsulate not only a point value but also a statistical\n",
    "measurement of the distribution of the actual performance measures\n",
    "output from the model.\n"
   ]
  },
  {
   "cell_type": "code",
   "execution_count": null,
   "metadata": {},
   "outputs": [],
   "source": [
    "expected_net_benefit = Measure(\n",
    "    name='Expected Net Benefit',\n",
    "    kind=Measure.MAXIMIZE,\n",
    "    variable_name='net_benefits',\n",
    "    function=numpy.mean,\n",
    ")\n"
   ]
  },
  {
   "cell_type": "code",
   "execution_count": null,
   "metadata": {},
   "outputs": [],
   "source": [
    "expected_build_travel_time = Measure(\n",
    "        name='Expected Build Travel Time',\n",
    "        kind=Measure.INFO, \n",
    "        variable_name='build_travel_time', \n",
    "        function=numpy.mean,\n",
    ")"
   ]
  },
  {
   "cell_type": "code",
   "execution_count": null,
   "metadata": {},
   "outputs": [],
   "source": [
    "robustness_functions = [\n",
    "    Measure(\n",
    "        'Expected Build Travel Time',\n",
    "        kind = Measure.INFO, \n",
    "        variable_name = 'build_travel_time', \n",
    "        function = numpy.mean,\n",
    "    ),\n",
    "    Measure(\n",
    "        'Expected Time Savings',\n",
    "        kind = Measure.INFO, \n",
    "        variable_name = 'time_savings', \n",
    "        function = numpy.mean,\n",
    "    ),\n",
    "    Measure(\n",
    "        'Expected Net Benefit',\n",
    "        kind = Measure.MAXIMIZE,\n",
    "        variable_name = 'net_benefits',\n",
    "        function = numpy.mean, min = 0, max = 1000,\n",
    "    ),\n",
    "    Measure(\n",
    "        '95%ile Capacity Expansion Cost',\n",
    "        kind = Measure.MINIMIZE,\n",
    "        variable_name = 'cost_of_capacity_expansion', \n",
    "        function = functools.partial(numpy.percentile, q = 95), \n",
    "    ),\n",
    "    Measure(\n",
    "        '99%ile Value of Time Saving',\n",
    "        kind = Measure.MAXIMIZE, \n",
    "        variable_name = 'value_of_time_savings',\n",
    "        function = functools.partial(numpy.percentile, q = 99),\n",
    "    )\n",
    "]"
   ]
  },
  {
   "cell_type": "code",
   "execution_count": null,
   "metadata": {},
   "outputs": [],
   "source": []
  },
  {
   "cell_type": "code",
   "execution_count": null,
   "metadata": {},
   "outputs": [],
   "source": []
  },
  {
   "cell_type": "code",
   "execution_count": null,
   "metadata": {},
   "outputs": [],
   "source": []
  },
  {
   "cell_type": "markdown",
   "metadata": {},
   "source": [
    "We may also want to use some constraints to define our desired solution space for optimization. It is also a good idea to track the progress of optimization using appropriate convergence metrics.\n",
    "\n",
    "In this notebook, we will use EMAT to demonstrate how we can implement robust optimization to obtain optimal decisions. We will consider an example of road capacity expansion project to find out feasible decision alternatives regarding the investment for capacity expansion on a single network link. We will use BPR function as the volume-delay function to calculate the average travel time for various scenarios. The parameters in the core model can be constants, uncertainties and/or policy levers. Some examples of each type of model parameters are listed below:\n",
    "* Constant: Free flow travel time, initial capacity, etc.\n",
    "* Uncertainty: BPR alpha and beta parameter, average flow on the link, per unit cost of capacity expansion, interest rate, etc.\n",
    "* Policy Lever: Expected capacity expansion, amortization period, type of financing, etc. \n",
    "\n",
    "The outputs from this model can be referred to as outcome measures such as average travel time and travel time savings after capacity expansion, the net benefit of the project due to expansion and annual payment amount to finance the expansion. We will use robust optimization, in this case, to find out a set of solutions depending on these measures that are used as the robustness metrics in the optimization process. For example, we may expect to see what our decisions should be regarding the unit cost of capacity expansion, interest rate, amortization period, and type of financing in order to maximize the value of time savings due to expansion. In other words, we want to obtain solutions that interpret the relations between selected performance measures and decision parameters which include both policy levers and uncertainties. Likewise, it is also possible to understand the relationship between different outcome measures and their relative impact on each other. For instance, we can examine what the expected value of time savings would be if we plan to minimize the unit cost of capacity expansion."
   ]
  },
  {
   "cell_type": "markdown",
   "metadata": {},
   "source": [
    "#### Getting Started"
   ]
  },
  {
   "cell_type": "markdown",
   "metadata": {},
   "source": [
    "We will start with importing a bunch of python packages along with `emat` that we need for robust optimization. We also need a scope file to create a model object where uncertainties, policy levers and performance measures for core/meta-models are defined using a recommended format. We use `emat.Scope()` to create a `Scope` object. Then, we create a database and store the `Scope` object using `.store_scope(emat.SQLiteDB())`. We can view the names of the scopes stored in database using `.read_scope_names()` method. We may turn on the logger to record logs of all processes involved."
   ]
  },
  {
   "cell_type": "code",
   "execution_count": null,
   "metadata": {},
   "outputs": [],
   "source": [
    "# Import packages\n",
    "\n",
    "import emat, ema_workbench, os, numpy, pandas, functools\n",
    "from emat.util.xmle import Show\n",
    "import matplotlib.pyplot as plt\n",
    "logger = emat.util.loggers.log_to_stderr(20, True)"
   ]
  },
  {
   "cell_type": "code",
   "execution_count": null,
   "metadata": {},
   "outputs": [],
   "source": [
    "# Create scope object and store in database\n",
    "\n",
    "road_scope = emat.Scope(emat.package_file('model','tests','road_test.yaml'))\n",
    "emat_db = emat.SQLiteDB()\n",
    "road_scope.store_scope(emat_db)\n",
    "emat_db.read_scope_names()"
   ]
  },
  {
   "cell_type": "markdown",
   "metadata": {},
   "source": [
    "#### Import core model"
   ]
  },
  {
   "cell_type": "markdown",
   "metadata": {},
   "source": [
    "As mentioned earlier, we require a core model to perform robust optimization in `emat`. When we have the scope stored in our database, we import this core model to define a model object using `PythonCoreModel()` class. In this example, the core model is constructed as a class and referred to as `Road_Capacity_Investment`. We also need to import an evaluator for running the optimization process. For this demonstration, `SequentialEvaluator` from `ema_workbench` is used to simplify the process."
   ]
  },
  {
   "cell_type": "code",
   "execution_count": null,
   "metadata": {},
   "outputs": [],
   "source": [
    "# Import core model and evaluator \n",
    "\n",
    "from emat.model.core_python import PythonCoreModel\n",
    "from emat.model.core_python import Road_Capacity_Investment\n",
    "from ema_workbench import SequentialEvaluator"
   ]
  },
  {
   "cell_type": "code",
   "execution_count": null,
   "metadata": {},
   "outputs": [],
   "source": [
    "# Define model object and evaluator\n",
    "\n",
    "m = PythonCoreModel(Road_Capacity_Investment, scope = road_scope, db = emat_db)\n",
    "eval_seq = SequentialEvaluator(m)"
   ]
  },
  {
   "cell_type": "markdown",
   "metadata": {},
   "source": [
    "#### Define robustness functions"
   ]
  },
  {
   "cell_type": "markdown",
   "metadata": {},
   "source": [
    "For decision analysis under data uncertainty, robustness metrics are used to quantify the robustness of policy levers over multiple scenarios using a single score. For robustness calculation, we need three types of specifications:\n",
    "* A set of policy lever parameters for which we need to calculate robustness\n",
    "* A set of performance metrics for these policy parameters\n",
    "* A set of scenarios over which the performance of policy parameters will be evaluated\n",
    "\n",
    "To learn more about how the robustness metrics are calculated, please refer to [McPhail et al. (2018)](https://agupubs.onlinelibrary.wiley.com/doi/full/10.1002/2017EF000649).\n",
    "\n",
    "In case of robust optimization, we need to define these robustness metrics in the form of robustness functions. Each robustness function can be described as an outcome measure of the core model using a class in `emat` called `Measure()`. The first argument in `Measure()` is a `str` type name for the robustness metric. We can also set the preferred direction of measures (`INFO`, `MINIMIZE` and `MAXIMIZE`) using `kind` argument. The name of outcome measures obtained from the core model is specified by `variable_name`. Finally, a callable function can be defined in `function` to transform the outcome measure as robustness metric. `min` and `max` arguments specify the minimum and maximum value respectively that should be observed for any realization of uncertainties.\n",
    "\n",
    "In this example, we define 5 robustness functions using `Measure()` method that essentially represent 5 performance metrics for the policy parameters. The first two functions are defined to indicate the expected level of performance using `INFO`. Then, we want to maximize the net benefit of this project and the value of time savings due to capacity expansion. In the meantime, we also want the unit cost for capacity expansion to be minimized. We can also consider percentile-based robustness metrics for minimization or maximization. If an outcome measure is not specified to be minimized or maximized in the optimization process, the respective `kind` argument is set to `INFO`by default.    "
   ]
  },
  {
   "cell_type": "code",
   "execution_count": null,
   "metadata": {},
   "outputs": [],
   "source": [
    "# Import Measure and Constraint from emat to define robustness metrics and constraints\n",
    "\n",
    "from emat import Measure, Constraint"
   ]
  },
  {
   "cell_type": "code",
   "execution_count": null,
   "metadata": {},
   "outputs": [],
   "source": [
    "# Define robustness functions\n",
    "\n",
    "robustness_functions = [Measure('Expected Build Travel Time', \n",
    "                                kind = Measure.INFO, \n",
    "                                variable_name = 'build_travel_time', \n",
    "                                function = numpy.mean,),\n",
    "                        Measure('Expected Time Savings', \n",
    "                                kind = Measure.INFO, \n",
    "                                variable_name = 'time_savings', \n",
    "                                function = numpy.mean,),\n",
    "                        Measure('Expected Net Benefit', \n",
    "                                kind = Measure.MAXIMIZE, \n",
    "                                variable_name = 'net_benefits', \n",
    "                                function = numpy.mean, min = 0, max = 1000),\n",
    "                        Measure('95%ile Capacity Expansion Cost', \n",
    "                                kind = Measure.MINIMIZE, \n",
    "                                variable_name = 'cost_of_capacity_expansion', \n",
    "                                function = functools.partial(numpy.percentile, q = 95), min = 0, max = 800),\n",
    "                        Measure('99%ile Value of Time Saving', \n",
    "                                kind = Measure.MAXIMIZE, \n",
    "                                variable_name = 'value_of_time_savings', \n",
    "                                function = functools.partial(numpy.percentile, q = 99), min = 0, max = 1000)]"
   ]
  },
  {
   "cell_type": "markdown",
   "metadata": {},
   "source": [
    "#### Define constraints"
   ]
  },
  {
   "cell_type": "markdown",
   "metadata": {},
   "source": [
    "The robust optimization process can be constrained to only include solutions that satisfy certain constraints. These constraints can be based on the policy lever parameters that are contained in the core model, the aggregate performance measures identified in the list of robustness functions, or some combination of levers and aggregate measures.  Importantly, the constraints *cannot* be imposed on the exogenous uncertainties, nor directly on the output measures from the core models (or the equivalent meta-model). This is because the robust version of the model aggregates a number of individual core model runs, and effectively hides these two components from the optimization engine.  \n",
    "\n",
    "One way to work around this limitation, at least on the output measures, is to write robustness functions that transmit the relevant output measures through the aggregation process. For example, to constrain the robust search only to instances where a particular output measure is always positive, then write a robustness function that takes the *minimum* value of the targeted performance measure, and write a constraint that ensures that the minimum value is always positive.  This approach should be used with caution, however, as it may severely limit the search space.\n",
    "\n",
    "In this example, we defined two constraints to consider solutions that are within the limited search space. Using the `Constraint()` method, we specify that the maximum interest rate must be less than 0.03 and minimum net benefit must be greater than 0. "
   ]
  },
  {
   "cell_type": "code",
   "execution_count": null,
   "metadata": {},
   "outputs": [],
   "source": [
    "# Define Constraints\n",
    "constraint_1 = Constraint(\"Maximum Interest Rate\", \n",
    "                          parameter_names = \"interest_rate\", \n",
    "                          function = Constraint.must_be_less_than(0.03),)\n",
    "\n",
    "constraint_2 = Constraint(\"Minimum Net Benefit\", \n",
    "                          outcome_names = \"Expected Net Benefit\", \n",
    "                          function = Constraint.must_be_greater_than(0),)"
   ]
  },
  {
   "cell_type": "markdown",
   "metadata": {},
   "source": [
    "#### Specify convergence metrics"
   ]
  },
  {
   "cell_type": "markdown",
   "metadata": {},
   "source": [
    "For any optimization problem, it is a good practice to keep track of the convergence progress using various metrics. `emat` comes with two types of convergence metrics - `HyperVolume` and `EpsilonProgress`. Both metrics are monotonous measures of convergence, so they are very useful to examine the convergence speed of optimization.\n",
    "\n",
    "Hypervolume is an interesting convergence indicator in case of multi-objective optimization. It essentially defines the dominated multi-dimensional objective space within Pareto frontier. When the hyper-volume is calculated between a specified maximum and minimum value, this metric indicates the ratio of all dominated outcomes to all possible outcomes in the multi-dimensional space. A higher value of hypervolume indicates that the solutions are good in quality in terms of their proximity and diversity. However, in most cases, all outcomes within the maximum and minimum value may not be feasible. Therefore, it is not important to have a higher or lower value of this metric to be confident of convergence. In general cases, the optimization process is considered to be reasonably converged when the value of hyper-volume remains steady over a good number of function evaluations. \n",
    "\n",
    "ε-Progress simply defines the number of solutions that are to be included in the solution set for the next generations of the evolutionary algorithm. Similar to hyper-volume, stable progress over multiple function evaluations generally indicates a reasonable convergence. \n",
    "\n",
    "We may observe earlier stability in these metrics with a lower number of function evaluations. However, a higher number of function evaluations is recommended to track the convergence progress for a longer period of time, since it gives enough confidence that optimization is sufficiently converged and the obtained solutions are feasible and closer to optimality. Again, this number should conform to the requirement and sensitivity of the problem to avoid extensive computation time and cost associated with it. "
   ]
  },
  {
   "cell_type": "code",
   "execution_count": null,
   "metadata": {},
   "outputs": [],
   "source": [
    "# Import convergence metric classes and create an object\n",
    "\n",
    "from emat.optimization import HyperVolume, EpsilonProgress, SolutionViewer, ConvergenceMetrics\n",
    "\n",
    "convergence_metrics = ConvergenceMetrics(HyperVolume.from_outcomes(robustness_functions),\n",
    "                                         EpsilonProgress(),\n",
    "                                         SolutionViewer.from_model_and_outcomes(m, robustness_functions),)"
   ]
  },
  {
   "cell_type": "markdown",
   "metadata": {},
   "source": [
    "#### Run robust optimization"
   ]
  },
  {
   "cell_type": "markdown",
   "metadata": {},
   "source": [
    "As the model object, robustness measures, constraints and convergence metrics are all defined now, we can run the optimization process on the model object using `robust_optimize()` method. There are several inputs to this method:\n",
    "* A list of robustness functions\n",
    "* Number of scenarios to be generated for evaluating the performance of policy parameters\n",
    "* Number of function evaluations\n",
    "* A list of constraints\n",
    "* Definition of Epsilon\n",
    "* Convergence metrics, and\n",
    "* Function evaluator \n",
    "\n",
    "As mentioned earlier, the number of function evaluations must be significantly higher in real applications to observe a good convergence that should return a set of optimal solutions we generally look for. `robust_optimize()` returns two `pandas` dataframes - one with the model parameters and robustness measures, and the other with convergence information. These dataframes are very handy in performing some post-analysis of the solutions across all function evaluations.  \n"
   ]
  },
  {
   "cell_type": "code",
   "execution_count": null,
   "metadata": {},
   "outputs": [],
   "source": [
    "robust_results, convergence = m.robust_optimize(robustness_functions,\n",
    "                                                scenarios = 500,\n",
    "                                                nfe = 50000,\n",
    "                                                constraints = [constraint_1, constraint_2],\n",
    "                                                epsilons  =[0.05,]*len(robustness_functions),\n",
    "                                                convergence = convergence_metrics,\n",
    "                                                evaluator = eval_seq,)"
   ]
  },
  {
   "cell_type": "code",
   "execution_count": null,
   "metadata": {},
   "outputs": [],
   "source": [
    "robust_results.head()"
   ]
  },
  {
   "cell_type": "markdown",
   "metadata": {},
   "source": [
    "#### Plot convergence progress"
   ]
  },
  {
   "cell_type": "markdown",
   "metadata": {},
   "source": [
    "The second dataframe returned by `robust_optimize()` contains the value of convergence metrics for each function evaluation and we can use this dataframe to visually inspect the convergence progress for the entire evaluation period. In this example, we considered 500 scenarios with 50,000 function evaluations. If we look at the ε-Progress plot, we see a stairs-like progress where the value becomes relatively stable after a certain leap. It is also evident that after 40,000 evaluations the value almost remains steady until the remain evaluation efforts are exhausted. For this use-case, this may be an indication of good convergence. However, there is no guarantee that we will not observe any better convergence for more function evaluations beyond this consideration. Getting a perfect convergence is always challenging in a multi-objective optimization problem, and in most cases, this is completely up to the decision analyst to decide on the trade-off between the evaluation time and convergence quality. \n",
    "\n",
    "Looking at the hyper-volume, we notice a few minor leaps that can be related to the rise in ε value in the left plot. The value of hyper-volume indicates a low ratio of dominated outcomes to all possible outcomes in the extent of the space. However, we observe steady progress after 30,000 evaluations which is a sign of reasonable convergence for this optimization setup. Like ε-progress, we might also observe more flatter portions indicating even better convergence for higher number of generations at the expense of higher evaluation time. "
   ]
  },
  {
   "cell_type": "code",
   "execution_count": null,
   "metadata": {},
   "outputs": [],
   "source": [
    "# Plot convergence metrics\n",
    "\n",
    "fig, (ax1, ax2) = plt.subplots(ncols = 2, sharex = True, figsize=(15,4))\n",
    "\n",
    "# Plot for Epsilon-progress\n",
    "ax1.plot(convergence.nfe, convergence.epsilon_progress)\n",
    "ax1.set_ylabel('$\\epsilon$-progress')\n",
    "ax1.set_xlabel('NFE')\n",
    "\n",
    "\n",
    "# Plot for Hypervolume\n",
    "ax2.plot(convergence.nfe, convergence.hypervolume)\n",
    "ax2.set_ylabel('Hypervolume')\n",
    "ax2.set_xlabel('NFE')\n",
    "plt.show()"
   ]
  },
  {
   "cell_type": "markdown",
   "metadata": {},
   "source": [
    "#### Plot parallel coordinate plot"
   ]
  },
  {
   "cell_type": "markdown",
   "metadata": {},
   "source": [
    "We can also inspect the solutions obtained from robust optimization using a parallel coordinate plot.  This is an effective way of visualizing multi-variate information where each row in a dataframe is represented using a polyline and each point on a line indicates an attribute of that row. `emat.viz.parcoords` module helps create a parallel coordinate plot with the optimization results, so we can compare the policy levers side-by-side and examine their relationships with performance measures. The vertical axes represent the policy levers and performance measures used for robustness metrics. A polyline connecting different points on the vertical axes represents a solution.  We can specify a performance measure as the color dimension to better understand its relationship with other measures and policy parameters. \n",
    "\n",
    "In this example, we set 95th percentile value of unit cost for capacity expansion as color dimension where darker shade means higher value. We see that if we plan for a higher percentage of capacity expansion, we should expect a higher unit cost of expansion which is quite obvious. Again, if we expect less travel time and higher time savings due to capacity expansion, we must incur higher unit cost of expansion. We also observe some obvious relationships between measures such as travel time after expansion being inversely related to value of time savings. In some cases, a mix pattern is also noticed for certain policy levers such as expected net benefits or amortization period. If we go from left to right following a polyline in this plot, that gives us a solution combining different instances of policy levers that satisfy the constraints and are robust under uncertainty. In parallel coordinate plot, we have an assortment of all solutions of optimization that we can inspect visually to come up with the right set of decisions.  "
   ]
  },
  {
   "cell_type": "code",
   "execution_count": null,
   "metadata": {},
   "outputs": [],
   "source": [
    "import emat.viz.parcoords\n",
    "\n",
    "pc = emat.viz.parcoords.parallel_coords(\n",
    "    m.ensure_dtypes(robust_results),\n",
    "    model=m,\n",
    "    robustness_functions=robustness_functions,\n",
    "    color_dim = '95%ile Capacity Expansion Cost',\n",
    "    colorscale = 'viridis',\n",
    "    title = 'Robust Optimization Results : {} solutions'.format(robust_results.shape[0])\n",
    ")\n",
    "\n",
    "Show(pc, format = 'png', width = 1600, height = 400, scale = 2)"
   ]
  },
  {
   "cell_type": "markdown",
   "metadata": {},
   "source": [
    "____"
   ]
  },
  {
   "cell_type": "code",
   "execution_count": null,
   "metadata": {},
   "outputs": [],
   "source": []
  }
 ],
 "metadata": {
  "kernelspec": {
   "display_name": "EMAT-DEV",
   "language": "python",
   "name": "emat-dev"
  },
  "language_info": {
   "codemirror_mode": {
    "name": "ipython",
    "version": 3
   },
   "file_extension": ".py",
   "mimetype": "text/x-python",
   "name": "python",
   "nbconvert_exporter": "python",
   "pygments_lexer": "ipython3",
   "version": "3.7.3"
  },
  "widgets": {
   "application/vnd.jupyter.widget-state+json": {
    "state": {
     "094ab4a0cd3c4dcf975ddd1d8a9d1678": {
      "model_module": "@jupyter-widgets/base",
      "model_module_version": "1.2.0",
      "model_name": "LayoutModel",
      "state": {}
     },
     "0d13e488c9194241959def8382c82ebb": {
      "model_module": "@jupyter-widgets/controls",
      "model_module_version": "1.5.0",
      "model_name": "HBoxModel",
      "state": {
       "children": [
        "IPY_MODEL_3ad9ad9e966b40e8886e342b059eb901",
        "IPY_MODEL_c26fbb7c7ad4407690f161eba67585f1"
       ],
       "layout": "IPY_MODEL_181a30ed526146c9a9a2efd148739ef4"
      }
     },
     "12817b3626024561a06a148ce895a6bb": {
      "model_module": "@jupyter-widgets/base",
      "model_module_version": "1.2.0",
      "model_name": "LayoutModel",
      "state": {}
     },
     "14c36be4e6214eae8a54933a6b86d73f": {
      "model_module": "@jupyter-widgets/controls",
      "model_module_version": "1.5.0",
      "model_name": "DescriptionStyleModel",
      "state": {
       "description_width": ""
      }
     },
     "181a30ed526146c9a9a2efd148739ef4": {
      "model_module": "@jupyter-widgets/base",
      "model_module_version": "1.2.0",
      "model_name": "LayoutModel",
      "state": {
       "flex_flow": "row wrap"
      }
     },
     "1bbc8660d6a64e0b8a68be171ef94a6e": {
      "model_module": "@jupyter-widgets/controls",
      "model_module_version": "1.5.0",
      "model_name": "CheckboxModel",
      "state": {
       "description": "(X) beta",
       "description_tooltip": "beta",
       "disabled": false,
       "layout": "IPY_MODEL_29466cea206548babcef0eec5198b6ec",
       "name": "beta",
       "style": "IPY_MODEL_d81b10ac02cb4b4a84076b87537cdb1d",
       "value": true
      }
     },
     "1c17bd093d21498eb93095d11de50e9b": {
      "model_module": "@jupyter-widgets/controls",
      "model_module_version": "1.5.0",
      "model_name": "DescriptionStyleModel",
      "state": {
       "description_width": ""
      }
     },
     "1c8d41e8249345658be212ffc20c2e99": {
      "model_module": "@jupyter-widgets/base",
      "model_module_version": "1.2.0",
      "model_name": "LayoutModel",
      "state": {}
     },
     "1c918f3633d140e5b4df6dcab757a042": {
      "model_module": "@jupyter-widgets/controls",
      "model_module_version": "1.5.0",
      "model_name": "CheckboxModel",
      "state": {
       "description": "(X) input_flow",
       "description_tooltip": "input_flow",
       "disabled": false,
       "layout": "IPY_MODEL_094ab4a0cd3c4dcf975ddd1d8a9d1678",
       "name": "input_flow",
       "style": "IPY_MODEL_aeb5fe43e4c24702a1d52b5460417551",
       "value": true
      }
     },
     "1dfa1328ac4b4a90a53f6eb256611ab9": {
      "model_module": "@jupyter-widgets/controls",
      "model_module_version": "1.5.0",
      "model_name": "DescriptionStyleModel",
      "state": {
       "description_width": ""
      }
     },
     "1e29b9ed0f484b38a878b9c93305fff5": {
      "model_module": "@jupyter-widgets/controls",
      "model_module_version": "1.5.0",
      "model_name": "CheckboxModel",
      "state": {
       "description": "(M+) time_savings",
       "description_tooltip": "time_savings",
       "disabled": false,
       "layout": "IPY_MODEL_3df946f01439428ca59b97629b87cae4",
       "name": "time_savings",
       "style": "IPY_MODEL_d0e12c4afd684728a447357e2ee922e5",
       "value": true
      }
     },
     "20d7842fe28b4a50bdea96bc90cf12ba": {
      "model_module": "@jupyter-widgets/controls",
      "model_module_version": "1.5.0",
      "model_name": "CheckboxModel",
      "state": {
       "description": "(M-) build_travel_time",
       "description_tooltip": "build_travel_time",
       "disabled": false,
       "layout": "IPY_MODEL_2f358544c0fe4f02bac02477d55cc3ed",
       "name": "build_travel_time",
       "style": "IPY_MODEL_1c17bd093d21498eb93095d11de50e9b",
       "value": true
      }
     },
     "2452781212a142f991b101451c885e05": {
      "model_module": "@jupyter-widgets/base",
      "model_module_version": "1.2.0",
      "model_name": "LayoutModel",
      "state": {}
     },
     "24713e961be942e9ae0cad43cd47343b": {
      "model_module": "@jupyter-widgets/controls",
      "model_module_version": "1.5.0",
      "model_name": "DropdownModel",
      "state": {
       "_options_labels": [
        "< None >",
        "alpha",
        "beta",
        "input_flow",
        "value_of_time",
        "unit_cost_expansion",
        "interest_rate",
        "yield_curve",
        "build_travel_time",
        "time_savings",
        "value_of_time_savings",
        "net_benefits",
        "cost_of_capacity_expansion"
       ],
       "description": "Colorize:",
       "index": 1,
       "layout": "IPY_MODEL_fe52f1c0ca144892b37411a104e9bffc",
       "style": "IPY_MODEL_25baf94bb5004daf9c14a1740265f239"
      }
     },
     "25628e56de5d4ad8b482c4fa84c7c0cd": {
      "model_module": "@jupyter-widgets/controls",
      "model_module_version": "1.5.0",
      "model_name": "HTMLModel",
      "state": {
       "layout": "IPY_MODEL_e1f52c46a8624295be0a082d74a76e76",
       "style": "IPY_MODEL_f64bb408c679406fab7b5f4143d276ec",
       "value": "\n\t\t\t(M-) Performance Measure to Minimize<br>\n\t\t\t(M+) Performance Measure to Maximize<br>\n\t\t\t(M) Performance Measure without preferred direction<br>\n\t\t\t(L) Policy Lever<br>\n\t\t\t(X) Exogenous Uncertainty\n\t\t"
      }
     },
     "25baf94bb5004daf9c14a1740265f239": {
      "model_module": "@jupyter-widgets/controls",
      "model_module_version": "1.5.0",
      "model_name": "DescriptionStyleModel",
      "state": {
       "description_width": ""
      }
     },
     "29466cea206548babcef0eec5198b6ec": {
      "model_module": "@jupyter-widgets/base",
      "model_module_version": "1.2.0",
      "model_name": "LayoutModel",
      "state": {}
     },
     "2f358544c0fe4f02bac02477d55cc3ed": {
      "model_module": "@jupyter-widgets/base",
      "model_module_version": "1.2.0",
      "model_name": "LayoutModel",
      "state": {}
     },
     "303b9f1f22944058aa8eca33516ace72": {
      "buffers": [
       {
        "data": "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",
        "encoding": "base64",
        "path": [
         "_data",
         0,
         "dimensions",
         0,
         "values",
         "value"
        ]
       },
       {
        "data": "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",
        "encoding": "base64",
        "path": [
         "_data",
         0,
         "dimensions",
         1,
         "values",
         "value"
        ]
       },
       {
        "data": "/Knx0k1iUD/8qfHSTWJQP/yp8dJNYlA//Knx0k1iUD/8qfHSTWJQP/yp8dJNYlA//Knx0k1iUD/8qfHSTWJQP/yp8dJNYlA//Knx0k1iUD/8qfHSTWJQP/yp8dJNYlA//Knx0k1iUD/8qfHSTWJQP/yp8dJNYlA//Knx0k1iUD/8qfHSTWJQP/yp8dJNYlA//Knx0k1iUD/8qfHSTWJQP/yp8dJNYlA//Knx0k1iUD/8qfHSTWJQP/yp8dJNYlA//Knx0k1iUD/8qfHSTWJQP/yp8dJNYlA//Knx0k1iUD/8qfHSTWJQP/yp8dJNYlA//Knx0k1iUD/8qfHSTWJQP/yp8dJNYlA//Knx0k1iUD/8qfHSTWJQP/yp8dJNYlA//Knx0k1iUD/8qfHSTWJQP/yp8dJNYlA//Knx0k1iUD/8qfHSTWJQP/yp8dJNYlA//Knx0k1iUD/8qfHSTWJQP/yp8dJNYlA//Knx0k1iUD/8qfHSTWJQP/yp8dJNYlA//Knx0k1iUD/8qfHSTWJQP/yp8dJNYlA//Knx0k1iUD/8qfHSTWJQP/yp8dJNYlA//Knx0k1iUD/8qfHSTWJQP/yp8dJNYlA//Knx0k1iUD/8qfHSTWJQP/yp8dJNYlA//Knx0k1iUD/8qfHSTWJQP/yp8dJNYlA//Knx0k1iUD/8qfHSTWJQP/yp8dJNYlA//Knx0k1iUD/8qfHSTWJQP/yp8dJNYlA//Knx0k1iUD/8qfHSTWJQP/yp8dJNYlA//Knx0k1iUD/8qfHSTWJQP/yp8dJNYlA//Knx0k1iUD/8qfHSTWJQP/yp8dJNYlA//Knx0k1iUD/8qfHSTWJQP/yp8dJNYlA//Knx0k1iUD/8qfHSTWJQP/yp8dJNYlA//Knx0k1iUD/8qfHSTWJQP/yp8dJNYlA//Knx0k1iUD/8qfHSTWJQP/yp8dJNYlA//Knx0k1iUD/8qfHSTWJQP/yp8dJNYlA//Knx0k1iUD/8qfHSTWJQP/yp8dJNYlA//Knx0k1iUD/8qfHSTWJQP/yp8dJNYlA//Knx0k1iUD/8qfHSTWJQP/yp8dJNYlA//Knx0k1iUD/8qfHSTWJQP/yp8dJNYlA//Knx0k1iUD/8qfHSTWJQP/yp8dJNYlA//Knx0k1iUD/8qfHSTWJQP/yp8dJNYlA//Knx0k1iUD/8qfHSTWJQP/yp8dJNYlA//Knx0k1iUD/8qfHSTWJQP/yp8dJNYlA//Knx0k1iUD/8qfHSTWJQP/yp8dJNYlA//Knx0k1iUD/8qfHSTWJQP/yp8dJNYlA//Knx0k1iUD/8qfHSTWJQP/yp8dJNYlA//Knx0k1iUD/8qfHSTWJQP/yp8dJNYlA//Knx0k1iUD/8qfHSTWJQP/yp8dJNYlA//Knx0k1iUD/8qfHSTWJQP/yp8dJNYlA//Knx0k1iUD/8qfHSTWJQP/yp8dJNYlA//Knx0k1iUD/8qfHSTWJQP/yp8dJNYlA//Knx0k1iUD/8qfHSTWJQP/yp8dJNYlA//Knx0k1iUD/8qfHSTWJQP/yp8dJNYlA//Knx0k1iUD/8qfHSTWJQP/yp8dJNYlA//Knx0k1iUD/8qfHSTWJQP/yp8dJNYlA//Knx0k1iUD/8qfHSTWJQP/yp8dJNYlA//Knx0k1iUD/8qfHSTWJQP/yp8dJNYlA//Knx0k1iUD/8qfHSTWJQP/yp8dJNYlA//Knx0k1iUD/8qfHSTWJQP/yp8dJNYlA//Knx0k1iUD/8qfHSTWJQP/yp8dJNYlA//Knx0k1iUD/8qfHSTWJQP/yp8dJNYlA//Knx0k1iUD/8qfHSTWJQP/yp8dJNYlA//Knx0k1iUD/8qfHSTWJQP/yp8dJNYlA//Knx0k1iUD/8qfHSTWJQP/yp8dJNYlA//Knx0k1iUD/8qfHSTWJQP/yp8dJNYlA//Knx0k1iUD/8qfHSTWJQP/yp8dJNYlA//Knx0k1iUD/8qfHSTWJQP/yp8dJNYlA//Knx0k1iUD/8qfHSTWJQP/yp8dJNYlA//Knx0k1iUD/8qfHSTWJQP/yp8dJNYlA//Knx0k1iUD/8qfHSTWJQP/yp8dJNYlA//Knx0k1iUD/8qfHSTWJQP/yp8dJNYlA//Knx0k1iUD/8qfHSTWJQP/yp8dJNYlA//Knx0k1iUD/8qfHSTWJQP/yp8dJNYlA//Knx0k1iUD/8qfHSTWJQP/yp8dJNYlA//Knx0k1iUD/8qfHSTWJQP/yp8dJNYlA//Knx0k1iUD/8qfHSTWJQP/yp8dJNYlA//Knx0k1iUD/8qfHSTWJQP/yp8dJNYlA//Knx0k1iUD/8qfHSTWJQP/yp8dJNYlA//Knx0k1iUD/8qfHSTWJQP/yp8dJNYlA//Knx0k1iUD/8qfHSTWJQP/yp8dJNYlA//Knx0k1iUD/8qfHSTWJQP/yp8dJNYlA//Knx0k1iUD/8qfHSTWJQP/yp8dJNYlA//Knx0k1iUD/8qfHSTWJQP/yp8dJNYlA//Knx0k1iUD/8qfHSTWJQP/yp8dJNYlA//Knx0k1iUD/8qfHSTWJQP/yp8dJNYlA//Knx0k1iUD/8qfHSTWJQP/yp8dJNYlA//Knx0k1iUD/8qfHSTWJQP/yp8dJNYlA//Knx0k1iUD/8qfHSTWJQP/yp8dJNYlA//Knx0k1iUD/8qfHSTWJQP/yp8dJNYlA//Knx0k1iUD/8qfHSTWJQP/yp8dJNYlA//Knx0k1iUD/8qfHSTWJQP/yp8dJNYlA//Knx0k1iUD/8qfHSTWJQP/yp8dJNYlA//Knx0k1iUD/8qfHSTWJQP/yp8dJNYlA//Knx0k1iUD/8qfHSTWJQP/yp8dJNYlA//Knx0k1iUD/8qfHSTWJQP/yp8dJNYlA//Knx0k1iUD/8qfHSTWJQP/yp8dJNYlA//Knx0k1iUD/8qfHSTWJQP/yp8dJNYlA//Knx0k1iUD/8qfHSTWJQP/yp8dJNYlA//Knx0k1iUD/8qfHSTWJQP/yp8dJNYlA//Knx0k1iUD/8qfHSTWJQP/yp8dJNYlA//Knx0k1iUD/8qfHSTWJQP/yp8dJNYlA//Knx0k1iUD/8qfHSTWJQP/yp8dJNYlA//Knx0k1iUD/8qfHSTWJQP/yp8dJNYlA//Knx0k1iUD/8qfHSTWJQP/yp8dJNYlA//Knx0k1iUD/8qfHSTWJQP/yp8dJNYlA//Knx0k1iUD/8qfHSTWJQP/yp8dJNYlA//Knx0k1iUD/8qfHSTWJQP/yp8dJNYlA//Knx0k1iUD/8qfHSTWJQP/yp8dJNYlA//Knx0k1iUD/8qfHSTWJQP/yp8dJNYlA//Knx0k1iUD/8qfHSTWJQP/yp8dJNYlA//Knx0k1iUD/8qfHSTWJQP/yp8dJNYlA//Knx0k1iUD/8qfHSTWJQP/yp8dJNYlA//Knx0k1iUD/8qfHSTWJQP/yp8dJNYlA//Knx0k1iUD/8qfHSTWJQP/yp8dJNYlA//Knx0k1iUD/8qfHSTWJQP/yp8dJNYlA//Knx0k1iUD/8qfHSTWJQP/yp8dJNYlA//Knx0k1iUD/8qfHSTWJQP/yp8dJNYlA//Knx0k1iUD/8qfHSTWJQP/yp8dJNYlA//Knx0k1iUD/8qfHSTWJQP/yp8dJNYlA//Knx0k1iUD/8qfHSTWJQP/yp8dJNYlA//Knx0k1iUD/8qfHSTWJQP/yp8dJNYlA//Knx0k1iUD/8qfHSTWJQP/yp8dJNYlA//Knx0k1iUD/8qfHSTWJQP/yp8dJNYlA//Knx0k1iUD/8qfHSTWJQP/yp8dJNYlA//Knx0k1iUD/8qfHSTWJQP/yp8dJNYlA//Knx0k1iUD/8qfHSTWJQP/yp8dJNYlA//Knx0k1iUD/8qfHSTWJQP/yp8dJNYlA//Knx0k1iUD/8qfHSTWJQP/yp8dJNYlA//Knx0k1iUD/8qfHSTWJQP/yp8dJNYlA//Knx0k1iUD/8qfHSTWJQP/yp8dJNYlA//Knx0k1iUD/8qfHSTWJQP/yp8dJNYlA//Knx0k1iUD/8qfHSTWJQP/yp8dJNYlA//Knx0k1iUD/8qfHSTWJQP/yp8dJNYlA//Knx0k1iUD/8qfHSTWJQP/yp8dJNYlA//Knx0k1iUD/8qfHSTWJQP/yp8dJNYlA//Knx0k1iUD/8qfHSTWJQP/yp8dJNYlA//Knx0k1iUD/8qfHSTWJQP/yp8dJNYlA//Knx0k1iUD/8qfHSTWJQP/yp8dJNYlA//Knx0k1iUD/8qfHSTWJQP/yp8dJNYlA//Knx0k1iUD/8qfHSTWJQP/yp8dJNYlA//Knx0k1iUD/8qfHSTWJQP/yp8dJNYlA//Knx0k1iUD/8qfHSTWJQP/yp8dJNYlA//Knx0k1iUD/8qfHSTWJQP/yp8dJNYlA//Knx0k1iUD/8qfHSTWJQP/yp8dJNYlA//Knx0k1iUD/8qfHSTWJQP/yp8dJNYlA//Knx0k1iUD/8qfHSTWJQP/yp8dJNYlA//Knx0k1iUD/8qfHSTWJQP/yp8dJNYlA//Knx0k1iUD/8qfHSTWJQP/yp8dJNYlA//Knx0k1iUD/8qfHSTWJQP/yp8dJNYlA//Knx0k1iUD/8qfHSTWJQP/yp8dJNYlA//Knx0k1iUD/8qfHSTWJQP/yp8dJNYlA//Knx0k1iUD/8qfHSTWJQP/yp8dJNYlA//Knx0k1iUD/8qfHSTWJQP/yp8dJNYlA//Knx0k1iUD/8qfHSTWJQP/yp8dJNYlA//Knx0k1iUD/8qfHSTWJQP/yp8dJNYlA//Knx0k1iUD/8qfHSTWJQP/yp8dJNYlA//Knx0k1iUD/8qfHSTWJQP/yp8dJNYlA//Knx0k1iUD/8qfHSTWJQP/yp8dJNYlA//Knx0k1iUD/8qfHSTWJQP/yp8dJNYlA//Knx0k1iUD/8qfHSTWJQP/yp8dJNYlA//Knx0k1iUD/8qfHSTWJQP/yp8dJNYlA//Knx0k1iUD/8qfHSTWJQP/yp8dJNYlA//Knx0k1iUD/8qfHSTWJQP/yp8dJNYlA//Knx0k1iUD/8qfHSTWJQP/yp8dJNYlA//Knx0k1iUD/8qfHSTWJQP/yp8dJNYlA//Knx0k1iUD/8qfHSTWJQP/yp8dJNYlA//Knx0k1iUD/8qfHSTWJQP/yp8dJNYlA//Knx0k1iUD/8qfHSTWJQP/yp8dJNYlA//Knx0k1iUD/8qfHSTWJQP/yp8dJNYlA//Knx0k1iUD/8qfHSTWJQP/yp8dJNYlA//Knx0k1iUD/8qfHSTWJQP/yp8dJNYlA//Knx0k1iUD/8qfHSTWJQP/yp8dJNYlA//Knx0k1iUD/8qfHSTWJQP/yp8dJNYlA//Knx0k1iUD/8qfHSTWJQP/yp8dJNYlA//Knx0k1iUD/8qfHSTWJQP/yp8dJNYlA//Knx0k1iUD/8qfHSTWJQP/yp8dJNYlA//Knx0k1iUD/8qfHSTWJQP/yp8dJNYlA//Knx0k1iUD/8qfHSTWJQP/yp8dJNYlA//Knx0k1iUD/8qfHSTWJQP/yp8dJNYlA//Knx0k1iUD/8qfHSTWJQP/yp8dJNYlA//Knx0k1iUD/8qfHSTWJQP/yp8dJNYlA//Knx0k1iUD/8qfHSTWJQP/yp8dJNYlA//Knx0k1iUD/8qfHSTWJQP/yp8dJNYlA//Knx0k1iUD/8qfHSTWJQP/yp8dJNYlA//Knx0k1iUD/8qfHSTWJQP/yp8dJNYlA//Knx0k1iUD/8qfHSTWJQP/yp8dJNYlA//Knx0k1iUD/8qfHSTWJQP/yp8dJNYlA//Knx0k1iUD/8qfHSTWJQP/yp8dJNYlA//Knx0k1iUD/8qfHSTWJQP/yp8dJNYlA//Knx0k1iUD/8qfHSTWJQP/yp8dJNYlA//Knx0k1iUD/8qfHSTWJQP/yp8dJNYlA//Knx0k1iUD/8qfHSTWJQP/yp8dJNYlA//Knx0k1iUD/8qfHSTWJQP/yp8dJNYlA//Knx0k1iUD/8qfHSTWJQP/yp8dJNYlA//Knx0k1iUD/8qfHSTWJQP/yp8dJNYlA//Knx0k1iUD/8qfHSTWJQP/yp8dJNYlA//Knx0k1iUD/8qfHSTWJQP/yp8dJNYlA//Knx0k1iUD/8qfHSTWJQP/yp8dJNYlA//Knx0k1iUD/8qfHSTWJQP/yp8dJNYlA//Knx0k1iUD/8qfHSTWJQP/yp8dJNYlA//Knx0k1iUD/8qfHSTWJQP/yp8dJNYlA//Knx0k1iUD/8qfHSTWJQP/yp8dJNYlA//Knx0k1iUD/8qfHSTWJQP/yp8dJNYlA//Knx0k1iUD/8qfHSTWJQP/yp8dJNYlA//Knx0k1iUD/8qfHSTWJQP/yp8dJNYlA//Knx0k1iUD/8qfHSTWJQP/yp8dJNYlA//Knx0k1iUD/8qfHSTWJQP/yp8dJNYlA//Knx0k1iUD/8qfHSTWJQP/yp8dJNYlA//Knx0k1iUD/8qfHSTWJQP/yp8dJNYlA//Knx0k1iUD/8qfHSTWJQP/yp8dJNYlA//Knx0k1iUD/8qfHSTWJQP/yp8dJNYlA//Knx0k1iUD/8qfHSTWJQP/yp8dJNYlA//Knx0k1iUD/8qfHSTWJQP/yp8dJNYlA//Knx0k1iUD/8qfHSTWJQP/yp8dJNYlA//Knx0k1iUD/8qfHSTWJQP/yp8dJNYlA//Knx0k1iUD/8qfHSTWJQP/yp8dJNYlA//Knx0k1iUD/8qfHSTWJQP/yp8dJNYlA//Knx0k1iUD/8qfHSTWJQP/yp8dJNYlA//Knx0k1iUD/8qfHSTWJQP/yp8dJNYlA//Knx0k1iUD/8qfHSTWJQP/yp8dJNYlA//Knx0k1iUD/8qfHSTWJQP/yp8dJNYlA//Knx0k1iUD/8qfHSTWJQP/yp8dJNYlA//Knx0k1iUD/8qfHSTWJQP/yp8dJNYlA//Knx0k1iUD/8qfHSTWJQP/yp8dJNYlA//Knx0k1iUD/8qfHSTWJQP/yp8dJNYlA//Knx0k1iUD/8qfHSTWJQP/yp8dJNYlA//Knx0k1iUD/8qfHSTWJQP/yp8dJNYlA//Knx0k1iUD/8qfHSTWJQP/yp8dJNYlA//Knx0k1iUD/8qfHSTWJQP/yp8dJNYlA//Knx0k1iUD/8qfHSTWJQP/yp8dJNYlA//Knx0k1iUD/8qfHSTWJQP/yp8dJNYlA//Knx0k1iUD/8qfHSTWJQP/yp8dJNYlA//Knx0k1iUD/8qfHSTWJQP/yp8dJNYlA//Knx0k1iUD/8qfHSTWJQP/yp8dJNYlA//Knx0k1iUD/8qfHSTWJQP/yp8dJNYlA//Knx0k1iUD/8qfHSTWJQP/yp8dJNYlA//Knx0k1iUD/8qfHSTWJQP/yp8dJNYlA//Knx0k1iUD/8qfHSTWJQP/yp8dJNYlA//Knx0k1iUD/8qfHSTWJQP/yp8dJNYlA//Knx0k1iUD/8qfHSTWJQP/yp8dJNYlA//Knx0k1iUD/8qfHSTWJQP/yp8dJNYlA//Knx0k1iUD/8qfHSTWJQP/yp8dJNYlA//Knx0k1iUD/8qfHSTWJQP/yp8dJNYlA//Knx0k1iUD/8qfHSTWJQP/yp8dJNYlA//Knx0k1iUD/8qfHSTWJQP/yp8dJNYlA//Knx0k1iUD/8qfHSTWJQP/yp8dJNYlA//Knx0k1iUD/8qfHSTWJQP/yp8dJNYlA//Knx0k1iUD/8qfHSTWJQP/yp8dJNYlA//Knx0k1iUD/8qfHSTWJQP/yp8dJNYlA//Knx0k1iUD/8qfHSTWJQP/yp8dJNYlA//Knx0k1iUD/8qfHSTWJQP/yp8dJNYlA//Knx0k1iUD/8qfHSTWJQP/yp8dJNYlA//Knx0k1iUD/8qfHSTWJQP/yp8dJNYlA//Knx0k1iUD/8qfHSTWJQP/yp8dJNYlA//Knx0k1iUD/8qfHSTWJQP/yp8dJNYlA//Knx0k1iUD/8qfHSTWJQP/yp8dJNYlA//Knx0k1iUD/8qfHSTWJQP/yp8dJNYlA//Knx0k1iUD/8qfHSTWJQP/yp8dJNYlA//Knx0k1iUD/8qfHSTWJQP/yp8dJNYlA//Knx0k1iUD/8qfHSTWJQP/yp8dJNYlA//Knx0k1iUD/8qfHSTWJQP/yp8dJNYlA//Knx0k1iUD/8qfHSTWJQP/yp8dJNYlA//Knx0k1iUD/8qfHSTWJQP/yp8dJNYlA//Knx0k1iUD/8qfHSTWJQP/yp8dJNYlA//Knx0k1iUD/8qfHSTWJQP/yp8dJNYlA//Knx0k1iUD/8qfHSTWJQP/yp8dJNYlA//Knx0k1iUD/8qfHSTWJQP/yp8dJNYlA//Knx0k1iUD/8qfHSTWJQP/yp8dJNYlA//Knx0k1iUD/8qfHSTWJQP/yp8dJNYlA//Knx0k1iUD/8qfHSTWJQP/yp8dJNYlA//Knx0k1iUD/8qfHSTWJQP/yp8dJNYlA//Knx0k1iUD/8qfHSTWJQP/yp8dJNYlA//Knx0k1iUD/8qfHSTWJQP/yp8dJNYlA//Knx0k1iUD/8qfHSTWJQP/yp8dJNYlA//Knx0k1iUD/8qfHSTWJQP/yp8dJNYlA//Knx0k1iUD/8qfHSTWJQP/yp8dJNYlA//Knx0k1iUD/8qfHSTWJQP/yp8dJNYlA//Knx0k1iUD/8qfHSTWJQP/yp8dJNYlA//Knx0k1iUD/8qfHSTWJQP/yp8dJNYlA//Knx0k1iUD/8qfHSTWJQP/yp8dJNYlA//Knx0k1iUD/8qfHSTWJQP/yp8dJNYlA//Knx0k1iUD/8qfHSTWJQP/yp8dJNYlA//Knx0k1iUD/8qfHSTWJQP/yp8dJNYlA//Knx0k1iUD/8qfHSTWJQP/yp8dJNYlA//Knx0k1iUD/8qfHSTWJQP/yp8dJNYlA//Knx0k1iUD/8qfHSTWJQP/yp8dJNYlA//Knx0k1iUD/8qfHSTWJQP/yp8dJNYlA//Knx0k1iUD/8qfHSTWJQP/yp8dJNYlA//Knx0k1iUD/8qfHSTWJQP/yp8dJNYlA//Knx0k1iUD/8qfHSTWJQP/yp8dJNYlA//Knx0k1iUD/8qfHSTWJQP/yp8dJNYlA//Knx0k1iUD/8qfHSTWJQP/yp8dJNYlA//Knx0k1iUD/8qfHSTWJQP/yp8dJNYlA//Knx0k1iUD/8qfHSTWJQP/yp8dJNYlA//Knx0k1iUD/8qfHSTWJQP/yp8dJNYlA//Knx0k1iUD/8qfHSTWJQP/yp8dJNYlA//Knx0k1iUD/8qfHSTWJQP/yp8dJNYlA//Knx0k1iUD/8qfHSTWJQP/yp8dJNYlA//Knx0k1iUD/8qfHSTWJQP/yp8dJNYlA//Knx0k1iUD/8qfHSTWJQP/yp8dJNYlA//Knx0k1iUD/8qfHSTWJQP/yp8dJNYlA//Knx0k1iUD/8qfHSTWJQP/yp8dJNYlA//Knx0k1iUD/8qfHSTWJQP/yp8dJNYlA//Knx0k1iUD/8qfHSTWJQP/yp8dJNYlA//Knx0k1iUD/8qfHSTWJQP/yp8dJNYlA//Knx0k1iUD/8qfHSTWJQP/yp8dJNYlA//Knx0k1iUD/8qfHSTWJQP/yp8dJNYlA//Knx0k1iUD/8qfHSTWJQP/yp8dJNYlA//Knx0k1iUD/8qfHSTWJQP/yp8dJNYlA//Knx0k1iUD/8qfHSTWJQP/yp8dJNYlA//Knx0k1iUD/8qfHSTWJQP/yp8dJNYlA//Knx0k1iUD/8qfHSTWJQP/yp8dJNYlA//Knx0k1iUD/8qfHSTWJQP/yp8dJNYlA//Knx0k1iUD/8qfHSTWJQP/yp8dJNYlA//Knx0k1iUD/8qfHSTWJQP/yp8dJNYlA//Knx0k1iUD/8qfHSTWJQP/yp8dJNYlA//Knx0k1iUD/8qfHSTWJQP/yp8dJNYlA//Knx0k1iUD/8qfHSTWJQP/yp8dJNYlA//Knx0k1iUD/8qfHSTWJQP/yp8dJNYlA//Knx0k1iUD/8qfHSTWJQP/yp8dJNYlA//Knx0k1iUD/8qfHSTWJQP/yp8dJNYlA//Knx0k1iUD/8qfHSTWJQP/yp8dJNYlA//Knx0k1iUD/8qfHSTWJQP/yp8dJNYlA//Knx0k1iUD/8qfHSTWJQP/yp8dJNYlA//Knx0k1iUD/8qfHSTWJQP/yp8dJNYlA//Knx0k1iUD/8qfHSTWJQP/yp8dJNYlA//Knx0k1iUD/8qfHSTWJQP/yp8dJNYlA//Knx0k1iUD/8qfHSTWJQP/yp8dJNYlA//Knx0k1iUD/8qfHSTWJQP/yp8dJNYlA//Knx0k1iUD/8qfHSTWJQP/yp8dJNYlA//Knx0k1iUD/8qfHSTWJQP/yp8dJNYlA//Knx0k1iUD/8qfHSTWJQP/yp8dJNYlA//Knx0k1iUD/8qfHSTWJQP/yp8dJNYlA//Knx0k1iUD/8qfHSTWJQP/yp8dJNYlA//Knx0k1iUD/8qfHSTWJQP/yp8dJNYlA//Knx0k1iUD/8qfHSTWJQP/yp8dJNYlA//Knx0k1iUD/8qfHSTWJQP/yp8dJNYlA//Knx0k1iUD/8qfHSTWJQP/yp8dJNYlA//Knx0k1iUD/8qfHSTWJQP/yp8dJNYlA//Knx0k1iUD/8qfHSTWJQP/yp8dJNYlA//Knx0k1iUD/8qfHSTWJQP/yp8dJNYlA//Knx0k1iUD/8qfHSTWJQP/yp8dJNYlA//Knx0k1iUD/8qfHSTWJQP/yp8dJNYlA//Knx0k1iUD/8qfHSTWJQP/yp8dJNYlA//Knx0k1iUD/8qfHSTWJQP/yp8dJNYlA//Knx0k1iUD/8qfHSTWJQP/yp8dJNYlA//Knx0k1iUD/8qfHSTWJQP/yp8dJNYlA//Knx0k1iUD/8qfHSTWJQP/yp8dJNYlA//Knx0k1iUD/8qfHSTWJQP/yp8dJNYlA//Knx0k1iUD/8qfHSTWJQP/yp8dJNYlA//Knx0k1iUD/8qfHSTWJQP/yp8dJNYlA//Knx0k1iUD/8qfHSTWJQP/yp8dJNYlA//Knx0k1iUD/8qfHSTWJQP/yp8dJNYlA//Knx0k1iUD/8qfHSTWJQP/yp8dJNYlA//Knx0k1iUD/8qfHSTWJQP/yp8dJNYlA//Knx0k1iUD/8qfHSTWJQP/yp8dJNYlA//Knx0k1iUD/8qfHSTWJQP/yp8dJNYlA//Knx0k1iUD/8qfHSTWJQP/yp8dJNYlA//Knx0k1iUD/8qfHSTWJQP/yp8dJNYlA//Knx0k1iUD/8qfHSTWJQP/yp8dJNYlA//Knx0k1iUD/8qfHSTWJQP/yp8dJNYlA//Knx0k1iUD/8qfHSTWJQP/yp8dJNYlA//Knx0k1iUD/8qfHSTWJQP/yp8dJNYlA//Knx0k1iUD/8qfHSTWJQP/yp8dJNYlA//Knx0k1iUD/8qfHSTWJQP/yp8dJNYlA//Knx0k1iUD/8qfHSTWJQP/yp8dJNYlA//Knx0k1iUD/8qfHSTWJQP/yp8dJNYlA//Knx0k1iUD/8qfHSTWJQPw==",
        "encoding": "base64",
        "path": [
         "_data",
         0,
         "dimensions",
         3,
         "values",
         "value"
        ]
       },
       {
        "data": "AAAAAAAgYkAAAAAAACBiQAAAAAAAIGJAAAAAAAAgYkAAAAAAACBiQAAAAAAAIGJAAAAAAAAgYkAAAAAAACBiQAAAAAAAIGJAAAAAAAAgYkAAAAAAACBiQAAAAAAAIGJAAAAAAAAgYkAAAAAAACBiQAAAAAAAIGJAAAAAAAAgYkAAAAAAACBiQAAAAAAAIGJAAAAAAAAgYkAAAAAAACBiQAAAAAAAIGJAAAAAAAAgYkAAAAAAACBiQAAAAAAAIGJAAAAAAAAgYkAAAAAAACBiQAAAAAAAIGJAAAAAAAAgYkAAAAAAACBiQAAAAAAAIGJAAAAAAAAgYkAAAAAAACBiQAAAAAAAIGJAAAAAAAAgYkAAAAAAACBiQAAAAAAAIGJAAAAAAAAgYkAAAAAAACBiQAAAAAAAIGJAAAAAAAAgYkAAAAAAACBiQAAAAAAAIGJAAAAAAAAgYkAAAAAAACBiQAAAAAAAIGJAAAAAAAAgYkAAAAAAACBiQAAAAAAAIGJAAAAAAAAgYkAAAAAAACBiQAAAAAAAIGJAAAAAAAAgYkAAAAAAACBiQAAAAAAAIGJAAAAAAAAgYkAAAAAAACBiQAAAAAAAIGJAAAAAAAAgYkAAAAAAACBiQAAAAAAAIGJAAAAAAAAgYkAAAAAAACBiQAAAAAAAIGJAAAAAAAAgYkAAAAAAACBiQAAAAAAAIGJAAAAAAAAgYkAAAAAAACBiQAAAAAAAIGJAAAAAAAAgYkAAAAAAACBiQAAAAAAAIGJAAAAAAAAgYkAAAAAAACBiQAAAAAAAIGJAAAAAAAAgYkAAAAAAACBiQAAAAAAAIGJAAAAAAAAgYkAAAAAAACBiQAAAAAAAIGJAAAAAAAAgYkAAAAAAACBiQAAAAAAAIGJAAAAAAAAgYkAAAAAAACBiQAAAAAAAIGJAAAAAAAAgYkAAAAAAACBiQAAAAAAAIGJAAAAAAAAgYkAAAAAAACBiQAAAAAAAIGJAAAAAAAAgYkAAAAAAACBiQAAAAAAAIGJAAAAAAAAgYkAAAAAAACBiQAAAAAAAIGJAAAAAAAAgYkAAAAAAACBiQAAAAAAAIGJAAAAAAAAgYkAAAAAAACBiQAAAAAAAIGJAAAAAAAAgYkAAAAAAACBiQAAAAAAAIGJAAAAAAAAgYkAAAAAAACBiQAAAAAAAIGJAAAAAAAAgYkAAAAAAACBiQAAAAAAAIGJAAAAAAAAgYkAAAAAAACBiQAAAAAAAIGJAAAAAAAAgYkAAAAAAACBiQAAAAAAAIGJAAAAAAAAgYkAAAAAAACBiQAAAAAAAIGJAAAAAAAAgYkAAAAAAACBiQAAAAAAAIGJAAAAAAAAgYkAAAAAAACBiQAAAAAAAIGJAAAAAAAAgYkAAAAAAACBiQAAAAAAAIGJAAAAAAAAgYkAAAAAAACBiQAAAAAAAIGJAAAAAAAAgYkAAAAAAACBiQAAAAAAAIGJAAAAAAAAgYkAAAAAAACBiQAAAAAAAIGJAAAAAAAAgYkAAAAAAACBiQAAAAAAAIGJAAAAAAAAgYkAAAAAAACBiQAAAAAAAIGJAAAAAAAAgYkAAAAAAACBiQAAAAAAAIGJAAAAAAAAgYkAAAAAAACBiQAAAAAAAIGJAAAAAAAAgYkAAAAAAACBiQAAAAAAAIGJAAAAAAAAgYkAAAAAAACBiQAAAAAAAIGJAAAAAAAAgYkAAAAAAACBiQAAAAAAAIGJAAAAAAAAgYkAAAAAAACBiQAAAAAAAIGJAAAAAAAAgYkAAAAAAACBiQAAAAAAAIGJAAAAAAAAgYkAAAAAAACBiQAAAAAAAIGJAAAAAAAAgYkAAAAAAACBiQAAAAAAAIGJAAAAAAAAgYkAAAAAAACBiQAAAAAAAIGJAAAAAAAAgYkAAAAAAACBiQAAAAAAAIGJAAAAAAAAgYkAAAAAAACBiQAAAAAAAIGJAAAAAAAAgYkAAAAAAACBiQAAAAAAAIGJAAAAAAAAgYkAAAAAAACBiQAAAAAAAIGJAAAAAAAAgYkAAAAAAACBiQAAAAAAAIGJAAAAAAAAgYkAAAAAAACBiQAAAAAAAIGJAAAAAAAAgYkAAAAAAACBiQAAAAAAAIGJAAAAAAAAgYkAAAAAAACBiQAAAAAAAIGJAAAAAAAAgYkAAAAAAACBiQAAAAAAAIGJAAAAAAAAgYkAAAAAAACBiQAAAAAAAIGJAAAAAAAAgYkAAAAAAACBiQAAAAAAAIGJAAAAAAAAgYkAAAAAAACBiQAAAAAAAIGJAAAAAAAAgYkAAAAAAACBiQAAAAAAAIGJAAAAAAAAgYkAAAAAAACBiQAAAAAAAIGJAAAAAAAAgYkAAAAAAACBiQAAAAAAAIGJAAAAAAAAgYkAAAAAAACBiQAAAAAAAIGJAAAAAAAAgYkAAAAAAACBiQAAAAAAAIGJAAAAAAAAgYkAAAAAAACBiQAAAAAAAIGJAAAAAAAAgYkAAAAAAACBiQAAAAAAAIGJAAAAAAAAgYkAAAAAAACBiQAAAAAAAIGJAAAAAAAAgYkAAAAAAACBiQAAAAAAAIGJAAAAAAAAgYkAAAAAAACBiQAAAAAAAIGJAAAAAAAAgYkAAAAAAACBiQAAAAAAAIGJAAAAAAAAgYkAAAAAAACBiQAAAAAAAIGJAAAAAAAAgYkAAAAAAACBiQAAAAAAAIGJAAAAAAAAgYkAAAAAAACBiQAAAAAAAIGJAAAAAAAAgYkAAAAAAACBiQAAAAAAAIGJAAAAAAAAgYkAAAAAAACBiQAAAAAAAIGJAAAAAAAAgYkAAAAAAACBiQAAAAAAAIGJAAAAAAAAgYkAAAAAAACBiQAAAAAAAIGJAAAAAAAAgYkAAAAAAACBiQAAAAAAAIGJAAAAAAAAgYkAAAAAAACBiQAAAAAAAIGJAAAAAAAAgYkAAAAAAACBiQAAAAAAAIGJAAAAAAAAgYkAAAAAAACBiQAAAAAAAIGJAAAAAAAAgYkAAAAAAACBiQAAAAAAAIGJAAAAAAAAgYkAAAAAAACBiQAAAAAAAIGJAAAAAAAAgYkAAAAAAACBiQAAAAAAAIGJAAAAAAAAgYkAAAAAAACBiQAAAAAAAIGJAAAAAAAAgYkAAAAAAACBiQAAAAAAAIGJAAAAAAAAgYkAAAAAAACBiQAAAAAAAIGJAAAAAAAAgYkAAAAAAACBiQAAAAAAAIGJAAAAAAAAgYkAAAAAAACBiQAAAAAAAIGJAAAAAAAAgYkAAAAAAACBiQAAAAAAAIGJAAAAAAAAgYkAAAAAAACBiQAAAAAAAIGJAAAAAAAAgYkAAAAAAACBiQAAAAAAAIGJAAAAAAAAgYkAAAAAAACBiQAAAAAAAIGJAAAAAAAAgYkAAAAAAACBiQAAAAAAAIGJAAAAAAAAgYkAAAAAAACBiQAAAAAAAIGJAAAAAAAAgYkAAAAAAACBiQAAAAAAAIGJAAAAAAAAgYkAAAAAAACBiQAAAAAAAIGJAAAAAAAAgYkAAAAAAACBiQAAAAAAAIGJAAAAAAAAgYkAAAAAAACBiQAAAAAAAIGJAAAAAAAAgYkAAAAAAACBiQAAAAAAAIGJAAAAAAAAgYkAAAAAAACBiQAAAAAAAIGJAAAAAAAAgYkAAAAAAACBiQAAAAAAAIGJAAAAAAAAgYkAAAAAAACBiQAAAAAAAIGJAAAAAAAAgYkAAAAAAACBiQAAAAAAAIGJAAAAAAAAgYkAAAAAAACBiQAAAAAAAIGJAAAAAAAAgYkAAAAAAACBiQAAAAAAAIGJAAAAAAAAgYkAAAAAAACBiQAAAAAAAIGJAAAAAAAAgYkAAAAAAACBiQAAAAAAAIGJAAAAAAAAgYkAAAAAAACBiQAAAAAAAIGJAAAAAAAAgYkAAAAAAACBiQAAAAAAAIGJAAAAAAAAgYkAAAAAAACBiQAAAAAAAIGJAAAAAAAAgYkAAAAAAACBiQAAAAAAAIGJAAAAAAAAgYkAAAAAAACBiQAAAAAAAIGJAAAAAAAAgYkAAAAAAACBiQAAAAAAAIGJAAAAAAAAgYkAAAAAAACBiQAAAAAAAIGJAAAAAAAAgYkAAAAAAACBiQAAAAAAAIGJAAAAAAAAgYkAAAAAAACBiQAAAAAAAIGJAAAAAAAAgYkAAAAAAACBiQAAAAAAAIGJAAAAAAAAgYkAAAAAAACBiQAAAAAAAIGJAAAAAAAAgYkAAAAAAACBiQAAAAAAAIGJAAAAAAAAgYkAAAAAAACBiQAAAAAAAIGJAAAAAAAAgYkAAAAAAACBiQAAAAAAAIGJAAAAAAAAgYkAAAAAAACBiQAAAAAAAIGJAAAAAAAAgYkAAAAAAACBiQAAAAAAAIGJAAAAAAAAgYkAAAAAAACBiQAAAAAAAIGJAAAAAAAAgYkAAAAAAACBiQAAAAAAAIGJAAAAAAAAgYkAAAAAAACBiQAAAAAAAIGJAAAAAAAAgYkAAAAAAACBiQAAAAAAAIGJAAAAAAAAgYkAAAAAAACBiQAAAAAAAIGJAAAAAAAAgYkAAAAAAACBiQAAAAAAAIGJAAAAAAAAgYkAAAAAAACBiQAAAAAAAIGJAAAAAAAAgYkAAAAAAACBiQAAAAAAAIGJAAAAAAAAgYkAAAAAAACBiQAAAAAAAIGJAAAAAAAAgYkAAAAAAACBiQAAAAAAAIGJAAAAAAAAgYkAAAAAAACBiQAAAAAAAIGJAAAAAAAAgYkAAAAAAACBiQAAAAAAAIGJAAAAAAAAgYkAAAAAAACBiQAAAAAAAIGJAAAAAAAAgYkAAAAAAACBiQAAAAAAAIGJAAAAAAAAgYkAAAAAAACBiQAAAAAAAIGJAAAAAAAAgYkAAAAAAACBiQAAAAAAAIGJAAAAAAAAgYkAAAAAAACBiQAAAAAAAIGJAAAAAAAAgYkAAAAAAACBiQAAAAAAAIGJAAAAAAAAgYkAAAAAAACBiQAAAAAAAIGJAAAAAAAAgYkAAAAAAACBiQAAAAAAAIGJAAAAAAAAgYkAAAAAAACBiQAAAAAAAIGJAAAAAAAAgYkAAAAAAACBiQAAAAAAAIGJAAAAAAAAgYkAAAAAAACBiQAAAAAAAIGJAAAAAAAAgYkAAAAAAACBiQAAAAAAAIGJAAAAAAAAgYkAAAAAAACBiQAAAAAAAIGJAAAAAAAAgYkAAAAAAACBiQAAAAAAAIGJAAAAAAAAgYkAAAAAAACBiQAAAAAAAIGJAAAAAAAAgYkAAAAAAACBiQAAAAAAAIGJAAAAAAAAgYkAAAAAAACBiQAAAAAAAIGJAAAAAAAAgYkAAAAAAACBiQAAAAAAAIGJAAAAAAAAgYkAAAAAAACBiQAAAAAAAIGJAAAAAAAAgYkAAAAAAACBiQAAAAAAAIGJAAAAAAAAgYkAAAAAAACBiQAAAAAAAIGJAAAAAAAAgYkAAAAAAACBiQAAAAAAAIGJAAAAAAAAgYkAAAAAAACBiQAAAAAAAIGJAAAAAAAAgYkAAAAAAACBiQAAAAAAAIGJAAAAAAAAgYkAAAAAAACBiQAAAAAAAIGJAAAAAAAAgYkAAAAAAACBiQAAAAAAAIGJAAAAAAAAgYkAAAAAAACBiQAAAAAAAIGJAAAAAAAAgYkAAAAAAACBiQAAAAAAAIGJAAAAAAAAgYkAAAAAAACBiQAAAAAAAIGJAAAAAAAAgYkAAAAAAACBiQAAAAAAAIGJAAAAAAAAgYkAAAAAAACBiQAAAAAAAIGJAAAAAAAAgYkAAAAAAACBiQAAAAAAAIGJAAAAAAAAgYkAAAAAAACBiQAAAAAAAIGJAAAAAAAAgYkAAAAAAACBiQAAAAAAAIGJAAAAAAAAgYkAAAAAAACBiQAAAAAAAIGJAAAAAAAAgYkAAAAAAACBiQAAAAAAAIGJAAAAAAAAgYkAAAAAAACBiQAAAAAAAIGJAAAAAAAAgYkAAAAAAACBiQAAAAAAAIGJAAAAAAAAgYkAAAAAAACBiQAAAAAAAIGJAAAAAAAAgYkAAAAAAACBiQAAAAAAAIGJAAAAAAAAgYkAAAAAAACBiQAAAAAAAIGJAAAAAAAAgYkAAAAAAACBiQAAAAAAAIGJAAAAAAAAgYkAAAAAAACBiQAAAAAAAIGJAAAAAAAAgYkAAAAAAACBiQAAAAAAAIGJAAAAAAAAgYkAAAAAAACBiQAAAAAAAIGJAAAAAAAAgYkAAAAAAACBiQAAAAAAAIGJAAAAAAAAgYkAAAAAAACBiQAAAAAAAIGJAAAAAAAAgYkAAAAAAACBiQAAAAAAAIGJAAAAAAAAgYkAAAAAAACBiQAAAAAAAIGJAAAAAAAAgYkAAAAAAACBiQAAAAAAAIGJAAAAAAAAgYkAAAAAAACBiQAAAAAAAIGJAAAAAAAAgYkAAAAAAACBiQAAAAAAAIGJAAAAAAAAgYkAAAAAAACBiQAAAAAAAIGJAAAAAAAAgYkAAAAAAACBiQAAAAAAAIGJAAAAAAAAgYkAAAAAAACBiQAAAAAAAIGJAAAAAAAAgYkAAAAAAACBiQAAAAAAAIGJAAAAAAAAgYkAAAAAAACBiQAAAAAAAIGJAAAAAAAAgYkAAAAAAACBiQAAAAAAAIGJAAAAAAAAgYkAAAAAAACBiQAAAAAAAIGJAAAAAAAAgYkAAAAAAACBiQAAAAAAAIGJAAAAAAAAgYkAAAAAAACBiQAAAAAAAIGJAAAAAAAAgYkAAAAAAACBiQAAAAAAAIGJAAAAAAAAgYkAAAAAAACBiQAAAAAAAIGJAAAAAAAAgYkAAAAAAACBiQAAAAAAAIGJAAAAAAAAgYkAAAAAAACBiQAAAAAAAIGJAAAAAAAAgYkAAAAAAACBiQAAAAAAAIGJAAAAAAAAgYkAAAAAAACBiQAAAAAAAIGJAAAAAAAAgYkAAAAAAACBiQAAAAAAAIGJAAAAAAAAgYkAAAAAAACBiQAAAAAAAIGJAAAAAAAAgYkAAAAAAACBiQAAAAAAAIGJAAAAAAAAgYkAAAAAAACBiQAAAAAAAIGJAAAAAAAAgYkAAAAAAACBiQAAAAAAAIGJAAAAAAAAgYkAAAAAAACBiQAAAAAAAIGJAAAAAAAAgYkAAAAAAACBiQAAAAAAAIGJAAAAAAAAgYkAAAAAAACBiQAAAAAAAIGJAAAAAAAAgYkAAAAAAACBiQAAAAAAAIGJAAAAAAAAgYkAAAAAAACBiQAAAAAAAIGJAAAAAAAAgYkAAAAAAACBiQAAAAAAAIGJAAAAAAAAgYkAAAAAAACBiQAAAAAAAIGJAAAAAAAAgYkAAAAAAACBiQAAAAAAAIGJAAAAAAAAgYkAAAAAAACBiQAAAAAAAIGJAAAAAAAAgYkAAAAAAACBiQAAAAAAAIGJAAAAAAAAgYkAAAAAAACBiQAAAAAAAIGJAAAAAAAAgYkAAAAAAACBiQAAAAAAAIGJAAAAAAAAgYkAAAAAAACBiQAAAAAAAIGJAAAAAAAAgYkAAAAAAACBiQAAAAAAAIGJAAAAAAAAgYkAAAAAAACBiQAAAAAAAIGJAAAAAAAAgYkAAAAAAACBiQAAAAAAAIGJAAAAAAAAgYkAAAAAAACBiQAAAAAAAIGJAAAAAAAAgYkAAAAAAACBiQAAAAAAAIGJAAAAAAAAgYkAAAAAAACBiQAAAAAAAIGJAAAAAAAAgYkAAAAAAACBiQAAAAAAAIGJAAAAAAAAgYkAAAAAAACBiQAAAAAAAIGJAAAAAAAAgYkAAAAAAACBiQAAAAAAAIGJAAAAAAAAgYkAAAAAAACBiQAAAAAAAIGJAAAAAAAAgYkAAAAAAACBiQAAAAAAAIGJAAAAAAAAgYkAAAAAAACBiQAAAAAAAIGJAAAAAAAAgYkAAAAAAACBiQAAAAAAAIGJAAAAAAAAgYkAAAAAAACBiQAAAAAAAIGJAAAAAAAAgYkAAAAAAACBiQAAAAAAAIGJAAAAAAAAgYkAAAAAAACBiQAAAAAAAIGJAAAAAAAAgYkAAAAAAACBiQAAAAAAAIGJAAAAAAAAgYkAAAAAAACBiQAAAAAAAIGJAAAAAAAAgYkAAAAAAACBiQAAAAAAAIGJAAAAAAAAgYkAAAAAAACBiQAAAAAAAIGJAAAAAAAAgYkAAAAAAACBiQAAAAAAAIGJAAAAAAAAgYkAAAAAAACBiQAAAAAAAIGJAAAAAAAAgYkAAAAAAACBiQAAAAAAAIGJAAAAAAAAgYkAAAAAAACBiQAAAAAAAIGJAAAAAAAAgYkAAAAAAACBiQAAAAAAAIGJAAAAAAAAgYkAAAAAAACBiQAAAAAAAIGJAAAAAAAAgYkAAAAAAACBiQAAAAAAAIGJAAAAAAAAgYkAAAAAAACBiQAAAAAAAIGJAAAAAAAAgYkAAAAAAACBiQAAAAAAAIGJAAAAAAAAgYkAAAAAAACBiQAAAAAAAIGJAAAAAAAAgYkAAAAAAACBiQAAAAAAAIGJAAAAAAAAgYkAAAAAAACBiQAAAAAAAIGJAAAAAAAAgYkAAAAAAACBiQAAAAAAAIGJAAAAAAAAgYkAAAAAAACBiQAAAAAAAIGJAAAAAAAAgYkAAAAAAACBiQAAAAAAAIGJAAAAAAAAgYkAAAAAAACBiQAAAAAAAIGJAAAAAAAAgYkAAAAAAACBiQAAAAAAAIGJAAAAAAAAgYkAAAAAAACBiQAAAAAAAIGJAAAAAAAAgYkAAAAAAACBiQAAAAAAAIGJAAAAAAAAgYkAAAAAAACBiQAAAAAAAIGJAAAAAAAAgYkAAAAAAACBiQAAAAAAAIGJAAAAAAAAgYkAAAAAAACBiQAAAAAAAIGJAAAAAAAAgYkAAAAAAACBiQAAAAAAAIGJAAAAAAAAgYkAAAAAAACBiQAAAAAAAIGJAAAAAAAAgYkAAAAAAACBiQAAAAAAAIGJAAAAAAAAgYkAAAAAAACBiQAAAAAAAIGJAAAAAAAAgYkAAAAAAACBiQAAAAAAAIGJAAAAAAAAgYkAAAAAAACBiQAAAAAAAIGJAAAAAAAAgYkAAAAAAACBiQAAAAAAAIGJAAAAAAAAgYkAAAAAAACBiQAAAAAAAIGJAAAAAAAAgYkAAAAAAACBiQAAAAAAAIGJAAAAAAAAgYkAAAAAAACBiQAAAAAAAIGJAAAAAAAAgYkAAAAAAACBiQAAAAAAAIGJAAAAAAAAgYkAAAAAAACBiQAAAAAAAIGJAAAAAAAAgYkAAAAAAACBiQAAAAAAAIGJAAAAAAAAgYkAAAAAAACBiQAAAAAAAIGJAAAAAAAAgYkAAAAAAACBiQAAAAAAAIGJAAAAAAAAgYkAAAAAAACBiQAAAAAAAIGJAAAAAAAAgYkAAAAAAACBiQAAAAAAAIGJAAAAAAAAgYkAAAAAAACBiQAAAAAAAIGJAAAAAAAAgYkAAAAAAACBiQAAAAAAAIGJAAAAAAAAgYkAAAAAAACBiQAAAAAAAIGJAAAAAAAAgYkAAAAAAACBiQAAAAAAAIGJAAAAAAAAgYkAAAAAAACBiQAAAAAAAIGJAAAAAAAAgYkAAAAAAACBiQAAAAAAAIGJAAAAAAAAgYkAAAAAAACBiQAAAAAAAIGJAAAAAAAAgYkAAAAAAACBiQAAAAAAAIGJAAAAAAAAgYkAAAAAAACBiQAAAAAAAIGJAAAAAAAAgYkAAAAAAACBiQAAAAAAAIGJAAAAAAAAgYkAAAAAAACBiQAAAAAAAIGJAAAAAAAAgYkAAAAAAACBiQAAAAAAAIGJAAAAAAAAgYkAAAAAAACBiQAAAAAAAIGJAAAAAAAAgYkAAAAAAACBiQAAAAAAAIGJAAAAAAAAgYkAAAAAAACBiQAAAAAAAIGJAAAAAAAAgYkAAAAAAACBiQAAAAAAAIGJAAAAAAAAgYkAAAAAAACBiQAAAAAAAIGJAAAAAAAAgYkAAAAAAACBiQAAAAAAAIGJAAAAAAAAgYkAAAAAAACBiQAAAAAAAIGJAAAAAAAAgYkAAAAAAACBiQAAAAAAAIGJAAAAAAAAgYkAAAAAAACBiQAAAAAAAIGJAAAAAAAAgYkAAAAAAACBiQAAAAAAAIGJAAAAAAAAgYkAAAAAAACBiQAAAAAAAIGJAAAAAAAAgYkAAAAAAACBiQAAAAAAAIGJAAAAAAAAgYkAAAAAAACBiQAAAAAAAIGJAAAAAAAAgYkAAAAAAACBiQAAAAAAAIGJAAAAAAAAgYkAAAAAAACBiQAAAAAAAIGJAAAAAAAAgYkAAAAAAACBiQAAAAAAAIGJAAAAAAAAgYkAAAAAAACBiQAAAAAAAIGJAAAAAAAAgYkAAAAAAACBiQAAAAAAAIGJAAAAAAAAgYkAAAAAAACBiQAAAAAAAIGJAAAAAAAAgYkAAAAAAACBiQAAAAAAAIGJAAAAAAAAgYkAAAAAAACBiQAAAAAAAIGJAAAAAAAAgYkAAAAAAACBiQAAAAAAAIGJAAAAAAAAgYkAAAAAAACBiQAAAAAAAIGJAAAAAAAAgYkAAAAAAACBiQAAAAAAAIGJAAAAAAAAgYkAAAAAAACBiQAAAAAAAIGJAAAAAAAAgYkAAAAAAACBiQAAAAAAAIGJAAAAAAAAgYkAAAAAAACBiQAAAAAAAIGJAAAAAAAAgYkAAAAAAACBiQAAAAAAAIGJAAAAAAAAgYkAAAAAAACBiQAAAAAAAIGJAAAAAAAAgYkAAAAAAACBiQAAAAAAAIGJAAAAAAAAgYkAAAAAAACBiQAAAAAAAIGJAAAAAAAAgYkAAAAAAACBiQAAAAAAAIGJAAAAAAAAgYkAAAAAAACBiQAAAAAAAIGJAAAAAAAAgYkAAAAAAACBiQAAAAAAAIGJAAAAAAAAgYkAAAAAAACBiQAAAAAAAIGJAAAAAAAAgYkAAAAAAACBiQAAAAAAAIGJAAAAAAAAgYkAAAAAAACBiQAAAAAAAIGJAAAAAAAAgYkAAAAAAACBiQAAAAAAAIGJAAAAAAAAgYkAAAAAAACBiQAAAAAAAIGJAAAAAAAAgYkAAAAAAACBiQAAAAAAAIGJAAAAAAAAgYkAAAAAAACBiQAAAAAAAIGJAAAAAAAAgYkAAAAAAACBiQAAAAAAAIGJAAAAAAAAgYkAAAAAAACBiQAAAAAAAIGJAAAAAAAAgYkAAAAAAACBiQAAAAAAAIGJAAAAAAAAgYkAAAAAAACBiQAAAAAAAIGJAAAAAAAAgYkAAAAAAACBiQAAAAAAAIGJAAAAAAAAgYkAAAAAAACBiQAAAAAAAIGJAAAAAAAAgYkAAAAAAACBiQAAAAAAAIGJAAAAAAAAgYkAAAAAAACBiQAAAAAAAIGJAAAAAAAAgYkAAAAAAACBiQAAAAAAAIGJAAAAAAAAgYkAAAAAAACBiQAAAAAAAIGJAAAAAAAAgYkAAAAAAACBiQAAAAAAAIGJAAAAAAAAgYkAAAAAAACBiQAAAAAAAIGJAAAAAAAAgYkAAAAAAACBiQAAAAAAAIGJAAAAAAAAgYkAAAAAAACBiQAAAAAAAIGJAAAAAAAAgYkAAAAAAACBiQAAAAAAAIGJAAAAAAAAgYkAAAAAAACBiQAAAAAAAIGJAAAAAAAAgYkAAAAAAACBiQAAAAAAAIGJAAAAAAAAgYkAAAAAAACBiQAAAAAAAIGJAAAAAAAAgYkAAAAAAACBiQA==",
        "encoding": "base64",
        "path": [
         "_data",
         0,
         "dimensions",
         4,
         "values",
         "value"
        ]
       },
       {
        "data": "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",
        "encoding": "base64",
        "path": [
         "_data",
         0,
         "dimensions",
         5,
         "values",
         "value"
        ]
       },
       {
        "data": "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",
        "encoding": "base64",
        "path": [
         "_data",
         0,
         "dimensions",
         6,
         "values",
         "value"
        ]
       },
       {
        "data": "/Q6HK+9gTkCYKwsvw01OQO/AaMcsQE5AsslA59hiTkC8I8XBQmlOQCyedpDBRU5AgB9/AuFbTkDxReT+fGZOQDA1xkNoQk5A8pBL1MhBTkBvYiHP6z5OQGZOW7bfWU5AMUa1e9FLTkBmzpp4YmBOQBt/0EkXQU5A/C2xBHk/TkAIW1jNh0FOQMLaxgmeTk5AafNR8ZAeTkDyUHsSmxtOQFw85p94JE5A+t+O8ickTkDXyCVZxTBOQDO0Vu11CE5ABAWAb1gjTkAwFydgojROQCzbldOnNE5ApDv7UVwjTkDo+/geYCtOQOgjt51dK05AjDIkmsowTkCyLonfcyBOQKPwQVFQI05A6PDcg+0uTkAzKoGqhgxOQKSutCl2Bk5AUcD4LCgITkCAL1xj5h5OQJ7hAPkcJE5AuXjMP/FITkCtkUuyimFOQAoKAN+wRk5AFY4jaxBlTkBatiunT2lOQJyP7L0eQ05ASXf2o7hGTkDQ9/E9wFZOQM9Hbju7Vk5AFmVINJVhTkAYoAH2OFFOQGRdEr/nQE5ARuGDoqBGTkDP4bkH211OQEoddIHIIU5AaydwwVoeT0DdgVou8hdPQGS0VKazik9AI/Zw+kItTkAPVImxzxxPQOeCFnfWN05AMOdGYfG/TkC/16lu5dVOQPhZVIykqE5AoBFgcT9VTkAUFLC0dr1OQJP5TxQfyE5AQFwUqFKbTkAKAy3p/GBOQKHoQE6XyU5AETIpnmLrT0B2PAKu91hPQHTKP5R80E5Awdrit0r0TkC+T0ppU0NOQH+a9PQPw05AM8/1QS7tTkArf66cFNtOQImGe+mpw09ANCfhT6a/TkAUlMeeyDRPQDczBmWQGFBAOPBhZm2nTkBBvogMiKhOQH7WlKmB+U5A/oiOcdI8TkDyAWR1UOdOQIg9rs0mHE9ACyX+1lGcT0Dh/R9ncBVPQHZZDCeCRU5AxCbrpJ9VTkDoXgxbIxxPQH+4eeummU5Adlx/RL13T0Ayh188NY5PQI6/SKHAck5AhpszDQwRT0AJb9Dzrw5PQMT0z10M9E9AWFdB2rQCT0B4N9fX6+dPQLMRwAQ4BFBA9daFUg1OTkBA7mtAsENOQEagM8JOFFBA3Wf1bX0eT0ByXXSZJDBPQLhJSR7V3k5AyccKMEkBUEDwRjUYJfZPQOrfZyMYt05ASsp9vJM1TkCqCPQltupPQKK0LzI0QE5AnEimc9i2TkC6o3odSw1PQJyxdrtLXU5ANemdE3B8T0CTJkpJRgtQQJ1UhW6qn09AnR7Mp851TkCv3LbFDa5PQMQbk1QtY05AZhJ0NWq2TkDp8Q8FzmlPQMa/+kTRmk9A6KEXvGT1TkCLYQGviaBOQK3rBl2HGk9AJsHqDXj5T0A4ykWTn65PQJ/EGy108k9AIxPiadq2T0DZH+Lx/NlPQORC8JG+W05ACa5Hc7K3T0COihpN8rxPQA8GnGFA609AYI0gjlKNTkC6fmGmycBOQHmx7PXN809APJWN3wxgTkD+KIuNyZtOQC8jrMtNaU5AaEuMwjmhTkAkcDzucXlPQOIb2mfuJk9AwTpU7ZaCT0BizUvhuYFOQPhucfiWRk5AlqlQtCTaTkBbY/gsgoVPQJrq9iuLPE9AQJ4z8btnTkAUyrYN1h5PQHjObtikm05AUj7Em1yBTkB4HJ0VvNlOQChNswXZa09AgKhXpXPxTkDIHTd7f9pOQIDdv7Zvr09A+j31klkBT0BQy+AYtttOQLhckqKzGE9AFdHMLmZaT0CfXl4Qbg1QQGyvEeAXHE9A6oCv4jpITkBNTZVRxxBPQLxOcDx6ck9AvoigBZSATkAnvPoHuVxOQAIWPURMb09A8MkdryN6T0DLFgc4ZVtOQFtUGHNDxk5AsDe6waxeTkB98y1cJG5OQGR4bESLG09AehQjKybvTkCx/ilkni9PQI4kjF23gk5AfTGBKA3wTkBhghLyp+dOQJGg36INW09ALH34q390TkCWhC4jk/dOQDC+dF72dU9AW2wJ2MEDT0Aruh24EENOQGa1TKKus05A00JdRnsOUEBc4Ro14dZPQIaQu9hfzk5AtBZvvDUpT0D4S6QWXclOQLthxtJ0QU9AOsS7dkcbT0AhFkMEUVFPQA4Msfy1zk5ArAVwVOA2TkBQlkgDgdxOQJzu0ojoD1BA9aisc1EJUEC6A5Tir7NOQF40vTPJQU5Aqjv9PceVTkCv3Mn9Kq5OQEEHQKnkY05AzdyMR/M+TkDLxycSF1pOQNiqIyRsBFBA5aKj1Id6T0AD8oedn7pPQGrZMLuf8E9AEJk1RvNyTkAToKvTZQNPQFjLXkfAeU5ABaTI3d5LTkC59THk1c5PQFiS8A0gwk9A3PDgv2VgTkAezdOgH3dOQPw9ZI+Cd09AHlWzgPjVTkDrFytT2FlPQGehTrdlE1BALqCm87Q/T0A5bu/PfEZPQGnMqEzAaE5AZhSDpbd9TkCsKOpx8DZOQMA4Ezvs4E9AECoKk6MST0CfzWeuz1dPQODqI15mgE9A0mf2bSKRTkBmvXwghFpOQONcWQnFIk9AxFlUzQGmTkAHVwyeh4dOQPDamWGTTk9A/957NDqDT0BT48vKTjxOQApP95s2j05AoO0KNM4uTkAaoRFt9gZPQHJMA01ttk5AXVk7vvq0TkCAJMnYuOxOQA2krx5W7E9AMq3kTU7yTkAlNm3/3xhPQNNwqvsLLk5AakqxVFr6T0BCd/JXrlNPQCj69FqoXU5Aw7HRUQXtTkD/hPUOx81OQBwyzisFnE5AjLBaHL1YTkBcA5nfxFJPQFAdPKI02U5AMl77uK+HTkD5ebUKyY5OQOI9FR5TwE5AVJGCOJDaT0DkTVfLIkFOQCTKo/S9s09ACQ5ZDpONTkBmxq47XxtPQD/8ENWY+U5AIVQAtCN1T0AQ4z1N8ixPQFqYnN7M7U5AFEPBNvhkTkAYqUJh2ahPQL7bzB8ZClBAbhcryZFfTkAGXWVBa/dOQNCI32YEp05AEDbo7w4oT0CIPVnJuxBQQBO/QZ4vgk9ARshU/96zT0BBnE6LbmpOQD2j/OFdJ09AC7vhf2rpTkDU7dXwisBOQFHNpytpIE9AVx345yubTkDazxjycs5OQNxMmfXCAlBA131UtthRT0D/Ns3zjj9OQNHdYhuBeU9A7XSIvk0TT0Bf/rQfBbVOQCFdw4Gbak5AFizsOkHGTkAwzUuN01xPQFR+AKhslU9ADxd+9UXJTkDOgktwjU1PQMNlk7NbaU9AwoMrwFprTkAehrsffiFPQHuAwItKCU9AWqmmdOUWT0DCFHxeM3tOQAA7eQ2twU5Aw/D1IpTaTkASl4O8lepPQEhPrWQm3U5AKN7UG7NOT0AxVS5nPc1OQOo++3hXvU5ASsdEqdelT0CbovrRGuVOQMwCaxJwdU9AJpILn1z9TkBHSALuhYtPQCgs+TeIQU5At9kbgycTUECJsvMkpk5OQFWCZXWy0k5AHiyqXmXBTkD82QmmrehPQNJvR5EJIE5A7YU1HPE2TkDUgwEORiNOQLJfDsHWVU9A3ROd7j4iTkCeWyW9CyNOQF7kTemZz05ApK/hOzQgTkAD8SosfWlPQPowQ5FXzk5AgtQnCTEpTkDktnr5ESROQIW5oCJUL05AFGBQOZZCTkBvR4AJ4CROQLmDIIi2bk5AbsuV8yHHTkAkoZCGSIROQPSpV8Z3IE5AqEMr38JeTkCEC4qVBD1OQDJFAA+qNk5A1Z2TgOQhTkDvMuV7LbhOQFC5ZTmznE5A2SNo97YLT0AKajkAPPNOQFa5P0Wd505AWZ/3LT1TTkDsU2gIDsJOQCRIc9VD/05ALDSxYx+QTkAkNliqsSlOQJaQAg1/gE5AZTy2BcFITkCgNXyQyXxOQFHY4rrHW05A4OPgBe5kTkDn2SOMHnJOQGTf/XUZEk9AqhX3HgVWTkB1lJdeszJOQBPsh9lvBU9ATNzAbSUtTkBadkEu2DpOQLN9M9vhQ05Ar8JSRWUrTkDq7H2kMvlOQBW8r0Rha05A7UkV9xG9TkAiowUrgqVOQLCmNTKJQU5A7QRTOqquTkA6fpX8TcxOQBCOo4M/P05AByVhU2CzTkAUqF+Oz2FOQDiJl/xHS05AmY4s1YVQTkActv5CzDBOQG5gdaJf7U5AHGygrw+hTkCwUinRJ3lOQKnKbOTdWE5ArMTF7QqqTkDbxVaDHmhOQNgIbhS6OE5Abtf4VDuUTkD9M2eGbJhOQAy0aXEYjE5AJFnbuElGTkCfLXqPmXVOQBLfPj0miE5AeXSQWvIuTkCC0JRCbyZOQN2OABPASU5AcgdBEG3dTkDdlivnQ45PQEhCIQ2RCE9AWWhixz4gT0DnU6+M70BOQGSKAB5UbU5ABhcUKwl6TkCWuIHbSlpOQKk7JwHJQ05A3mXK91pwT0CdcstyZjlPQNkjaPe2C1BAFNRyAHjmT0Cscn+KOs9PQLM+71t6pk5A2afQEByET0BHkOaqh/5PQEhssFRjU05ALSEFGv4AT0DKeGwLgpFOQEBr+CCT+U5Ao7DFdY+3TkBj3/11GRJQQFUr7j0KrE5A6igvvWZlTkAT7IfZbwVQQLPsglywdU5AZvtmtsOHTkBfhaWKylZOQNPZ+0hl8k9AKnhficLWTkAmvn16TBBPQNuTKu4jek9AQkYLVgRLT0BgTWtkEoNOQHT8KvmbmE9AHxxHB39+TkAPSsKmwGZPQCtQvxyfw05AcxIv+Y+WTkBRh1a+hb1OQNkJpnRUXU9ANB1ZqguhTkA6bP2FmGFOQM6zRxg95E5A28DqRL/aT0A42EBfH0JPQFKV2ci7sU5AWYmL2xVUT0BdpVKiT/JOQMS2kQq5Rk5AtIutBj3QTkDAx8EL3MlOQLIR3Ch0cU5A367xqXYoT0D7Z84M2TBPQBlo0+IwGE9ASLK2cZOMTkA8W/QeM+tOQPPoILXkXU5ABKEphd5MTkDPYzRAIAVOQJYw0hMnBU5AC7d98r49TkB4h81gajhOQOjGPoiBPE5Acw2g39Q5TkCRdYY3Ei1OQOvO22dmPU5A6O8rEREsTkAgLKLMny5OQKpWxLSbOU5A0OcI9w00TkB0DHPU1RBOQObcMxS6Hk5AV6/fHcgeTkAlQapNch5OQCSBxqKSHk5ARN78DTITTkD2AcywhRxOQE/W/gERH05ADkqIklAeTkAhNPCG6w1OQGS+1Y6iGE5A96WKufQeTkBCCApkEh9OQGyFZOr2Hk5ASBkmnAYOTkBVlyHJOw9OQPSlwzyQCk5Ar2tavsAeTkB4ntvlxR5OQPgS6NjhHk5AMK2mIW8eTkAvvNsDEh9OQM9QwYQAH05AHNcyAxAfTkC4MvHmFB9OQLBwWAtbHk5AegApvkseTkDpPKP0Ch9OQNfWK+0VH05APy6WBw0GTkCf/nXB2BFOQG4mBvLNCk5Aze/yhQQPTkAUHAihQRtOQPRaEtokC05AD1YtaqYeTkA1jIF6+R1OQPyVzIpoHk5AwIC06hQvTkALpnUtBy5OQMcG5Mw8MU5Aukh9CygmTkAfE72wujtOQAu4iTeSI05AM/cB9gA9TkDH5vWM1jBOQGosG/jxPE5AXqNEPBE9TkCIMtxUJz5OQMjVkGDvOU5AguKbXFU2TkD03OUhyT1OQGYkzYKaOE5A0tPGaNc7TkDna0NG2jVOQPDPwoH+ME5AMLBwDaksTkCb4mI+dDZOQM7hP8T+PU5AKgPXPMctTkClrxNcNjhOQF4XjA0BN05A5rVJGuk8TkAG4OVRczhOQJ7TZKoqPk5Asv9BhoE8TkDwX4Gr5zxOQEOoSDtdN05AHMwe9zs6TkAnA/up5DFOQOoC/tNbLE5AjkfFLK4tTkDKoS5euDJOQFMS9nxpI05AK06ZaZ0oTkBDVmf6kTJOQM32ShqHN05AtA4zPN8uTkDhpJT5KT5OQJ8KQVl2Ok5APIZxGkM5TkAKVxkz6S5OQPqKAYUQOk5AgOzGMsM0TkC5ArhqaztOQNX/zp1uPE5AmnTkmL41TkAwG6iPFT5OQA8SEjo5PU5ACjKL8VowTkC5kSwhVjxOQK9dPjNyLU5Aes4oP8A7TkBuIeDXTjpOQGSOYpj6Lk5AimDBJCQxTkDfFd9nwjtOQKzs4itxOE5A+H+mClE4TkBig5fJFTpOQN2P9w9BLE5AWaMcpfE8TkAySKQYEj5OQIb9EUnaM05A/ohHwwQ8TkB1zYzEpTVOQCC5miPPPE5AjBg7vLAxTkCyAnOC9TlOQMs5NJGXLk5AV1WZ5l07TkBUYEpa9DtOQPz2K53wPE5AYMq+e449TkAv6tkdCTdOQO4NEx/hOU5Ad6SivOY6TkAr2zcJuTlOQPjT4VMsNE5AsNcq+4s1TkCQWwSjLzZOQEpTHgYLOU5AHSR0fls6TkDY5rTczzdOQKgUrOPdPE5AHIua2r0yTkBwvBktLjpOQPL/NRYrPk5ADi/mxUM6TkCXeJL/Dj5OQOD6SrrsOE5AOMBG7e09TkCn2hHZiD1OQPIlD1AOPk5Axby7xlc2TkAVfEGYOi1OQPAIFH7eOU5AySJHBc02TkC675Aw5zhOQMZbuhxyNk5AslZrH0Y3TkDeXbH13TdOQHPX535pPU5ApQfC0fM9TkCdYSP/hDtOQDQHN3KKNE5AS+DtSoI3TkDJPIUCsT1OQOERP7qLPE5ATbX8Mgg8TkAw7gweHT1OQHqIEiSUO05Abmkxito1TkDu1aBpjDBOQCYU4ixZO05Ag/+/V/osTkC2LKAN2jhOQGJ5k+VjPE5AX3RfOSw+TkDQlx0NkC5OQCvSva5lOU5AbaJR1gMyTkBdR0m5PjROQCWeB/8/OE5AULDzKts5TkBvhrbgBjlOQCCgIEnaN05AdAu37cw7TkDbvOyNJShOQH+jJzglPE5ASTAfV0I5TkDDXwf+5DtOQMAa/xboO05AWeP8Nwc4TkCiJLg8gz1OQJ1CLv3bPE5A4DxzLlo9TkAes6AMKzROQE0smY43OE5A+NdmB/Y6TkCMhF4pBT5OQAZb01gLPk5ASSMRb2g7TkCpI7/nCDxOQDx2iYcKOk5AZws4M1UyTkDugFriEDxOQAKtJwitPU5AhgeFWy48TkCjGjGnfy9OQLrwCjfVOU5A8w9UuSA2TkBQgPH17DxOQK84xIs/PU5AtId9MBgtTkB1IBabCD5OQHVesoDuPU5APYRIbqM8TkDrjhw35zVOQBwef6/zPU5AyQGf5Lk8TkDmtm7AKi5OQC6UPWnBN05A6HXClFk2TkAmZTazCDdOQCAtlr8mOE5Amt361Wg9TkDInMY55jJOQAB0HOO6LU5AyQugxvE9TkCOBH0NHipOQGFgAZcFPU5AA1j+vpA0TkB/9m56Uj1OQGcaamRnOU5AjUjiD6I7TkDfyMI/9ihOQJPOeDuROk5AyMvi9Dw7TkCg0IbSMD1OQNrU10B9Ok5Au3n3aAM+TkAqttEafSxOQBi6RipkMk5AB68WwcI0TkD9pe/N6DlOQIM+M654OE5AYhhCFQg+TkCDJaYy1zJOQAAZ0WAjO05AQuj8ZNAsTkDXIFUFICpOQIjnP2HYO05A6Jqh79AyTkBn5RwmvTxOQKLx1bSKOk5AixRk7Cs+TkDkQnxc5zpOQDF8EnAWLE5AVv8hCqo9TkDd6dCjdDxOQCxhl0V6MU5ALxMRVr8tTkC0nQuRkjtOQFOodZo7PE5AXWUh0oc4TkA5XD8XszdOQALHa98qO05AHsc7HCM+TkDr7rFyAj1OQCtqDDUyLU5AbD1nGiY+TkDBVIf/qC5OQP6zhfnPM05AsGMr/308TkBZ8Vxhly5OQGcEECNYNE5APnhtI0A6TkD0iXbxFTpOQET/vPgDPU5APhABJFc1TkA3KltlhDJOQLGe/aVbPE5AT8Y91HwyTkCPUGI04zNOQEVVUZpsOk5A/kb0ghY+TkAyslp9bjxOQPjom2DdPU5Anki2924xTkDOGtUqUzpOQCRIeGX/NU5ATOQ6xCU6TkDKLza1vTdOQMbnKPB7PE5AQjQmTfM5TkAKXOCn+DROQHkPsaGxOk5AZBLv5GczTkDas5Ln3zdOQHpZVZPuOk5AiBaOpBY9TkCNfrriCzZOQIb0JZtROE5A9wHVMDE7TkAUxJdSFT5OQH6AyRs1ME5AIH+mCf49TkBSaZuF1zZOQLzOSTLjOU5A6qnnm9Q6TkC0zvsEtjxOQLqss/0aNk5AcCjRuOI9TkChXZoAfTZOQBIrV/iNPU5Ad72+X4AwTkBoFQ5kVTpOQBqakYB1Ok5AwCJxzgc3TkCPbRnYQDZOQOOimQfXKE5A/9Ej3ygyTkAyrT+DTzROQGYsRFRmPU5A93FPX9k5TkBBrxeuvj1OQLufbRacOU5AWO+Pzvc8TkAxVcgfFDROQCeAYwBlOU5A1Cb40L05TkBXHK1aGzpOQLJChRsAI05ArnD52cUhTkAtcem2wjZOQIjAMxNpH05ABotLBI4hTkBmAzET/iZOQEMWF9IAN05A96Su50UrTkDEp/f1xyVOQEeAVhiJIk5AOHopSyI4TkBIpN4hFh9OQI5IvUMsPk5A92EZTfkETkCRnzgFEhFQQAByVA3vME9AXDaa6feoT0AYUOoxdZ9PQDnqZVFtvE9ApqKlOWhYT0DNm9dVkA1QQAAp1XASQU9AidlM01ATUECYO31k0rhPQKOafCoNE1BAEE4HRpoTUEDeF/JYgRhQQJKqUml3BVBAzWNYiWzqT0AUu9U32BZQQPImahnq/k9AxIJJ8hEOUEBM3f2GFeZPQH3TlAs7uk9A9EFQ5hyTT0BR/WNIg+tPQIqoNkbKF1BArIemDzSdT0AjNW0dYvtPQE915kB68E9AU/qUJuUSUEBpwIZaiP1PQMhjObEREVBAqOlBr94SUEAygotGuvNPQKj0jw/RBlBAepCnfFjCT0AfH4fbY5BPQP222F3PyU9ASvCS0KI/T0AsjUAEmW5PQKNUdNp0yE9A5UlaNjT1T0AGCCRfE6dPQCanDEeNGFBAyIbhjNgHUEDYjkPsbQJQQFUuC1Btp09A0ftn/AwGUEAVtomIPtxPQMHKAZEqDFBAlWbRW7wQUEBTBRe1G+VPQJ2G9SUxGFBAY1cCsXa0T0C/T+DYTRBQQEaYJX80mk9AhL1caakNUECOpz5CJgdQQNlbP1QKqE9ALRzewo67T0DG1c0nsw1QQEafBPZ0/U9AiWF681L8T0B4rLPCJAZQQE9n2UNyj09AufnsswsTUEC6zcaCIRhQQKZnmjcI1E9AhjuWod4OUEDRy4mXO+RPQPUOePlvElBA3ti/xIPAT0D3IFsWkwVQQBZkrnuMpE9AQH0oke0LUEBvKyCSlA5QQKMlvQwHE1BAMWqKh88VUEC+E7MJw/BPQPGS0hI3BVBAUinaxNMJUEDjqxcqggRQQBIg977s1k9A2+w01lLjT0CA8BYGGOlPQIHjztRwAVBADEpBWl8HUEApQeXzxPdPQLCQOIuyElBAwOpr4gDKT0ARmj/UkgZQQELpnEuSGFBADKQ9TPQGUEA1EpSHExhQQBM3CBroAFBA6QViRn4XUECf9psYthVQQGjAeG8QGFBAgE2nVILqT0A0oHKXPphPQOnrhjUrBVBAd5afmaTuT0CuarIbzwBQQJncLAtw609AY37UsOnyT0BwB0ozRPhPQEIKxZkoFVBApJ1N3pgXUEA/B6UCngxQQPZU+0Y+2k9AgMXUywj1T0BoYsVZaxZQQLFMYL0/EVBAYIfKI+4OUEDKfuHlzxNQQJO9nVviDFBA7jYj7BfmT0A+9W81NbZPQK+MmD3YC1BA+5YdpPqVT0BSgW3SkwBQQDUh1vqLEFBA1IKnbZcYUEDZkX6kSKRPQP4uhvsJA1BAVKiz3HHDT0BYkfDKktdPQANgnBi5+09AlChQNBwFUECWq5UeXgFQQPtMkQkj+E9AbyRgpeINUEDmiZcnX2pPQDRKVBxxD1BAxUbCemoCUEBiqHQ/Tw5QQKyvMTpdDlBAtAuRnLj5T0DMOjnGnBVQQLaFo/epElBADuZhfOMUUEDQrCXsbPtPQHJrkMgYClBA+JWwIucXUEBkh/oMAxhQQMLlkhodDFBAXWyTU/EOUEBgBLfz8QVQQM6HTUJQxk9Anu4NVhUPUEBzhcplWRZQQOi6GlqaD1BA5biZVbusT0B1PMRWAQVQQOFv6GqR6E9AXOz2j/YSUEAMQgRHaxRQQOgF4woIl09AkZT2rfYXUEBcf7TfgBdQQJiBALeqEVBAljdjVYrmT0BDqK1DmBdQQI9l0hYQElBAAfctS7agT0C0IdCDQvdPQB18/Z6S6k9Avm8oR7/wT0D3/Vg01fpPQBldZJ8lFVBAnxulSW3LT0DFj0mVxJxPQKcBW6WPF1BAz9AX2ih8T0BUHDokd9pPQPjte7jAFFBAs6bIshEDUEBweW8vIQ1QQJ+WUd+6cU9AgIX74FEIUECA/QLjWAtQQI9rFNQoFFBAP4QttvcHUEDAugE73xdQQCo8EziQkU9AtCUnVtfGT0BOUl2GOtxPQJ6ydL9ZBVBAV7ovvbj9T0Bkz/tR9BdQQIGzv6Tlyk9AIHT0cuUKUEBvUQMCgJRPQHLa4p06fE9AOk6rUxYOUEArVZsfrcpPQKP8csgeElBA9jY+bTQIUEAsQzoSlhhQQItORZbWCVBAb3sEh/GNT0A8DqnkSxZQQFM9C4vXEFBAY2zXK5i+T0CeVLe97JxPQPOOt0DbDFBA6ua8IdYPUEDXaxFmQf5PQIxe3UHB9k9A7jDMRQcLUEA3p/lLbhhQQPfeYIlXE1BAtPVY4vKXT0Dxo8XNexhQQKkreNEppU9ArN2KJqvTT0BsQIDFARFQQLEX3MuKpE9ArXJPLXjYT0BaPO/k4wZQQLzypHYlBlBAPjCuaV4TUECVg3fjdeFPQIfH9kH6x09Agy4NwWYQUED2zTL1tcdPQC3kOblY1E9AlSP/kKwHUEAN5ftvNRhQQKDJ5pUzF1BAmW4jIzK+T0A22wvGOQdQQPU6vJhk509Aw8wj4GwGUEBUgbkWIfdPQBllDnv4EFBAOHYaH4kFUEDc69YMId5PQMUflRnkCFBAan1vs//PT0AYHEDBVfhPQCVWRSX3CVBAHVVyrbITUEA3SsxT1edPQCpFvgtY/E9AxLlTySMLUEDPSl8SMBhQQOaPiC8hs09AneQS/MYXUECqE/5iA+9PQDq8PXBABVBA9cbL9IEJUEApw3eb/hFQQFgw1atd6E9AcgHBtEsXUEBeWBBX0utPQDecfzbNFVBAjH3Gi8i1T0DxcgDPQwdQQDSp9brUB1BAFE07NrfwT0DanjJXs+lPQOx+jxShcE9AZN5jJMDET0DKASpVKthPQDUNR08aFVBATzjoGRQFUED156sLqRZQQOSofoT/A1BAkKzLRxLWT0CpQ6foBgNQQG9Y/7yXBFBAJyE+4j0GUECFlj7nLCFPQMtSFKHrO09AOMg4GNcwT0CaUDuTR+5PQI4zhkSEG09A1ivDHt8uT0DFU/AZ9F9PQAXauQSuIk9Afsk6KHjwT0BnKmRFl4ZPQF7rv/MEVU9APg+DZrk3T0AB9cGIMqtPQD2uqP6s+k9ACH5wnJcYT0AIfnCclxhQQA==",
        "encoding": "base64",
        "path": [
         "_data",
         0,
         "dimensions",
         7,
         "values",
         "value"
        ]
       },
       {
        "data": "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",
        "encoding": "base64",
        "path": [
         "_data",
         0,
         "dimensions",
         8,
         "values",
         "value"
        ]
       },
       {
        "data": "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",
        "encoding": "base64",
        "path": [
         "_data",
         0,
         "dimensions",
         9,
         "values",
         "value"
        ]
       },
       {
        "data": "nt3APJvLfMCc7hzvB858wLacd20d0HzAHSeN6TjLfMBR3MjsW8p8wGkKZoJxz3zAF9krOf3LfMCIQENSssp8wDPQd7Xnz3zAWfLn/PHPfMAhTpPX1898wBs/qTOmzHzAZsywpGDOfMAv6tTtrMt8wK+qBmaYz3zAZXXzUS/QfMBydyzx+M98wOjRc/fbzXzAJSZEp8nTfMAXVbwL2NN8wP0Qfyr/0nzAUlTVRADTfMBWZa2GQtF8wCJHOOqB1HzAwmyrdzPTfMDRk9Pgq9B8wNCvpt+r0HzAul5AaTPTfMB/8R/CD9J8wDLXgMcP0nzAnGY9gULRfMBICeUqmNN8wBzS05Uz03zAwBgKnonRfMDB0RiQStR8wHwnd1N/1HzA/Yk784bUfMAsDxciyNN8wPpSgmsA03zAn0zjQgLPfMBQ9T/7iMt8wCgEPN1qz3zA3rN8YfXKfMBEijKtW8p8wENXX0HUz3zAGOhlwGrPfMCkDSVyI818wArZ5nwjzXzA3fdf8IjLfMA332Y6p818wDY9r0M00HzA3M6MGWvPfMAmXPkpF8x8wB5tzBaA03zAHht+/YOlfMBgYDNon6Z8wEKY3mAzjXzA31NtRRXSfMDOBEs6Fql8wMrJAhFv0HzAqwXzYIS7fMAHa4mZV7V8wNUWyZi4v3zARkQOL1DNfMBtsY67Hbx8wI/TCp+SuXzAlRD0tlvBfMChGokum8t8wDSnV8sYuXzADSUrW356fMCDHHQdgJp8wG9RRjl2tnzAAmWvuAqufMDLzilcm898wFGPphkSu3zAC2VYYtivfMC4sGETqLV8wG6N01z4gXzAlMgCH4+7fMC7K+SyO6N8wDF5wvl4anzAJY63hOO/fMDkzzWHvL98wK11Umprr3zAZeRfG6LQfMDjlqiUAbJ8wGj7gNoppXzAdd282j+HfMAVjCiKfKh8wGN+iNhKznzAwpFoaw7MfMAwmUJX/6Z8wNBfUvvJwXzAzc1G1r6QfMBCzEpnKpF8wCsf+2miyHzAPL8Uj/uqfMB+666M66h8wCpkdNmSd3zAs0W0y/WsfMAy1/pEJXt8wNB/3equc3zAtDvlaQfOfMB/Zao01M98wA8iXmgebHzAImuKjdylfMBclvvxL6V8wNatH5zJsnzAhhKfcM10fMAY95RwLHd8wOHjJYshu3zASWXJGlLRfMBMzLnRnnp8wK9V8FEd0HzAwQL9TpW8fMD4aO1K76t8wOq7Ib0Ty3zAPnuilMWUfMAv/vSh/XB8wDbfQSJIiXzAALxpnkDIfMBrasGVl4Z8wPc/tLM4y3zAUaUvabS7fMBEFZLHA5h8wOarIM8RiHzAmCp7WQWxfMC5xanMC8F8wPDXj6PRqXzAoAbhuNd3fMAc2JZzCod8wFN9zbvgd3zAONM4AKWGfMAoE0emxH18wJvYUtPdy3zANoe1+ziEfMDL72IJPIN8wLSiTIlAeXzAGUDo9DfEfMCAwzaMprp8wJTzlKroeHzAvU9Q1xjLfMCHjub9scF8wJqLZ+pbynzABKrahr7AfMB7xLt+x5V8wDxewLZQpnzAPGnTfLOTfMAApi1sbcZ8wJc5OGRuz3zAvsaRk4S1fMCuXQ4/qox8wHg92MHuoXzAfFZEYyXKfMCbc+tbBah8wBX/ZUVQwXzApiNvPvnFfMB539t83LV8wLN//+uYmHzAhdKM1kCyfMAz5PT8TrZ8wD6ypgfHhXzAe8crFNitfMCzLJMMabZ8wIyeP2kcqnzATzfJJwmcfMB4acg5eW98wNYFr9kzqXzAng2SGuLOfMDjQW546qh8wM28V12BlnzA/PKaARXFfMAJ62Kt/Mt8wDoq5kCIl3zARSeOyaiVfMD8qVwpjst8wOWeVIbYuXzAEwCsa0TLfMA1FxJP7ch8wHZ8O1mPqHzA/EsfqPyxfMCBUeCBfaR8wNsoOqXLxXzAa7fGJSiyfMChgIHzj698wFAbqajsm3zAAGOID0TIfMBtpCT2rrB8wMRTKhjmlXzA/jd0j3WtfMBSkh4S5c98wINPWCW8vXzAaX16zBFvfMAXExTL7Ht8wCb9AyIfuHzAZiQ5i1KmfMCx/IXM6Ll8wFeB5SnwoXzA5Qaqb1WpfMAUc7orBJ58wOKDJ3lWuHzA/TXA8S7RfMAznqowArZ8wPyno3iFbnzAmTjJnw1xfMD2A2mK4bt8wKbPhfvxz3zA52uQx1LCfMCUC4P/u758wJ0+IfUiy3zAz7+Lx9fPfMBDVFXQpcx8wB+uD+1GdHzA0hOLjhqVfMCBG7X4q4N8wFz5ddQlenzAPLHOBMLIfMCq/8v9LKt8wKzxXtBJx3zALLb3h2DOfMBijvJJRX98wHmbJA7XgnzAex5x6qzLfMA1oPfmUcd8wDBi9OBNkHzAt32VjIm3fMBoMRZO45V8wPbTSIp4bHzAG702+sCffMA6Hvjdr6B8wBcsmbwnynzAwyAoZ/DGfMCp95GU0tB8wLCw+n52fHzAQIsDhxSrfMA8RlBe65x8wINQ21AXk3zAsQVzRebDfMD6qbNvjMt8wDu30KiApXzA84EwhTq/fMA+A8SaKcV8wJnXcdKdnXzATNfwEZeTfMDUOaIkdNB8wLhQ+633w3zAQwVH0BjSfMC1H8a2N6l8wJ+gODIdvXzAsttbGCe8fMCAHpcI+bJ8wJhBaQiueXzAqn7+kh+yfMBmE52euKl8wNdwZBgt0nzAg+uZIa13fMAaS2HwnZ18wA4OKKZky3zANW7FI9+vfMBLd6/Pvbh8wLigV1bdwXzArOZS75LMfMClK8rydZx8wBNASXeAtnzAn/vt5H3FfMBlJIhaNcR8wI7ueaX7uHzAAYUgzX5/fMAu71RNmM98wLfgnr9nhHzAT0fgHV7EfMAL0mnkB6Z8wNFT5fzCrnzApYPpm4+VfMB9bOuZUqV8wCgqAQvPsnzA7ye6+nzKfMDGwUc5eIZ8wGpWtOnAcHzASkguEyjLfMD8u6LXHK98wJcjXuG6v3zAUiiTO0anfMB7DzhJgG18wNqMxnfFk3zACBYrx0GDfMBIhdgK88l8wDl/ZVp7pXzADX7rvyyzfMA16JvDr7p8wCVH6bqBqHzAr/EHicfBfMDz9BoBlLd8wLGEFHqSc3zAHeQzPVCbfMD6bn4AL9B8wPpc87DLlHzAJRA6L1SrfMArsxYLnbx8wDm/2FnKyXzAAR5dSBq6fMD4nRSKEpx8wIHJX6AminzAKE99I+y5fMAQxaKmXJ18wEVLDK0XmHzAB4TnHNbJfMCQXj4ZVah8wHBrXPjjq3zA3jLEV8KqfMDnpb5P8cZ8wDPeUONEu3zAgZZb7FK0fMBe/woCA3p8wKHYOHigtXzAdBQG6ymdfMBOms3UBrh8wJqhAk23uHzAigK2GAqHfMBucl4787J8wLYHhbd4lnzAWjp7hyKvfMBEiTTpopF8wAPVoO/4z3zAKzYxmZBsfMDF/vDr2818wAr78aN5t3zAZ1xafc+6fMDF4fSBX3p8wNVoWS+u03zAETpZ+YnQfMBI1nQYTdN8wITHI119m3zAZi0fRV3TfMA0B2wvU9N8wHbdh3N1tHzAIenSyKnTfMAU9Wc9I5d8wIVvmXa7tXzAGmf/S6HSfMDqdwrNN9N8wLFBpnIa0nzAVLJnEcbPfMA/T5zF/dJ8wCJd+gSSxnzAYUuH8xG0fMBPHyJhWcJ8wGE7VBqY03zAlGzd1YvJfMBKZpyoWs98wI9RiS9c0HzAqZZw1GbTfMDHCL+QZ7d8wAbrCQBUvXzA0XMWWuejfMCgivI31Kl8wBZF2FmVrHzAVRKnB5zLfMA5B2PqNbV8wFcNg/bvpnzA3SPY4fG/fMC5gkLlTtJ8wAs5cAUbw3zAz/pi4mrNfMAnV8cY18N8wEbWp1kWynzAoGrdRGnIfMCgrywS68V8wCgVYwVVonzAJ90zWR7LfMAtvUSe+NB8wFv0pEdwpXzA+A+l+M3RfMAHTe+os898wLoTpbE7znzA/BoTtw/SfMBXEbyOZqh8wGVOpPYzx3zAp0tiaFK2fMA66q2Mdbt8wM0T4MKeznzAJiKDa3y5fMAFZjBg5rJ8wHnyK2P+znzAacxOhnW4fMB0u63X/Mh8wDdNg/b8zHzArgUZoRXMfMDuG4Z/QtF8wDCXYBk5q3zAY86WC2i8fMBCuae4jcR8wFRd7XycynzA0PNpYny6fMDHxNUC0cd8wBkcjXkJ0HzAIc05yxi/fMCAboqKOb58wF+bxO3EwHzAFfMQGdXNfMC6BTMCP8V8wInL/Q2SwXzAdxgrl4nRfMBGRYTaxdJ8wCTJHXn/znzA6uTZ9ye2fMBmwfPUJ5F8wENpKbC2rXzAX3KVseeofMBmoY0iNNB8wMLN90y8yXzAOvcdP7nHfMCWSi/fn8x8wPdXxpbRz3zAMjxjD9OXfMCxAPntq6N8wEgSEqLScHzA5D/KXax8fMDRtJWhLoJ8wE9PM/07wHzAFjmrwm+TfMBTReva43Z8wBYwarihzXzAupzF+DmvfMBDIKuy2cN8wPLYcx+ysHzAMdc0oTC9fMD0VKv4rW18wPPkTKBAv3zA/6RuKvXKfMBbEy995HN8wLPEwz9ryHzAGVIvUXvFfMCdYAtcI818wFNNXQvReXzAb8ct22u3fMC2weAJKKx8wPPBqb6olXzAGP9AB++ffMA/UqVzQcZ8wK72Ra7QjnzAmA89tADHfMB2w4L67pl8wI2hQJ39unzAE8Xr2v3CfMDOA6CZG7x8wPJu68T8m3zAAjYXMC/BfMCAYvHsiMt8wOSJPhLatHzABFmmIHZ/fMBrxxIF1KF8wE3lv+c8vnzARhK5svydfMAqnTRfH7J8wPYx6b5qz3zAM7SQ86W4fMDm/5931rl8wNdi/+AWyXzA6MRYhDWnfMClB/oCd6V8wGRhbsmNqnzA0BAHIK7EfMAZNkvygbN8wJJbOxwXzHzAMbXtoo/OfMC1WRhWt9R8wLe8sFC01HzAG22o6pzQfMChXs/xKdF8wPSwdYS+0HzAJ8AoHAXRfMBcXqKKVdJ8wJCAUram0HzA2INeHXDSfMDQC41CLNJ8wFrZrQAL0XzAi752JJ3RfMCyr/G4H9R8wBbPR+vI03zAhFJlq8jTfMBbkwo0ytN8wHZygZ/J03zAqcaOlgzUfMDqxUZo09N8wCCY02HH03zAI9fGz8rTfMCMy1JZO9R8wK/ESlzo03zAwlBH4cfTfMAgsptbx9N8wC0EY9fH03zAibPeQDrUfMCjkCZGLtR8wHaWCt9i1HzAsPfuzMjTfMBYBXy1yNN8wOuTpTbI03zAg/qmQsrTfMDYH0xdx9N8wBILEazH03zA+HJNZsfTfMB31FFQx9N8wPvLV5/K03zAZtEj5srTfMDa4w19x9N8wBFqt0vH03zAnO8qKK/UfMD75CY3F9R8wD9bm6xf1HzA8z7hWDDUfMDoS0Lc2dN8wNIsiUdb1HzA6Ev/RMnTfMCd65ZlzNN8wDDnBmHK03zA1+LP9yDSfMCzM8PJPNJ8wKkXYQzo0XzA4gCAnwzTfMDprZII09B8wBAXzuFQ03zABSsFYrHQfMCMoRaY8tF8wFuk2e2y0HzAxwBTtK/QfMAlUroFk9B8wFOe3GcC0XzA8B3sf2HRfMAR7t+8nNB8wIAqyY8l0XzAzyBOEtDQfMCfuc4xbtF8wHmnHnnu0XzALtAl5mDSfMDwIotQXtF8wBorxDSX0HzA32b5YUPSfMCozxbkL9F8wOCQvspP0XzAet3z17PQfMDU2oyaKdF8wO9jsq2S0HzANxi9hr7QfMA8D8j9s9B8wHtQ8UhG0XzAseuygfrQfMDekkK81tF8wLBmHN1o0nzA9Xq190XSfMA2Lp/mwNF8wDj5KxVV03zAE3Q/tsvSfMAF8DrcxNF8wIFQavdB0XzAGI0sgSbSfMBkzu6/ktB8wOG/Mnz00HzAsRZtLBTRfMBR6RR6JdJ8wIwlzfz+0HzA78pH+orRfMAalqM129B8wNjt93nA0HzAWnCSDHHRfMDuXevalNB8wDRYbZSr0HzAb7uyV//RfMD4RX8Aw9B8wOYXOidM0nzAbl7eddLQfMBYO0OP+NB8wDJiyK4j0nzAbv5kl+rRfMC4D9080tB8wFbcRtMp0XzA8omaIy3RfMAMT7Zx/tB8wJIQz59r0nzAn/Jo9rLQfMA1Tmc2ldB8wEHr5v+i0XzAY+/UZMvQfMAGiyWcc9F8wLvfeIW20HzAVrFWF9zRfMBX1vLFAdF8wOj9beUt0nzAaHSBmtzQfMD5CRwWzdB8wKTIoRGz0HzAawJkyaLQfMDNjdb1TtF8wPB6QuAD0XzA1EXN5OjQfMCVO6MCCNF8wEW1u4ma0XzA4Hf+RHbRfMDia/pjZdF8wMh7GPUZ0XzAtb8+QffQfMAyXVd2OtF8wHAABQC10HzAchvGVcDRfMAXXcbt+9B8wJKvk6KS0HzAp/mMs/nQfMC7yzKIldB8wO5FAhUd0XzAdzJj8ZjQfMBYGy9eo9B8wKjhTJqV0HzARrgrQGHRfMCzz2HjUdJ8wESpqyUE0XzA+uKOKFXRfMAfpTqnHdF8wDQ00ohe0XzAq3AWq0jRfMCZ9h4COdF8wJyr+pmm0HzA+p3OVZjQfMD1DUGS2NB8wKHHttSQ0XzAqx9qdkLRfMDl/8g5n9B8wAqEWHm90HzAFu4ZCsvQfMCQiZp6rtB8wGn/ZQLX0HzAEyzNKm7RfMCNuI89+tF8wAayRRfd0HzAmEDVg1jSfMB8rRICH9F8wFkoAJXB0HzAKhyMhJLQfMDk4N+rLtJ8wKAIbZsQ0XzAmfMwhdPRfMC33gSkmNF8wKKfp+Uu0XzAswd0fQTRfMAk35BiGtF8wLLMIGM50XzAqkEHJ9HQfMCWYN8S2NJ8wDXr4AvI0HzADS+SQBTRfMD96aurztB8wBMd41nO0HzArbLBwDTRfMC1M1Pyo9B8wM3hMTK10HzA9dJSLqjQfMClPHyrmtF8wHCyecQv0XzAA1QLUefQfMDrJOuLltB8wBn/muiV0HzAj1tmhNvQfMDyUXX3ytB8wGV59Zr/0HzAC431IMvRfMDHLcokytB8wKv/0KKf0HzAUHOaGsfQfMC65qT1FdJ8wGXynxoF0XzAfza57WbRfMDHtBZys9B8wAErle2q0HzAeBHKb1XSfMDrFPswltB8wMrXLuKY0HzAjJGBB7vQfMChSCHcbNF8wDI5V1mY0HzA7NtutrjQfMA48X4eOdJ8wOi25PM70XzADsyEEGHRfMCUJdYAT9F8wL+ERoAx0XzAxNRmq6bQfMCNltUrvNF8wIjSEKhE0nzArPDCi5jQfMDpiI4KpNJ8wA2Qzeew0HzAk29gLpDRfMB1Krb5qNB8wPAcSW4Q0XzAD1nWktXQfMBiBLCMwtJ8wCXoYrbx0HzAHJJVAODQfMD6wlRyrNB8wEru5MXz0HzAklsqupbQfMCtA4FuZdJ8wNPI1ZXJ0XzA64QBBovRfMAZP2cVA9F8wJ7UAw0p0XzAvo/IPpbQfMBho524vdF8wKHarqPi0HzAUMtl11zSfMBZfZfWo9J8wGOsrfjP0HzAEUTyXb7RfMAgGXhguNB8wODesGLy0HzA0at8jJLQfMB9vFDU6NB8wNfYOgVw0nzAq1rS8Z/QfMA9Ke7av9B8wNiCV7Xh0XzAQt+YMkTSfMBrKPcr19B8wBkl37zF0HzAq0dDfSfRfMDARf5tPdF8wFjEzd3h0HzAFTUudZPQfMD418E6sdB8wCS61sBS0nzAefQoJpPQfMD00DIZLNJ8wPcmIxCk0XzAjWvh477QfMARJF3qLdJ8wG8/CAWW0XzAcU2EE/rQfMD9lZlt/tB8wPd+hxKx0HzAL20luHvRfMD+v9dCxtF8wEiLyG7C0HzA5ZKhCsfRfMAaX2gUotF8wMfJhH310HzAH4/TwZTQfMDB0lB9wNB8wINSWKaa0HzAiODO3+LRfMDqJBgd+NB8wFqsrF1q0XzAD87Qy/zQfMAZnKtVPNF8wFIbPBq/0HzAwIFAAALRfMDP1NZ2hdF8wGrY8V7u0HzAy7cuzK7RfMCcYsXOONF8wEA81hXo0HzAvouNJa/QfMBOJ+sTadF8wBZZsxQt0XzAeRz9NuHQfMATpDfhlNB8wBSsqD4D0nzAqvYCSJfQfMC9rUoTVNF8wFXKeKkD0XzAiOluw+rQfMAsKLUcudB8wOUXF4Vn0XzA8WU7GZrQfMCcrUlpXdF8wIWA8dai0HzAvPhqe/vRfMA/6GLi99B8wIDpi5L00HzAnWVuGE/RfMDLnqadY9F8wE/J+cTF0nzA3fFds8/RfMAFXb3oltF8wHoOlu2m0HzAXv3brATRfMBseNnQndB8wN8D9/4K0XzApGC3U7LQfMAR6McIndF8wMV8aK0Q0XzAkWpshAfRfMA0rLve/dB8wGrei/Nf03zAd8fgXIDTfMBI6as4VtF8wCnz2Ly+03zALCIWH4bTfMCAjnGM9tJ8wHtq4NBP0XzAxuYjh4XSfMDErmqIFtN8wLu/1zls03zAnUHl9THRfMAdnspKx9N8wN9meoOS0HzA55LKksjUfMDOA/fLXm18wHIYMxQEnHzAciNbq82EfMDmNv9/pIZ8wIvY41oKgXzAvS2D62GUfMATNU0gum58wJWUfiTlmHzA4I+znoBsfMB6Yg3VvIF8wCMLxcmabHzAk1B7NmRsfMB38JrLfmp8wKM30dvbcXzAPjhEPSV4fMB2i1c4I2t8wBgbe9cudHzAmjZM/4dufMCEk6oW/Hh8wIzAphZ3gXzAYI3ypAeJfMCgibVV73d8wAsn+ZnFanzA4l14GxSHfMBb7/Kn3XR8wAfqSI35dnzAmna+Q6psfMCxY/E/c3R8wKo8jQ9fbXzAYMr2w6xsfMDH8V2nWHZ8wDrvhCxWcXzA4Z48WeV/fMDIjZNwjol8wDD0m9FzfnzAlk8dPCyZfMCOOmJbF5B8wP9vBtS2fnzAYjlOkQ92fMDniPBeK4V8wFk8Yy56anzA4tL/Q/BwfMDWNDOQCHN8wO5GVvoZhXzAbbwzAqJxfMAiwHo343p8wGl4kn9Eb3zAmOSREIBtfMAMsjNmLHl8wNDNQNCdanzAjHe6lpSCfMC4WH3Oqm18wC0iXYqoh3zABD92bbBufMAqVu44NXF8wKAEHZ37hHzAQ5q9ZDWBfMAgkrOorG58wGlZ/f92dHzAyb4pFa90fMDG2j3QmHF8wNlozii9iXzA0O6iWptsfMDLUIrco2p8wDj4UsR5fHzA3KAh1ThufMCYUDe9V3l8wEOpjJXXbHzASvmD/T+AfMBBv5Qn0XF8wNNprHeohXzAkKw4F1xvfMDRPvh5VW58wKo/WCedbHzATMyWl4lrfMCfQwl663Z8wEfWA770cXzAoTp4FyxwfMDFah22OnJ8wHna2o/qe3zAIt7yv4R5fMCpCZ8WZ3h8wC8CNXNqc3zAq7/7Ix9xfMCMl9iQkHV8wPiAada9bHzA6/QvPmp+fMBg1i0+bnF8wJ6LkD14anzA7Byli0hxfMCOddhEqWp8wFztBVWfc3zA5RnK/uJqfMCAjMhtk2t8wMA2NHeqanzAwxhUBiF4fMDVkZOZCYh8wKlUu1T5cXzA/o3aX1R3fMCBVqv/qHN8wGlEKA7zd3zAz5SG/YB2fMCipFn1d3V8wADoeSfKa3zApQK7tdhqfMCBeUnZF298wKZ7IEdGe3zAl4On9hd2fMAKNHtTTWt8wLNtUUBNbXzA/leZ1TJufMDpqwp5T2x8wN1MFmr9bnzAKUwYoPt4fMAZMYg9PoJ8wImtyFZkb3zAor19wHmIfMBYEbHtv3N8wOe/osaSbXzAhDNXQXZqfMBQ5yyWtYV8wGHxfDTMcnzAbHCI765/fMCUipNzynt8wLgl4NXMdHzAohJgIv9xfMDOteSvcXN8wPQbHF9+dXzAovGWSppufMBQetOR6JB8wKYV9y0AbnzAym0i5QlzfMA7dr5JcG58wInXneFqbnzAHWHV8C91fMDf7+84nWt8wBydlSfBbHzAfISk4uRrfMCgN+qQ23R8wNTFO2YRcHzAZkhgcLpqfMCCx3Kkr2p8wOZWh7RJb3zAjTAVmjFufMCfduB2rHF8wLqaoOogf3zAO920rCNufMCViQpFVGt8wGbbmDrwbXzAYIxiXBOEfMBP+VyGCXJ8wIpraB6BeHzAjN/Jh6NsfMAGwKxgE2x8wMmAjqdFiHzAeQxWbbRqfMDqfHf94Wp8wLzBiuAjbXzAZYUUgOV4fMDGqYjx2Gp8wH2BT6v8bHzA9cy/Z2aGfMB+YEbKqXV8wMk93N8deHzAtqcsNOx2fMCsmNXn+HR8wDsjVk7La3zAHUIdxiN+fMBj40aqKYd8wAA53EbcanzA6Gpl93eNfMCKZgRIO3t8wDC0zVTya3zAjVKHOMlyfMAomHEd5W58wAat30p8j3zAqGwRV8FwfMDQwUqYlW98wJPa5BMtbHzAPOOqNuRwfMCHYRB/vWp8wHZs8FpUiXzAf2+BywZ/fMBMSez943p8wF0o2lTncXzAIt2V5Gl0fMCMCO9WtWp8wFYMSQE+fnzAwjr3PcJvfMCgFwj5woh8wA1H74d0jXzAaGKWTYZufMBOg1vvSH58wAHDcvz2bHzAHBsru8xwfMD+erbHdmp8wJ5scwArcHzAqeqMjweKfMBjliJ+WWt8wJnJ/Yx1bXzAV/BuDp+AfMBaBzrmIYd8wAprkikAb3zAe5izG9ltfMCjSCN3T3R8wOrDRsnCdXzA61cJKbVvfMCrmNcphmp8wBLjNQZ+bHzATnWIPRiIfMBAmH3wgGp8wBRBrAqKhXzAsq2pw4t8fMBEHuU3ZW18wNsULsuohXzAFI+5F557fMD+JsnjTnF8wCt2pYqYcXzAh5BjXXtsfMAOw6b74Hl8wNzEOInOfnzASgVqLKFtfMCOFna+2358wEcUyzJqfHzALgHrRgFxfMAnmpMnnGp8wCyW5+H/anzAQEO1ybKAfMCeBbysLXF8wCewykq7eHzArk8F7HxxfMDP4w9BsHV8wBS+ys9obXzAhlpQAtVxfMA1SBnohXp8wOi+e8mIcHzA1o7eb0F9fMAXfkyQdHV8wKu2xWgecHzA+XE0xlpsfMBkrfd9pXh8wG8N8RiudHzAWT7XIapvfMBwGdc6nmp8wMOmPqHWgnzA+sCu38ZqfMCgBl4LQnd8wPaUxx7xcXzAqsbgu0twfMAgejduA218wEd8JyCLeHzAO4+xjfZqfMCEz+kL4Hd8wEvb9HyKa3zAEtP3QFOCfMAhoSfLKXF8wAFiOb7xcHzAVnx+w+12fMAQiokNSXh8wOuqNsmyj3zAxXW7Sm5/fMDGZXglrXt8wJsSc67Pa3zAjVWuRAJyfMBl0vd2NWt8wJecqz1tcnzAWi0qzxR8fMBmR9JkzXJ8wPq/DV4ycnzA7bHAGI9xfMAMDPc1EJ98wJjOUC3kmXzAdoU7tgicfMD1FSFdZnd8wNLt1FkooHzAlirkK2qcfMCz5G9U7JJ8wMTQh7zFnnzAtTgR9fl2fMCdkiiOc4t8wPz/jqIJlXzA8iDf6bOafMAFlEVSX4R8wEHmcq4AdXzAY+KsILmgfMBr7z4vdmp8wA==",
        "encoding": "base64",
        "path": [
         "_data",
         0,
         "dimensions",
         10,
         "values",
         "value"
        ]
       },
       {
        "data": "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",
        "encoding": "base64",
        "path": [
         "_data",
         0,
         "dimensions",
         11,
         "values",
         "value"
        ]
       },
       {
        "data": "DRU6JshwyT8N9Th9KyHGP1efnWaEPcc/vrPDidgJyT8X37VxHZnJP1BnI2VEjck/lRGj6bNoxz+M35EI7unIP8F9mIsAVMk/0iJ9sB7Qxz+T4eZoYJHCP0L2FtXqisk/fPrWOPxgxj++g+mZIUnJP4VpZlxpNsM/sUYy7rMBxz8fUMPumLjHP45pX0eRccU/mpmZmZmZuT+amZmZmZm5P5qZmZmZmbk/mpmZmZmZuT+amZmZmZm5P5qZmZmZmbk/mpmZmZmZuT+amZmZmZm5P5qZmZmZmbk/mpmZmZmZuT+amZmZmZm5P5qZmZmZmbk/mpmZmZmZuT+amZmZmZm5P5qZmZmZmbk/mpmZmZmZuT+amZmZmZm5P5qZmZmZmbk/mpmZmZmZuT+amZmZmZm5P5qZmZmZmbk/mpmZmZmZyT+amZmZmZnJP5qZmZmZmck/mpmZmZmZyT+amZmZmZnJP5qZmZmZmck/mpmZmZmZyT+amZmZmZnJP5qZmZmZmck/mpmZmZmZyT+amZmZmZnJP5qZmZmZmck/mpmZmZmZyT+amZmZmZnJP4RILRYh0rs/VD1//Nhiwz9Puk75x/PCPyZWep4WRsQ/MomGrBRsvz8P0X9JBJjIP2N6IxgPS70/F+vqOVweyT8nlSuN/BvEP5A7k/MvGMk/mgBUtA8lyT+3gXCakZfJP9JUZ23k2sc/Z9H1dj9fxj8NFTomyHDJP//Fy/eJTsc/QDtchtejyD9KOObskCzGP74oaE9wLMQ/oPrjjJ1jwj+4JBC19mvGP7ZRXrDdhsk/JgFMHXTZwj+k9vEYTSXHP6MDdU3xpcY/ezS6V4kUyT+Uy+veZj7HP1rDygzxmMk/Icq8POPpyD//XnNR8hPJP7lcTMnly8Y/xqq3hW36xz9qQd//NIvEPyRdGmLRQ8I/oYo2RCLPwj+iDCGNYOLEPx/ZwbSEKb0/FM0zgi+5wD/h8FDqkdLEP1hcDmQj3cY/Ptk1cb5Mwz9E/Ao/qJjJPy9HjKp3Esg/tkaIKfWTxz99paHJ2FDDPy8V7++J6Mc/9iQ1uKe5xT9ZffwfYHfIP58Llyga4sg/DfU4fSshxj8dxElyQJDJPxt8diuHNck//LQqOBfpwz+DBH8EBdjIP/JQXWBwtsI/ycrR+U2ayD95XdhuMwLIP9dNMXMCWMM//rr9kO87xD8XXciOMZvIP1efnWaEPcc/b0Scnkkwxz/ic1w5terHP/zVOgfMOMI/m8E1xw0YyT94O7Q2047JP3SV24rAWcU/BJDPNIS2yD9Cb+c78hbGP76zw4nYCck/0EueO9N1xD8adKfVat3HP1htFfo7L8M/ys9UZ89xyD9G77Jtwq/IP5s3ehmhF8k/bjOU/6FYyT8bTTRKQ6nGP213PbsF1cc/rsVrbL5AyD9/dp1chMTHPx7XnY2Ie8U/NvMSFVQMxj8ZrmPntk/GP3lNAeDdfMc/yT/17mgHyD/8ZXfoGPvGPwl6QlrrD8k/zhko1KLkxD8GTvYEwPTHPxfftXEdmck/cwuCh6T9xz/3rtSpjI3JP7QaNWBkcMc/Rp3ln+5/yT+ZrDn4T1bJP1BnI2VEjck/Dtj++j1gxj8OIOYMi5/CPy0JN5/w08c/aILInYSQxj/lMrCeHG7HPweRoAcWa8Y/rIZs5mHCxj9EaQPt5gDHP+o6PihnSck/65HQv1uCyT+pKgB46IHIP1nYS4NJosU/c/HuXijbxj/4AEpo2WbJP12igbwW7sg/Niclbu63yD+dTlgs9CnJP3ELv9AkiMg/DydQ5awsxj8bDOO3df3DPzPpFUzdb8g/HX4mTBaFwj+VEaPps2jHP49lFTWw3cg/rnnfVJWZyT9bd1u5IyzDP4kUrSMyosc/v5Rl8QqYxD91dGWsG4PFP5jfm+BEKcc/U7eeKpLSxz8ygAvWKHvHP8Ilt6Rj/8Y/8GDUwoafyD97GPda1YfAP6kLLm3hw8g/Qk3TvKSTxz/VIetMb6nIP3eMDc+1qsg/3R6qAOQRxz/BfZiLAFTJP5nrjQkjD8k/HTHz4xhDyT8vIfnNAXvFPwAmJE/LJcc/kH4IWQpHyD+OD+/Hf4nJP+jA5MYLjMk/04YDsCV2yD/Bed7bOLjIP8j9GYYS5sc/tE09WIu5xD+xXIrpgbvIP7qGJBc2Zck/Fdjhq6THyD8Zh0v6y47DP9IifbAe0Mc/gtir85JJxj+NQsADIBbJPy5NlUMhOMk/k+HmaGCRwj9C9hbV6orJPyaoXlMrgMk/HOzBR9n3yD9dl8IB5THGP5A9WaRNgsk/OKyWAhkByT8ybYrQbQLDPwvFf6Il9cY/fPrWOPxgxj9GQ35hF6nGP2qs4YXfHsc/voPpmSFJyT84yvRiQvXEPyb30kFe1MI/BvvHWISByT/QCRwlkFfBPwuEpCdEIMk/NMgVleGkxT8oYiPn7D/JP4VtdVrmosc/Jxp3O+CNyD8sC5G0w93AP6FAAXSJHcg/wJ3rxz5kyD95v9BCETLJP55oynpPFcg/1sYoJseIyT+z/U4NhVHCP2ZoJM20v8Q/gN1k6Hi5xT+cr6qYL9jHP/nIRuybQMc/NY1aurOKyT9z1C5QEu/EP1871JS2Wcg/Y6c8j9Bzwj9tE/OaX1jBPxurtdU9pMg/y9NGQ37sxD+WblU0cALJP24jfY/ZGsg/udJDonWZyT+HJBk+AEHIPyZ0hQA/J8I/M6NQrfpjyT+YLnMWleTIPzCSXkhmX8Q/7OhHOjPWwj+r3ffdfofIP5JtVugYzcg//3oz29dGxz+IDOckQO/GP7qMeJPMXMg/AuJjptSVyT+35eP5+B7JPxY6YO0WnMI/p4bGHxCXyT+FaWZcaTbDP5qmEbKBVcU/nM7eYm/oyD+RcjRHKC/DP8EOb3WSjcU/WSYyZyX8xz85bSekxerHP0wvDpSZH8k/W9PfNJL2xT+yzVI5+szEPwo8ccBK2sg/UYl+m9zJxD9m+kK1bF3FPyv+KV10Dsg/LdwZoKSQyT/U+5rLDOLIPxxf8iceeck/4pi1tr5axD9F01k6+wPIP5p60erZO8Y/XcZ8kEnxxz89NXtHn/PGP0yDK2OW58g/3qfMEYLcxz/2FVegqs/FP2cFiKPgKsg/6LbYp6YqxT+xRjLuswHHP5WA+LD4Q8g/HRr7sEknyT/6jnhn/kDGP60FBh6FMMc/Fd2QjWZfyD9va5hNJ5DJP9hMxg+D2cM/8PcW25CGyT8X/Y+M15TGP4h8GXbg1cc/rJ98lEc5yD+XfNGygP/IPybZQKY2R8Y/JrG7hVF7yT/GOnXzkW/GPxOqTORrWMk/LxDgvID4wz/tsq2b5QTIP8ck6XEeEsg/i+L1Lrmoxj9Gv9W3zFbGPx3Y2uTo0MA/JLWut0qnxD/gB2xhBYrFPy3nWl8ZSMk/Eskk6NTRxz8y55JfemzJPx9Qw+6YuMc/82YUTZcayT+OaV9HkXHFP9abRlnqocc/cSFQP3zGxz+fX3ECAO3HP9Ssqj4SYro/XMfkhLzSvD/2e2KH8c+7P5i6lkFGjMY/SF8gdefduT9yozSL9qG7P4nCxhYrDsA/GFV3HTWFuj8TSCLS2KXGP21xubdh0cE/UOSSX/Qcvz/4bNJ+unC8P5TcvcvgfMM/+7qS8gkdxz+amZmZmZm5P5qZmZmZmbk/mpmZmZmZuT+amZmZmZm5P5qZmZmZmbk/mpmZmZmZuT+amZmZmZm5P5qZmZmZmbk/mpmZmZmZuT+amZmZmZm5P5qZmZmZmbk/mpmZmZmZuT+amZmZmZm5P5qZmZmZmbk/mpmZmZmZuT+amZmZmZm5P5qZmZmZmbk/mpmZmZmZuT+amZmZmZm5P5qZmZmZmbk/mpmZmZmZuT+amZmZmZm5P5qZmZmZmbk/mpmZmZmZuT+amZmZmZm5P5qZmZmZmbk/mpmZmZmZuT+amZmZmZm5P5qZmZmZmbk/mpmZmZmZuT+amZmZmZm5P5qZmZmZmbk/mpmZmZmZuT+amZmZmZm5P5qZmZmZmbk/mpmZmZmZuT+amZmZmZm5P5qZmZmZmbk/mpmZmZmZuT+amZmZmZm5P5qZmZmZmbk/mpmZmZmZuT+amZmZmZm5P5qZmZmZmbk/mpmZmZmZuT+amZmZmZm5P5qZmZmZmbk/mpmZmZmZuT+amZmZmZm5P5qZmZmZmbk/mpmZmZmZuT+amZmZmZm5P5qZmZmZmbk/mpmZmZmZuT+amZmZmZm5P5qZmZmZmbk/mpmZmZmZuT+amZmZmZm5P5qZmZmZmbk/mpmZmZmZuT+amZmZmZm5P5qZmZmZmck/mpmZmZmZyT+amZmZmZnJP5qZmZmZmck/mpmZmZmZyT+amZmZmZnJP5qZmZmZmck/mpmZmZmZyT+amZmZmZnJP5qZmZmZmck/mpmZmZmZyT+amZmZmZnJP5qZmZmZmck/mpmZmZmZyT+amZmZmZnJP5qZmZmZmck/mpmZmZmZyT+amZmZmZnJP5qZmZmZmck/mpmZmZmZyT+amZmZmZnJP5qZmZmZmck/mpmZmZmZyT+amZmZmZnJP5qZmZmZmck/mpmZmZmZyT+amZmZmZnJP5qZmZmZmck/mpmZmZmZyT+amZmZmZnJP5qZmZmZmck/mpmZmZmZyT+amZmZmZnJP5qZmZmZmck/mpmZmZmZyT+amZmZmZnJP5qZmZmZmck/mpmZmZmZyT+amZmZmZnJP5qZmZmZmck/mpmZmZmZyT+amZmZmZnJP5qZmZmZmck/mpmZmZmZyT+amZmZmZnJP5qZmZmZmck/mpmZmZmZyT+amZmZmZnJP5qZmZmZmck/mpmZmZmZyT+amZmZmZnJP5qZmZmZmck/mpmZmZmZyT+amZmZmZnJP5qZmZmZmck/mpmZmZmZyT+amZmZmZnJP5qZmZmZmck/mpmZmZmZyT+amZmZmZnJP5qZmZmZmck/mpmZmZmZyT/UrKo+EmK6PxhVdx01hbo/DRU6JshwyT9Xn51mhD3HP4zfkQju6cg/0iJ9sB7Qxz+T4eZoYJHCP76D6ZkhSck/JnSFAD8nwj+FaWZcaTbDPx9Qw+6YuMc/jmlfR5FxxT+amZmZmZm5P5qZmZmZmbk/mpmZmZmZuT+amZmZmZm5P5qZmZmZmbk/mpmZmZmZuT+amZmZmZm5P5qZmZmZmbk/mpmZmZmZuT+amZmZmZm5P5qZmZmZmbk/mpmZmZmZuT+amZmZmZm5P5qZmZmZmbk/mpmZmZmZuT+amZmZmZm5P5qZmZmZmbk/mpmZmZmZuT+amZmZmZm5P5qZmZmZmbk/mpmZmZmZuT+amZmZmZm5P5qZmZmZmbk/mpmZmZmZuT+amZmZmZm5P5qZmZmZmbk/mpmZmZmZuT+amZmZmZm5P5qZmZmZmbk/mpmZmZmZuT+amZmZmZm5P5qZmZmZmbk/mpmZmZmZuT+amZmZmZm5P5qZmZmZmbk/mpmZmZmZuT+amZmZmZm5P5qZmZmZmbk/VD1//Nhiwz9Puk75x/PCPyZWep4WRsQ/MomGrBRsvz8P0X9JBJjIP2N6IxgPS70/F+vqOVweyT8nlSuN/BvEP5A7k/MvGMk/mgBUtA8lyT+3gXCakZfJP9JUZ23k2sc/Z9H1dj9fxj8NFTomyHDJP//Fy/eJTsc/QDtchtejyD9KOObskCzGP74oaE9wLMQ/oPrjjJ1jwj+4JBC19mvGP7ZRXrDdhsk/JgFMHXTZwj+k9vEYTSXHP6MDdU3xpcY/ezS6V4kUyT+Uy+veZj7HP1rDygzxmMk/Icq8POPpyD//XnNR8hPJP7lcTMnly8Y/xqq3hW36xz9qQd//NIvEPyRdGmLRQ8I/oYo2RCLPwj+iDCGNYOLEPx/ZwbSEKb0/FM0zgi+5wD/h8FDqkdLEP1hcDmQj3cY/Ptk1cb5Mwz9E/Ao/qJjJPy9HjKp3Esg/tkaIKfWTxz99paHJ2FDDPy8V7++J6Mc/9iQ1uKe5xT9ZffwfYHfIP58Llyga4sg/DfU4fSshxj8dxElyQJDJPxt8diuHNck//LQqOBfpwz+DBH8EBdjIP/JQXWBwtsI/ycrR+U2ayD95XdhuMwLIP9dNMXMCWMM//rr9kO87xD8XXciOMZvIP1efnWaEPcc/b0Scnkkwxz/ic1w5terHP/zVOgfMOMI/m8E1xw0YyT94O7Q2047JP3SV24rAWcU/BJDPNIS2yD9Cb+c78hbGP76zw4nYCck/0EueO9N1xD8adKfVat3HP1htFfo7L8M/ys9UZ89xyD9G77Jtwq/IP5s3ehmhF8k/bjOU/6FYyT8bTTRKQ6nGP213PbsF1cc/rsVrbL5AyD9/dp1chMTHPx7XnY2Ie8U/NvMSFVQMxj8ZrmPntk/GP3lNAeDdfMc/yT/17mgHyD/8ZXfoGPvGPwl6QlrrD8k/zhko1KLkxD8GTvYEwPTHPxfftXEdmck/cwuCh6T9xz/3rtSpjI3JP7QaNWBkcMc/Rp3ln+5/yT+ZrDn4T1bJP1BnI2VEjck/Dtj++j1gxj8OIOYMi5/CPy0JN5/w08c/aILInYSQxj/lMrCeHG7HPweRoAcWa8Y/rIZs5mHCxj9EaQPt5gDHP+o6PihnSck/65HQv1uCyT+pKgB46IHIP1nYS4NJosU/c/HuXijbxj/4AEpo2WbJP12igbwW7sg/Niclbu63yD+dTlgs9CnJP3ELv9AkiMg/DydQ5awsxj8bDOO3df3DPzPpFUzdb8g/HX4mTBaFwj+VEaPps2jHP49lFTWw3cg/rnnfVJWZyT9bd1u5IyzDP4kUrSMyosc/v5Rl8QqYxD91dGWsG4PFP5jfm+BEKcc/U7eeKpLSxz8ygAvWKHvHP8Ilt6Rj/8Y/8GDUwoafyD97GPda1YfAP6kLLm3hw8g/Qk3TvKSTxz/VIetMb6nIP3eMDc+1qsg/3R6qAOQRxz/BfZiLAFTJP5nrjQkjD8k/HTHz4xhDyT8vIfnNAXvFPwAmJE/LJcc/kH4IWQpHyD+OD+/Hf4nJP+jA5MYLjMk/04YDsCV2yD/Bed7bOLjIP8j9GYYS5sc/tE09WIu5xD+xXIrpgbvIP7qGJBc2Zck/Fdjhq6THyD8Zh0v6y47DP9IifbAe0Mc/gtir85JJxj+NQsADIBbJPy5NlUMhOMk/k+HmaGCRwj9C9hbV6orJPyaoXlMrgMk/HOzBR9n3yD9dl8IB5THGP5A9WaRNgsk/OKyWAhkByT8ybYrQbQLDPwvFf6Il9cY/fPrWOPxgxj9GQ35hF6nGP2qs4YXfHsc/voPpmSFJyT84yvRiQvXEPyb30kFe1MI/BvvHWISByT/QCRwlkFfBPwuEpCdEIMk/NMgVleGkxT8oYiPn7D/JP4VtdVrmosc/Jxp3O+CNyD8sC5G0w93AP6FAAXSJHcg/wJ3rxz5kyD95v9BCETLJP55oynpPFcg/1sYoJseIyT+z/U4NhVHCP2ZoJM20v8Q/gN1k6Hi5xT+cr6qYL9jHP/nIRuybQMc/NY1aurOKyT9z1C5QEu/EP1871JS2Wcg/Y6c8j9Bzwj9tE/OaX1jBPxurtdU9pMg/y9NGQ37sxD+WblU0cALJP24jfY/ZGsg/udJDonWZyT+HJBk+AEHIPyZ0hQA/J8I/M6NQrfpjyT+YLnMWleTIPzCSXkhmX8Q/7OhHOjPWwj+r3ffdfofIP5JtVugYzcg//3oz29dGxz+IDOckQO/GP7qMeJPMXMg/AuJjptSVyT+35eP5+B7JPxY6YO0WnMI/p4bGHxCXyT+FaWZcaTbDP5qmEbKBVcU/nM7eYm/oyD+RcjRHKC/DP8EOb3WSjcU/WSYyZyX8xz85bSekxerHP0wvDpSZH8k/W9PfNJL2xT+yzVI5+szEPwo8ccBK2sg/UYl+m9zJxD9m+kK1bF3FPyv+KV10Dsg/LdwZoKSQyT/U+5rLDOLIPxxf8iceeck/4pi1tr5axD9F01k6+wPIP5p60erZO8Y/XcZ8kEnxxz89NXtHn/PGP0yDK2OW58g/3qfMEYLcxz/2FVegqs/FP2cFiKPgKsg/6LbYp6YqxT+xRjLuswHHP5WA+LD4Q8g/HRr7sEknyT/6jnhn/kDGP60FBh6FMMc/Fd2QjWZfyD9va5hNJ5DJP9hMxg+D2cM/8PcW25CGyT8X/Y+M15TGP4h8GXbg1cc/rJ98lEc5yD+XfNGygP/IPybZQKY2R8Y/JrG7hVF7yT/GOnXzkW/GPxOqTORrWMk/LxDgvID4wz/tsq2b5QTIP8ck6XEeEsg/i+L1Lrmoxj9Gv9W3zFbGPx3Y2uTo0MA/JLWut0qnxD/gB2xhBYrFPy3nWl8ZSMk/Eskk6NTRxz8y55JfemzJPx9Qw+6YuMc/82YUTZcayT+OaV9HkXHFP9abRlnqocc/cSFQP3zGxz+fX3ECAO3HP1zH5IS80rw/9ntih/HPuz+YupZBRozGP0hfIHXn3bk/cqM0i/ahuz+JwsYWKw7APxNIItLYpcY/bXG5t2HRwT9Q5JJf9By/P/hs0n66cLw/+7qS8gkdxz+amZmZmZm5P5qZmZmZmck/mpmZmZmZuT+M35EI7unIP4RILRYh0rs/VD1//Nhiwz9Puk75x/PCPyZWep4WRsQ/MomGrBRsvz8P0X9JBJjIP2N6IxgPS70/F+vqOVweyT8nlSuN/BvEP5A7k/MvGMk/mgBUtA8lyT+3gXCakZfJP9JUZ23k2sc/Z9H1dj9fxj8NFTomyHDJP//Fy/eJTsc/QDtchtejyD9KOObskCzGP74oaE9wLMQ/oPrjjJ1jwj+4JBC19mvGP7ZRXrDdhsk/JgFMHXTZwj+k9vEYTSXHP6MDdU3xpcY/ezS6V4kUyT+Uy+veZj7HPyHKvDzj6cg//15zUfITyT+5XEzJ5cvGP8aqt4Vt+sc/akHf/zSLxD8kXRpi0UPCP6IMIY1g4sQ/H9nBtIQpvT8UzTOCL7nAP+HwUOqR0sQ/WFwOZCPdxj8+2TVxvkzDP0T8Cj+omMk/L0eMqncSyD+2Rogp9ZPHP32locnYUMM/LxXv74noxz/2JDW4p7nFP1l9/B9gd8g/nwuXKBriyD8N9Th9KyHGPx3ESXJAkMk//LQqOBfpwz+DBH8EBdjIP/JQXWBwtsI/ycrR+U2ayD95XdhuMwLIP9dNMXMCWMM//rr9kO87xD8XXciOMZvIP1efnWaEPcc/b0Scnkkwxz/ic1w5terHP/zVOgfMOMI/m8E1xw0YyT94O7Q2047JP3SV24rAWcU/BJDPNIS2yD9Cb+c78hbGP76zw4nYCck/0EueO9N1xD8adKfVat3HP1htFfo7L8M/ys9UZ89xyD9G77Jtwq/IP5s3ehmhF8k/bjOU/6FYyT8bTTRKQ6nGP213PbsF1cc/rsVrbL5AyD9/dp1chMTHPx7XnY2Ie8U/NvMSFVQMxj8ZrmPntk/GP3lNAeDdfMc/yT/17mgHyD/8ZXfoGPvGPwl6QlrrD8k/zhko1KLkxD8GTvYEwPTHPxfftXEdmck/cwuCh6T9xz/3rtSpjI3JP7QaNWBkcMc/Rp3ln+5/yT+ZrDn4T1bJP1BnI2VEjck/Dtj++j1gxj8OIOYMi5/CPy0JN5/w08c/aILInYSQxj/lMrCeHG7HPweRoAcWa8Y/rIZs5mHCxj9EaQPt5gDHP+o6PihnSck/65HQv1uCyT+pKgB46IHIP1nYS4NJosU/c/HuXijbxj/4AEpo2WbJP12igbwW7sg/Niclbu63yD+dTlgs9CnJP3ELv9AkiMg/DydQ5awsxj8bDOO3df3DPzPpFUzdb8g/HX4mTBaFwj+VEaPps2jHP49lFTWw3cg/rnnfVJWZyT9bd1u5IyzDP4kUrSMyosc/v5Rl8QqYxD91dGWsG4PFP5jfm+BEKcc/U7eeKpLSxz8ygAvWKHvHP8Ilt6Rj/8Y/8GDUwoafyD97GPda1YfAP6kLLm3hw8g/Qk3TvKSTxz/VIetMb6nIP3eMDc+1qsg/3R6qAOQRxz/BfZiLAFTJP5nrjQkjD8k/HTHz4xhDyT8AJiRPyyXHP5B+CFkKR8g/jg/vx3+JyT/owOTGC4zJP9OGA7Aldsg/wXne2zi4yD/I/RmGEubHP7RNPViLucQ/sVyK6YG7yD+6hiQXNmXJPxXY4aukx8g/GYdL+suOwz/SIn2wHtDHP4LYq/OSScY/jULAAyAWyT8uTZVDITjJP5Ph5mhgkcI/QvYW1eqKyT8mqF5TK4DJPxzswUfZ98g/XZfCAeUxxj+QPVmkTYLJPzislgIZAck/Mm2K0G0Cwz8LxX+iJfXGP3z61jj8YMY/RkN+YRepxj9qrOGF3x7HP76D6ZkhSck/OMr0YkL1xD8m99JBXtTCPwb7x1iEgck/0AkcJZBXwT80yBWV4aTFPyhiI+fsP8k/hW11Wuaixz8nGnc74I3IPywLkbTD3cA/oUABdIkdyD/AnevHPmTIP3m/0EIRMsk/nmjKek8VyD/Wxigmx4jJP7P9Tg2FUcI/ZmgkzbS/xD+A3WToeLnFP5yvqpgv2Mc/+chG7JtAxz81jVq6s4rJP3PULlAS78Q/XzvUlLZZyD9jpzyP0HPCP20T85pfWME/G6u11T2kyD/L00ZDfuzEP5ZuVTRwAsk/biN9j9kayD+50kOidZnJP4ckGT4AQcg/JnSFAD8nwj8zo1Ct+mPJP5gucxaV5Mg/MJJeSGZfxD/s6Ec6M9bCP6vd991+h8g/km1W6BjNyD//ejPb10bHP4gM5yRA78Y/uox4k8xcyD8C4mOm1JXJP7fl4/n4Hsk/Fjpg7Racwj+nhsYfEJfJP4VpZlxpNsM/mqYRsoFVxT+czt5ib+jIP5FyNEcoL8M/wQ5vdZKNxT9ZJjJnJfzHPzltJ6TF6sc/TC8OlJkfyT9b0980kvbFP7LNUjn6zMQ/CjxxwErayD9RiX6b3MnEP2b6QrVsXcU/K/4pXXQOyD8t3BmgpJDJPxxf8iceeck/4pi1tr5axD9F01k6+wPIP5p60erZO8Y/XcZ8kEnxxz89NXtHn/PGP0yDK2OW58g/3qfMEYLcxz/2FVegqs/FP2cFiKPgKsg/6LbYp6YqxT+xRjLuswHHP5WA+LD4Q8g/HRr7sEknyT/6jnhn/kDGP60FBh6FMMc/Fd2QjWZfyD9va5hNJ5DJP9hMxg+D2cM/8PcW25CGyT8X/Y+M15TGP4h8GXbg1cc/rJ98lEc5yD+XfNGygP/IPybZQKY2R8Y/JrG7hVF7yT/GOnXzkW/GPxOqTORrWMk/LxDgvID4wz/tsq2b5QTIP8ck6XEeEsg/i+L1Lrmoxj9Gv9W3zFbGPx3Y2uTo0MA/JLWut0qnxD/gB2xhBYrFPy3nWl8ZSMk/Eskk6NTRxz8y55JfemzJPx9Qw+6YuMc/jmlfR5FxxT/Wm0ZZ6qHHP3EhUD98xsc/n19xAgDtxz/UrKo+EmK6P1zH5IS80rw/9ntih/HPuz+YupZBRozGP0hfIHXn3bk/cqM0i/ahuz+JwsYWKw7APxhVdx01hbo/E0gi0tilxj9tcbm3YdHBP1Dkkl/0HL8/+GzSfrpwvD+U3L3L4HzDP/u6kvIJHcc/mpmZmZmZuT+amZmZmZnJPw==",
        "encoding": "base64",
        "path": [
         "_data",
         0,
         "line",
         "color",
         "value"
        ]
       }
      ],
      "model_module": "plotlywidget",
      "model_module_version": "^1.1.1",
      "model_name": "FigureModel",
      "state": {
       "_config": {
        "plotlyServerURL": "https://plot.ly"
       },
       "_data": [
        {
         "dimensions": [
          {
           "label": "(X) alpha",
           "name": "alpha",
           "range": [
            0.1,
            0.2
           ],
           "values": {
            "dtype": "float64",
            "shape": [
             1091
            ]
           }
          },
          {
           "label": "(X) beta",
           "name": "beta",
           "range": [
            3.5,
            5.5
           ],
           "values": {
            "dtype": "float64",
            "shape": [
             1091
            ]
           }
          },
          {
           "label": "(X) input_flow",
           "name": "input_flow",
           "range": [
            80,
            150
           ],
           "values": [
            91,
            89,
            83,
            92,
            93,
            83,
            92,
            93,
            82,
            83,
            88,
            89,
            88,
            91,
            88,
            83,
            83,
            90,
            80,
            80,
            84,
            84,
            91,
            80,
            83,
            93,
            93,
            83,
            88,
            88,
            91,
            81,
            83,
            90,
            80,
            81,
            80,
            80,
            84,
            84,
            91,
            83,
            92,
            93,
            82,
            83,
            88,
            88,
            91,
            87,
            81,
            83,
            90,
            80,
            134,
            134,
            145,
            84,
            125,
            91,
            111,
            122,
            107,
            88,
            110,
            114,
            108,
            91,
            115,
            146,
            136,
            121,
            130,
            85,
            111,
            128,
            118,
            146,
            111,
            130,
            150,
            107,
            107,
            123,
            81,
            124,
            136,
            150,
            130,
            97,
            99,
            131,
            107,
            145,
            136,
            97,
            125,
            132,
            148,
            126,
            146,
            148,
            89,
            82,
            150,
            133,
            127,
            126,
            148,
            148,
            118,
            82,
            146,
            83,
            112,
            124,
            99,
            135,
            148,
            145,
            97,
            145,
            92,
            116,
            135,
            149,
            120,
            106,
            124,
            146,
            144,
            148,
            142,
            146,
            94,
            146,
            146,
            148,
            103,
            114,
            146,
            96,
            106,
            93,
            107,
            134,
            128,
            135,
            99,
            83,
            119,
            148,
            130,
            96,
            127,
            108,
            102,
            118,
            133,
            118,
            116,
            146,
            124,
            115,
            124,
            132,
            149,
            125,
            87,
            131,
            135,
            108,
            92,
            134,
            134,
            97,
            114,
            96,
            99,
            127,
            120,
            129,
            102,
            119,
            132,
            132,
            98,
            120,
            135,
            124,
            82,
            109,
            149,
            150,
            116,
            127,
            112,
            128,
            125,
            131,
            115,
            82,
            116,
            149,
            149,
            117,
            83,
            107,
            108,
            92,
            88,
            89,
            147,
            135,
            146,
            145,
            96,
            131,
            100,
            88,
            147,
            145,
            91,
            102,
            146,
            114,
            146,
            150,
            134,
            129,
            95,
            99,
            87,
            146,
            124,
            131,
            137,
            102,
            98,
            132,
            111,
            102,
            133,
            135,
            84,
            103,
            81,
            135,
            110,
            115,
            118,
            147,
            118,
            125,
            81,
            146,
            131,
            96,
            128,
            114,
            105,
            91,
            134,
            116,
            100,
            102,
            121,
            143,
            88,
            147,
            102,
            134,
            125,
            136,
            128,
            118,
            96,
            147,
            149,
            96,
            125,
            108,
            125,
            150,
            135,
            149,
            95,
            130,
            119,
            114,
            125,
            106,
            118,
            149,
            137,
            83,
            136,
            123,
            113,
            96,
            113,
            131,
            147,
            112,
            134,
            135,
            95,
            125,
            126,
            123,
            101,
            111,
            123,
            147,
            117,
            134,
            117,
            124,
            147,
            122,
            134,
            122,
            136,
            83,
            150,
            90,
            116,
            113,
            147,
            80,
            91,
            81,
            135,
            82,
            81,
            129,
            80,
            137,
            125,
            82,
            81,
            80,
            84,
            84,
            115,
            136,
            121,
            81,
            110,
            97,
            94,
            82,
            133,
            127,
            148,
            144,
            142,
            106,
            135,
            146,
            124,
            87,
            120,
            102,
            119,
            109,
            112,
            116,
            149,
            107,
            92,
            147,
            89,
            96,
            100,
            88,
            145,
            114,
            134,
            129,
            99,
            131,
            137,
            98,
            132,
            111,
            103,
            105,
            91,
            143,
            128,
            118,
            108,
            130,
            113,
            95,
            125,
            126,
            123,
            101,
            117,
            122,
            90,
            85,
            84,
            115,
            136,
            121,
            124,
            81,
            94,
            97,
            89,
            82,
            133,
            127,
            148,
            144,
            142,
            106,
            135,
            146,
            87,
            120,
            102,
            119,
            109,
            149,
            107,
            92,
            147,
            96,
            100,
            88,
            145,
            114,
            122,
            134,
            129,
            99,
            137,
            98,
            132,
            111,
            103,
            110,
            131,
            105,
            91,
            116,
            143,
            128,
            108,
            130,
            118,
            83,
            113,
            112,
            95,
            125,
            126,
            123,
            101,
            117,
            90,
            85,
            80,
            80,
            80,
            80,
            80,
            80,
            80,
            80,
            80,
            80,
            80,
            80,
            80,
            80,
            80,
            80,
            80,
            80,
            80,
            80,
            80,
            80,
            80,
            80,
            80,
            80,
            80,
            80,
            80,
            80,
            80,
            80,
            80,
            80,
            80,
            80,
            80,
            80,
            80,
            80,
            80,
            80,
            80,
            80,
            80,
            80,
            80,
            80,
            80,
            80,
            80,
            80,
            80,
            80,
            80,
            80,
            80,
            80,
            80,
            80,
            80,
            80,
            80,
            80,
            80,
            80,
            80,
            80,
            80,
            80,
            80,
            80,
            80,
            80,
            80,
            80,
            80,
            80,
            80,
            80,
            80,
            80,
            80,
            80,
            80,
            80,
            80,
            80,
            80,
            80,
            80,
            80,
            80,
            80,
            80,
            80,
            80,
            80,
            80,
            80,
            80,
            80,
            80,
            80,
            80,
            80,
            80,
            80,
            80,
            80,
            80,
            80,
            80,
            80,
            80,
            80,
            80,
            80,
            80,
            80,
            80,
            80,
            80,
            80,
            80,
            80,
            80,
            80,
            80,
            80,
            80,
            80,
            80,
            80,
            80,
            80,
            80,
            80,
            80,
            80,
            80,
            80,
            80,
            80,
            80,
            80,
            80,
            80,
            80,
            80,
            80,
            80,
            80,
            80,
            80,
            80,
            80,
            80,
            80,
            80,
            80,
            80,
            80,
            80,
            80,
            80,
            80,
            80,
            80,
            80,
            80,
            80,
            80,
            80,
            80,
            80,
            80,
            80,
            80,
            80,
            80,
            80,
            80,
            80,
            80,
            80,
            80,
            80,
            80,
            80,
            80,
            80,
            80,
            80,
            80,
            80,
            80,
            80,
            80,
            80,
            80,
            80,
            80,
            80,
            80,
            80,
            80,
            80,
            80,
            80,
            80,
            80,
            80,
            80,
            80,
            80,
            80,
            80,
            80,
            80,
            80,
            80,
            80,
            80,
            80,
            80,
            80,
            80,
            80,
            80,
            80,
            80,
            80,
            80,
            80,
            80,
            80,
            80,
            80,
            80,
            80,
            80,
            80,
            80,
            80,
            80,
            80,
            80,
            80,
            80,
            80,
            80,
            80,
            80,
            80,
            80,
            80,
            80,
            80,
            80,
            80,
            80,
            80,
            80,
            80,
            80,
            80,
            80,
            80,
            80,
            80,
            80,
            80,
            80,
            80,
            80,
            80,
            80,
            80,
            80,
            80,
            80,
            80,
            80,
            80,
            80,
            80,
            80,
            80,
            80,
            80,
            80,
            80,
            80,
            80,
            80,
            80,
            80,
            80,
            80,
            80,
            80,
            80,
            80,
            80,
            80,
            80,
            80,
            80,
            80,
            80,
            80,
            80,
            80,
            80,
            80,
            80,
            80,
            80,
            80,
            80,
            80,
            80,
            80,
            80,
            80,
            80,
            80,
            80,
            80,
            80,
            80,
            80,
            80,
            80,
            80,
            80,
            80,
            80,
            150,
            150,
            150,
            150,
            150,
            150,
            150,
            150,
            150,
            150,
            150,
            150,
            150,
            150,
            150,
            150,
            150,
            150,
            150,
            150,
            150,
            150,
            150,
            150,
            150,
            150,
            150,
            150,
            150,
            150,
            150,
            150,
            150,
            150,
            150,
            150,
            150,
            150,
            150,
            150,
            150,
            150,
            150,
            150,
            150,
            150,
            150,
            150,
            150,
            150,
            150,
            150,
            150,
            150,
            150,
            150,
            150,
            150,
            150,
            150,
            150,
            150,
            150,
            150,
            150,
            150,
            150,
            150,
            150,
            150,
            150,
            150,
            150,
            150,
            150,
            150,
            150,
            150,
            150,
            150,
            150,
            150,
            150,
            150,
            150,
            150,
            150,
            150,
            150,
            150,
            150,
            150,
            150,
            150,
            150,
            150,
            150,
            150,
            150,
            150,
            150,
            150,
            150,
            150,
            150,
            150,
            150,
            150,
            150,
            150,
            150,
            150,
            150,
            150,
            150,
            150,
            150,
            150,
            150,
            150,
            150,
            150,
            150,
            150,
            150,
            150,
            150,
            150,
            150,
            150,
            150,
            150,
            150,
            150,
            150,
            150,
            150,
            150,
            150,
            150,
            150,
            150,
            150,
            150,
            150,
            150,
            150,
            150,
            150,
            150,
            150,
            150,
            150,
            150,
            150,
            150,
            150,
            150,
            150,
            150,
            150,
            150,
            150,
            150,
            150,
            150,
            150,
            150,
            150,
            150,
            150,
            150,
            150,
            150,
            150,
            150,
            150,
            150,
            150,
            150,
            150,
            150,
            150,
            150,
            150,
            150,
            150,
            150,
            150,
            150,
            150,
            150,
            150,
            150,
            150,
            150,
            150,
            150,
            150,
            150,
            150,
            150,
            150,
            150,
            150,
            150,
            150,
            150,
            150,
            150,
            150,
            150,
            150,
            150,
            150,
            150,
            150,
            150,
            150,
            150,
            150,
            150,
            150,
            150,
            150,
            150,
            150,
            150,
            150,
            150,
            150,
            150,
            150,
            150,
            150,
            150,
            150,
            150,
            150,
            150,
            150,
            150,
            150,
            150,
            150,
            150,
            150,
            150,
            150,
            150,
            150,
            150,
            150,
            150,
            150,
            150,
            150,
            150,
            150,
            150,
            150,
            150,
            150,
            150,
            150,
            150,
            150,
            150,
            150,
            150,
            150,
            150,
            150,
            150,
            150,
            150,
            150,
            150,
            150,
            150,
            150,
            150,
            150,
            150,
            150,
            150
           ]
          },
          {
           "label": "(X) value_of_time",
           "name": "value_of_time",
           "range": [
            0.001,
            0.001
           ],
           "values": {
            "dtype": "float64",
            "shape": [
             1091
            ]
           }
          },
          {
           "label": "(X) unit_cost_expansion",
           "name": "unit_cost_expansion",
           "range": [
            145,
            145
           ],
           "values": {
            "dtype": "float64",
            "shape": [
             1091
            ]
           }
          },
          {
           "label": "(X) interest_rate",
           "name": "interest_rate",
           "range": [
            0.02500336140448984,
            0.03996881037926856
           ],
           "values": {
            "dtype": "float64",
            "shape": [
             1091
            ]
           }
          },
          {
           "label": "(X) yield_curve",
           "name": "yield_curve",
           "range": [
            0.02,
            0.02
           ],
           "values": {
            "dtype": "float64",
            "shape": [
             1091
            ]
           }
          },
          {
           "label": "(M-) build_travel_time",
           "name": "build_travel_time",
           "range": [
            64.38425360665872,
            60.03885806788815
           ],
           "values": {
            "dtype": "float64",
            "shape": [
             1091
            ]
           }
          },
          {
           "label": "(M+) time_savings",
           "name": "time_savings",
           "range": [
            1.7196573437929672,
            45.21791368470065
           ],
           "values": {
            "dtype": "float64",
            "shape": [
             1091
            ]
           }
          },
          {
           "label": "(M+)<br>   value_of_time_savings",
           "name": "value_of_time_savings",
           "range": [
            0.13757258750343737,
            6.782687052705097
           ],
           "values": {
            "dtype": "float64",
            "shape": [
             1091
            ]
           }
          },
          {
           "label": "(M+) net_benefits",
           "name": "net_benefits",
           "range": [
            -461.29896811609655,
            -454.65385365089486
           ],
           "values": {
            "dtype": "float64",
            "shape": [
             1091
            ]
           }
          },
          {
           "label": "(M-) cost_of_capacity_ex<br>   pansion",
           "name": "cost_of_capacity_expansion",
           "range": [
            461.4365407036,
            461.4365407036
           ],
           "values": {
            "dtype": "float64",
            "shape": [
             1091
            ]
           }
          }
         ],
         "domain": {
          "y": [
           0,
           0.7
          ]
         },
         "labelangle": -90,
         "labelfont": {
          "color": "#AA0000"
         },
         "line": {
          "cmax": 0.2,
          "cmin": 0.1,
          "color": {
           "dtype": "float64",
           "shape": [
            1091
           ]
          },
          "colorbar": {
           "title": {
            "side": "right",
            "text": "alpha"
           }
          },
          "colorscale": [
           [
            0,
            "#440154"
           ],
           [
            0.1111111111111111,
            "#482878"
           ],
           [
            0.2222222222222222,
            "#3e4989"
           ],
           [
            0.3333333333333333,
            "#31688e"
           ],
           [
            0.4444444444444444,
            "#26828e"
           ],
           [
            0.5555555555555556,
            "#1f9e89"
           ],
           [
            0.6666666666666666,
            "#35b779"
           ],
           [
            0.7777777777777778,
            "#6ece58"
           ],
           [
            0.8888888888888888,
            "#b5de2b"
           ],
           [
            1,
            "#fde725"
           ]
          ],
          "reversescale": true,
          "showscale": true
         },
         "type": "parcoords",
         "uid": "65b37704-461e-41ac-acb1-5bbf8d3b0bf6"
        }
       ],
       "_js2py_pointsCallback": {},
       "_js2py_restyle": {},
       "_js2py_update": {},
       "_last_layout_edit_id": 1,
       "_layout": {
        "autosize": true,
        "template": {
         "data": {
          "bar": [
           {
            "error_x": {
             "color": "#2a3f5f"
            },
            "error_y": {
             "color": "#2a3f5f"
            },
            "marker": {
             "line": {
              "color": "#E5ECF6",
              "width": 0.5
             }
            },
            "type": "bar"
           }
          ],
          "barpolar": [
           {
            "marker": {
             "line": {
              "color": "#E5ECF6",
              "width": 0.5
             }
            },
            "type": "barpolar"
           }
          ],
          "carpet": [
           {
            "aaxis": {
             "endlinecolor": "#2a3f5f",
             "gridcolor": "white",
             "linecolor": "white",
             "minorgridcolor": "white",
             "startlinecolor": "#2a3f5f"
            },
            "baxis": {
             "endlinecolor": "#2a3f5f",
             "gridcolor": "white",
             "linecolor": "white",
             "minorgridcolor": "white",
             "startlinecolor": "#2a3f5f"
            },
            "type": "carpet"
           }
          ],
          "choropleth": [
           {
            "colorbar": {
             "outlinewidth": 0,
             "ticks": ""
            },
            "type": "choropleth"
           }
          ],
          "contour": [
           {
            "colorbar": {
             "outlinewidth": 0,
             "ticks": ""
            },
            "colorscale": [
             [
              0,
              "#0d0887"
             ],
             [
              0.1111111111111111,
              "#46039f"
             ],
             [
              0.2222222222222222,
              "#7201a8"
             ],
             [
              0.3333333333333333,
              "#9c179e"
             ],
             [
              0.4444444444444444,
              "#bd3786"
             ],
             [
              0.5555555555555556,
              "#d8576b"
             ],
             [
              0.6666666666666666,
              "#ed7953"
             ],
             [
              0.7777777777777778,
              "#fb9f3a"
             ],
             [
              0.8888888888888888,
              "#fdca26"
             ],
             [
              1,
              "#f0f921"
             ]
            ],
            "type": "contour"
           }
          ],
          "contourcarpet": [
           {
            "colorbar": {
             "outlinewidth": 0,
             "ticks": ""
            },
            "type": "contourcarpet"
           }
          ],
          "heatmap": [
           {
            "colorbar": {
             "outlinewidth": 0,
             "ticks": ""
            },
            "colorscale": [
             [
              0,
              "#0d0887"
             ],
             [
              0.1111111111111111,
              "#46039f"
             ],
             [
              0.2222222222222222,
              "#7201a8"
             ],
             [
              0.3333333333333333,
              "#9c179e"
             ],
             [
              0.4444444444444444,
              "#bd3786"
             ],
             [
              0.5555555555555556,
              "#d8576b"
             ],
             [
              0.6666666666666666,
              "#ed7953"
             ],
             [
              0.7777777777777778,
              "#fb9f3a"
             ],
             [
              0.8888888888888888,
              "#fdca26"
             ],
             [
              1,
              "#f0f921"
             ]
            ],
            "type": "heatmap"
           }
          ],
          "heatmapgl": [
           {
            "colorbar": {
             "outlinewidth": 0,
             "ticks": ""
            },
            "colorscale": [
             [
              0,
              "#0d0887"
             ],
             [
              0.1111111111111111,
              "#46039f"
             ],
             [
              0.2222222222222222,
              "#7201a8"
             ],
             [
              0.3333333333333333,
              "#9c179e"
             ],
             [
              0.4444444444444444,
              "#bd3786"
             ],
             [
              0.5555555555555556,
              "#d8576b"
             ],
             [
              0.6666666666666666,
              "#ed7953"
             ],
             [
              0.7777777777777778,
              "#fb9f3a"
             ],
             [
              0.8888888888888888,
              "#fdca26"
             ],
             [
              1,
              "#f0f921"
             ]
            ],
            "type": "heatmapgl"
           }
          ],
          "histogram": [
           {
            "marker": {
             "colorbar": {
              "outlinewidth": 0,
              "ticks": ""
             }
            },
            "type": "histogram"
           }
          ],
          "histogram2d": [
           {
            "colorbar": {
             "outlinewidth": 0,
             "ticks": ""
            },
            "colorscale": [
             [
              0,
              "#0d0887"
             ],
             [
              0.1111111111111111,
              "#46039f"
             ],
             [
              0.2222222222222222,
              "#7201a8"
             ],
             [
              0.3333333333333333,
              "#9c179e"
             ],
             [
              0.4444444444444444,
              "#bd3786"
             ],
             [
              0.5555555555555556,
              "#d8576b"
             ],
             [
              0.6666666666666666,
              "#ed7953"
             ],
             [
              0.7777777777777778,
              "#fb9f3a"
             ],
             [
              0.8888888888888888,
              "#fdca26"
             ],
             [
              1,
              "#f0f921"
             ]
            ],
            "type": "histogram2d"
           }
          ],
          "histogram2dcontour": [
           {
            "colorbar": {
             "outlinewidth": 0,
             "ticks": ""
            },
            "colorscale": [
             [
              0,
              "#0d0887"
             ],
             [
              0.1111111111111111,
              "#46039f"
             ],
             [
              0.2222222222222222,
              "#7201a8"
             ],
             [
              0.3333333333333333,
              "#9c179e"
             ],
             [
              0.4444444444444444,
              "#bd3786"
             ],
             [
              0.5555555555555556,
              "#d8576b"
             ],
             [
              0.6666666666666666,
              "#ed7953"
             ],
             [
              0.7777777777777778,
              "#fb9f3a"
             ],
             [
              0.8888888888888888,
              "#fdca26"
             ],
             [
              1,
              "#f0f921"
             ]
            ],
            "type": "histogram2dcontour"
           }
          ],
          "mesh3d": [
           {
            "colorbar": {
             "outlinewidth": 0,
             "ticks": ""
            },
            "type": "mesh3d"
           }
          ],
          "parcoords": [
           {
            "line": {
             "colorbar": {
              "outlinewidth": 0,
              "ticks": ""
             }
            },
            "type": "parcoords"
           }
          ],
          "scatter": [
           {
            "marker": {
             "colorbar": {
              "outlinewidth": 0,
              "ticks": ""
             }
            },
            "type": "scatter"
           }
          ],
          "scatter3d": [
           {
            "line": {
             "colorbar": {
              "outlinewidth": 0,
              "ticks": ""
             }
            },
            "marker": {
             "colorbar": {
              "outlinewidth": 0,
              "ticks": ""
             }
            },
            "type": "scatter3d"
           }
          ],
          "scattercarpet": [
           {
            "marker": {
             "colorbar": {
              "outlinewidth": 0,
              "ticks": ""
             }
            },
            "type": "scattercarpet"
           }
          ],
          "scattergeo": [
           {
            "marker": {
             "colorbar": {
              "outlinewidth": 0,
              "ticks": ""
             }
            },
            "type": "scattergeo"
           }
          ],
          "scattergl": [
           {
            "marker": {
             "colorbar": {
              "outlinewidth": 0,
              "ticks": ""
             }
            },
            "type": "scattergl"
           }
          ],
          "scattermapbox": [
           {
            "marker": {
             "colorbar": {
              "outlinewidth": 0,
              "ticks": ""
             }
            },
            "type": "scattermapbox"
           }
          ],
          "scatterpolar": [
           {
            "marker": {
             "colorbar": {
              "outlinewidth": 0,
              "ticks": ""
             }
            },
            "type": "scatterpolar"
           }
          ],
          "scatterpolargl": [
           {
            "marker": {
             "colorbar": {
              "outlinewidth": 0,
              "ticks": ""
             }
            },
            "type": "scatterpolargl"
           }
          ],
          "scatterternary": [
           {
            "marker": {
             "colorbar": {
              "outlinewidth": 0,
              "ticks": ""
             }
            },
            "type": "scatterternary"
           }
          ],
          "surface": [
           {
            "colorbar": {
             "outlinewidth": 0,
             "ticks": ""
            },
            "colorscale": [
             [
              0,
              "#0d0887"
             ],
             [
              0.1111111111111111,
              "#46039f"
             ],
             [
              0.2222222222222222,
              "#7201a8"
             ],
             [
              0.3333333333333333,
              "#9c179e"
             ],
             [
              0.4444444444444444,
              "#bd3786"
             ],
             [
              0.5555555555555556,
              "#d8576b"
             ],
             [
              0.6666666666666666,
              "#ed7953"
             ],
             [
              0.7777777777777778,
              "#fb9f3a"
             ],
             [
              0.8888888888888888,
              "#fdca26"
             ],
             [
              1,
              "#f0f921"
             ]
            ],
            "type": "surface"
           }
          ],
          "table": [
           {
            "cells": {
             "fill": {
              "color": "#EBF0F8"
             },
             "line": {
              "color": "white"
             }
            },
            "header": {
             "fill": {
              "color": "#C8D4E3"
             },
             "line": {
              "color": "white"
             }
            },
            "type": "table"
           }
          ]
         },
         "layout": {
          "annotationdefaults": {
           "arrowcolor": "#2a3f5f",
           "arrowhead": 0,
           "arrowwidth": 1
          },
          "colorscale": {
           "diverging": [
            [
             0,
             "#8e0152"
            ],
            [
             0.1,
             "#c51b7d"
            ],
            [
             0.2,
             "#de77ae"
            ],
            [
             0.3,
             "#f1b6da"
            ],
            [
             0.4,
             "#fde0ef"
            ],
            [
             0.5,
             "#f7f7f7"
            ],
            [
             0.6,
             "#e6f5d0"
            ],
            [
             0.7,
             "#b8e186"
            ],
            [
             0.8,
             "#7fbc41"
            ],
            [
             0.9,
             "#4d9221"
            ],
            [
             1,
             "#276419"
            ]
           ],
           "sequential": [
            [
             0,
             "#0d0887"
            ],
            [
             0.1111111111111111,
             "#46039f"
            ],
            [
             0.2222222222222222,
             "#7201a8"
            ],
            [
             0.3333333333333333,
             "#9c179e"
            ],
            [
             0.4444444444444444,
             "#bd3786"
            ],
            [
             0.5555555555555556,
             "#d8576b"
            ],
            [
             0.6666666666666666,
             "#ed7953"
            ],
            [
             0.7777777777777778,
             "#fb9f3a"
            ],
            [
             0.8888888888888888,
             "#fdca26"
            ],
            [
             1,
             "#f0f921"
            ]
           ],
           "sequentialminus": [
            [
             0,
             "#0d0887"
            ],
            [
             0.1111111111111111,
             "#46039f"
            ],
            [
             0.2222222222222222,
             "#7201a8"
            ],
            [
             0.3333333333333333,
             "#9c179e"
            ],
            [
             0.4444444444444444,
             "#bd3786"
            ],
            [
             0.5555555555555556,
             "#d8576b"
            ],
            [
             0.6666666666666666,
             "#ed7953"
            ],
            [
             0.7777777777777778,
             "#fb9f3a"
            ],
            [
             0.8888888888888888,
             "#fdca26"
            ],
            [
             1,
             "#f0f921"
            ]
           ]
          },
          "colorway": [
           "#636efa",
           "#EF553B",
           "#00cc96",
           "#ab63fa",
           "#FFA15A",
           "#19d3f3",
           "#FF6692",
           "#B6E880",
           "#FF97FF",
           "#FECB52"
          ],
          "font": {
           "color": "#2a3f5f"
          },
          "geo": {
           "bgcolor": "white",
           "lakecolor": "white",
           "landcolor": "#E5ECF6",
           "showlakes": true,
           "showland": true,
           "subunitcolor": "white"
          },
          "hoverlabel": {
           "align": "left"
          },
          "hovermode": "closest",
          "mapbox": {
           "style": "light"
          },
          "paper_bgcolor": "white",
          "plot_bgcolor": "#E5ECF6",
          "polar": {
           "angularaxis": {
            "gridcolor": "white",
            "linecolor": "white",
            "ticks": ""
           },
           "bgcolor": "#E5ECF6",
           "radialaxis": {
            "gridcolor": "white",
            "linecolor": "white",
            "ticks": ""
           }
          },
          "scene": {
           "xaxis": {
            "backgroundcolor": "#E5ECF6",
            "gridcolor": "white",
            "gridwidth": 2,
            "linecolor": "white",
            "showbackground": true,
            "ticks": "",
            "zerolinecolor": "white"
           },
           "yaxis": {
            "backgroundcolor": "#E5ECF6",
            "gridcolor": "white",
            "gridwidth": 2,
            "linecolor": "white",
            "showbackground": true,
            "ticks": "",
            "zerolinecolor": "white"
           },
           "zaxis": {
            "backgroundcolor": "#E5ECF6",
            "gridcolor": "white",
            "gridwidth": 2,
            "linecolor": "white",
            "showbackground": true,
            "ticks": "",
            "zerolinecolor": "white"
           }
          },
          "shapedefaults": {
           "line": {
            "color": "#2a3f5f"
           }
          },
          "ternary": {
           "aaxis": {
            "gridcolor": "white",
            "linecolor": "white",
            "ticks": ""
           },
           "baxis": {
            "gridcolor": "white",
            "linecolor": "white",
            "ticks": ""
           },
           "bgcolor": "#E5ECF6",
           "caxis": {
            "gridcolor": "white",
            "linecolor": "white",
            "ticks": ""
           }
          },
          "title": {
           "x": 0.05
          },
          "xaxis": {
           "automargin": true,
           "gridcolor": "white",
           "linecolor": "white",
           "ticks": "",
           "zerolinecolor": "white",
           "zerolinewidth": 2
          },
          "yaxis": {
           "automargin": true,
           "gridcolor": "white",
           "linecolor": "white",
           "ticks": "",
           "zerolinecolor": "white",
           "zerolinewidth": 2
          }
         }
        }
       },
       "_py2js_addTraces": {},
       "_py2js_animate": {},
       "_py2js_deleteTraces": {},
       "_py2js_moveTraces": {},
       "_py2js_removeLayoutProps": {},
       "_py2js_removeTraceProps": {},
       "_py2js_restyle": {},
       "_py2js_update": {},
       "_view_count": 1
      }
     },
     "31ac1e0f75e84a9cb55d9f06e7de8f6b": {
      "model_module": "@jupyter-widgets/base",
      "model_module_version": "1.2.0",
      "model_name": "LayoutModel",
      "state": {}
     },
     "32cac07ce7d54f098ec02312b877df4c": {
      "model_module": "@jupyter-widgets/controls",
      "model_module_version": "1.5.0",
      "model_name": "CheckboxModel",
      "state": {
       "description": "(M+) time_savings",
       "description_tooltip": "time_savings",
       "disabled": false,
       "layout": "IPY_MODEL_eba7ba6d2d544a9a934c1a13778ba0ed",
       "name": "time_savings",
       "style": "IPY_MODEL_d9572439aed84a1d9e879248928256c7",
       "value": true
      }
     },
     "35a71f5cb00d46eda17b76a5e83e28b5": {
      "model_module": "@jupyter-widgets/controls",
      "model_module_version": "1.5.0",
      "model_name": "CheckboxModel",
      "state": {
       "description": "(L) amortization_period",
       "description_tooltip": "amortization_period",
       "disabled": false,
       "layout": "IPY_MODEL_9acdef70ec2e43b6a2eb3368eb2b1b62",
       "name": "amortization_period",
       "style": "IPY_MODEL_d9701895be8241d48e087d679f19676f",
       "value": true
      }
     },
     "38033ddd955341a38518812ea40f5bc0": {
      "model_module": "@jupyter-widgets/base",
      "model_module_version": "1.2.0",
      "model_name": "LayoutModel",
      "state": {}
     },
     "38306834adfb4eadb742c647d4b6148b": {
      "model_module": "@jupyter-widgets/controls",
      "model_module_version": "1.5.0",
      "model_name": "CheckboxModel",
      "state": {
       "description": "(M+) net_benefits",
       "description_tooltip": "net_benefits",
       "disabled": false,
       "layout": "IPY_MODEL_12817b3626024561a06a148ce895a6bb",
       "name": "net_benefits",
       "style": "IPY_MODEL_8101b23104aa4e9d89fb4fd5a33dfa1d",
       "value": true
      }
     },
     "3ad9ad9e966b40e8886e342b059eb901": {
      "model_module": "plotlywidget",
      "model_module_version": "^1.1.1",
      "model_name": "FigureModel",
      "state": {
       "_config": {
        "plotlyServerURL": "https://plot.ly"
       },
       "_data": [
        {
         "fill": "tonexty",
         "line": {
          "shape": "linear"
         },
         "mode": "lines+markers",
         "name": "",
         "type": "scatter",
         "uid": "9a69eb07-6618-45e8-b609-443073778fb8",
         "x": [
          0,
          100,
          200,
          300,
          400,
          500,
          600,
          700,
          800,
          900,
          1000,
          1100,
          1200,
          1300,
          1400,
          1500,
          1600,
          1700,
          1800,
          1900,
          2000,
          2100,
          2200,
          2300,
          2400,
          2500,
          2600,
          2700,
          2800,
          2900,
          3000,
          3100,
          3200,
          3300,
          3400,
          3500,
          3600,
          3700,
          3800,
          3900,
          4000,
          4100,
          4200,
          4300,
          4400,
          4500,
          4600,
          4700,
          4800,
          4900,
          5000,
          5100,
          5200,
          5300,
          5400,
          5500,
          5600,
          5700,
          5800,
          5900,
          6000,
          6100,
          6200,
          6300,
          6400,
          6500,
          6600,
          6700,
          6800,
          6900,
          7000,
          7100,
          7200,
          7300,
          7400,
          7500,
          7600,
          7700,
          7800,
          7900,
          8000,
          8100,
          8200,
          8300,
          8400,
          8500,
          8600,
          8700,
          8800,
          8900,
          9000,
          9100,
          9200,
          9300,
          9400,
          9500,
          9600,
          9700,
          9800,
          9900,
          10000
         ],
         "y": [
          0,
          50,
          79,
          121,
          158,
          191,
          216,
          233,
          257,
          279,
          297,
          311,
          325,
          338,
          348,
          360,
          375,
          384,
          391,
          401,
          409,
          420,
          430,
          443,
          457,
          462,
          475,
          483,
          489,
          496,
          507,
          522,
          530,
          541,
          549,
          558,
          567,
          573,
          578,
          585,
          592,
          600,
          608,
          614,
          619,
          629,
          634,
          639,
          643,
          646,
          651,
          655,
          663,
          665,
          670,
          674,
          675,
          684,
          689,
          692,
          696,
          701,
          704,
          707,
          715,
          720,
          722,
          726,
          731,
          737,
          742,
          750,
          755,
          760,
          766,
          770,
          773,
          777,
          782,
          786,
          789,
          792,
          800,
          807,
          811,
          816,
          824,
          829,
          833,
          843,
          846,
          851,
          854,
          857,
          862,
          870,
          875,
          878,
          881,
          882,
          886
         ]
        }
       ],
       "_js2py_pointsCallback": {},
       "_js2py_relayout": {},
       "_js2py_restyle": {},
       "_js2py_update": {},
       "_last_layout_edit_id": 4,
       "_last_trace_edit_id": 1,
       "_layout": {
        "height": 240,
        "hovermode": "closest",
        "margin": {
         "b": 15,
         "l": 15,
         "r": 15,
         "t": 40
        },
        "showlegend": false,
        "template": {
         "data": {
          "bar": [
           {
            "error_x": {
             "color": "#2a3f5f"
            },
            "error_y": {
             "color": "#2a3f5f"
            },
            "marker": {
             "line": {
              "color": "#E5ECF6",
              "width": 0.5
             }
            },
            "type": "bar"
           }
          ],
          "barpolar": [
           {
            "marker": {
             "line": {
              "color": "#E5ECF6",
              "width": 0.5
             }
            },
            "type": "barpolar"
           }
          ],
          "carpet": [
           {
            "aaxis": {
             "endlinecolor": "#2a3f5f",
             "gridcolor": "white",
             "linecolor": "white",
             "minorgridcolor": "white",
             "startlinecolor": "#2a3f5f"
            },
            "baxis": {
             "endlinecolor": "#2a3f5f",
             "gridcolor": "white",
             "linecolor": "white",
             "minorgridcolor": "white",
             "startlinecolor": "#2a3f5f"
            },
            "type": "carpet"
           }
          ],
          "choropleth": [
           {
            "colorbar": {
             "outlinewidth": 0,
             "ticks": ""
            },
            "type": "choropleth"
           }
          ],
          "contour": [
           {
            "colorbar": {
             "outlinewidth": 0,
             "ticks": ""
            },
            "colorscale": [
             [
              0,
              "#0d0887"
             ],
             [
              0.1111111111111111,
              "#46039f"
             ],
             [
              0.2222222222222222,
              "#7201a8"
             ],
             [
              0.3333333333333333,
              "#9c179e"
             ],
             [
              0.4444444444444444,
              "#bd3786"
             ],
             [
              0.5555555555555556,
              "#d8576b"
             ],
             [
              0.6666666666666666,
              "#ed7953"
             ],
             [
              0.7777777777777778,
              "#fb9f3a"
             ],
             [
              0.8888888888888888,
              "#fdca26"
             ],
             [
              1,
              "#f0f921"
             ]
            ],
            "type": "contour"
           }
          ],
          "contourcarpet": [
           {
            "colorbar": {
             "outlinewidth": 0,
             "ticks": ""
            },
            "type": "contourcarpet"
           }
          ],
          "heatmap": [
           {
            "colorbar": {
             "outlinewidth": 0,
             "ticks": ""
            },
            "colorscale": [
             [
              0,
              "#0d0887"
             ],
             [
              0.1111111111111111,
              "#46039f"
             ],
             [
              0.2222222222222222,
              "#7201a8"
             ],
             [
              0.3333333333333333,
              "#9c179e"
             ],
             [
              0.4444444444444444,
              "#bd3786"
             ],
             [
              0.5555555555555556,
              "#d8576b"
             ],
             [
              0.6666666666666666,
              "#ed7953"
             ],
             [
              0.7777777777777778,
              "#fb9f3a"
             ],
             [
              0.8888888888888888,
              "#fdca26"
             ],
             [
              1,
              "#f0f921"
             ]
            ],
            "type": "heatmap"
           }
          ],
          "heatmapgl": [
           {
            "colorbar": {
             "outlinewidth": 0,
             "ticks": ""
            },
            "colorscale": [
             [
              0,
              "#0d0887"
             ],
             [
              0.1111111111111111,
              "#46039f"
             ],
             [
              0.2222222222222222,
              "#7201a8"
             ],
             [
              0.3333333333333333,
              "#9c179e"
             ],
             [
              0.4444444444444444,
              "#bd3786"
             ],
             [
              0.5555555555555556,
              "#d8576b"
             ],
             [
              0.6666666666666666,
              "#ed7953"
             ],
             [
              0.7777777777777778,
              "#fb9f3a"
             ],
             [
              0.8888888888888888,
              "#fdca26"
             ],
             [
              1,
              "#f0f921"
             ]
            ],
            "type": "heatmapgl"
           }
          ],
          "histogram": [
           {
            "marker": {
             "colorbar": {
              "outlinewidth": 0,
              "ticks": ""
             }
            },
            "type": "histogram"
           }
          ],
          "histogram2d": [
           {
            "colorbar": {
             "outlinewidth": 0,
             "ticks": ""
            },
            "colorscale": [
             [
              0,
              "#0d0887"
             ],
             [
              0.1111111111111111,
              "#46039f"
             ],
             [
              0.2222222222222222,
              "#7201a8"
             ],
             [
              0.3333333333333333,
              "#9c179e"
             ],
             [
              0.4444444444444444,
              "#bd3786"
             ],
             [
              0.5555555555555556,
              "#d8576b"
             ],
             [
              0.6666666666666666,
              "#ed7953"
             ],
             [
              0.7777777777777778,
              "#fb9f3a"
             ],
             [
              0.8888888888888888,
              "#fdca26"
             ],
             [
              1,
              "#f0f921"
             ]
            ],
            "type": "histogram2d"
           }
          ],
          "histogram2dcontour": [
           {
            "colorbar": {
             "outlinewidth": 0,
             "ticks": ""
            },
            "colorscale": [
             [
              0,
              "#0d0887"
             ],
             [
              0.1111111111111111,
              "#46039f"
             ],
             [
              0.2222222222222222,
              "#7201a8"
             ],
             [
              0.3333333333333333,
              "#9c179e"
             ],
             [
              0.4444444444444444,
              "#bd3786"
             ],
             [
              0.5555555555555556,
              "#d8576b"
             ],
             [
              0.6666666666666666,
              "#ed7953"
             ],
             [
              0.7777777777777778,
              "#fb9f3a"
             ],
             [
              0.8888888888888888,
              "#fdca26"
             ],
             [
              1,
              "#f0f921"
             ]
            ],
            "type": "histogram2dcontour"
           }
          ],
          "mesh3d": [
           {
            "colorbar": {
             "outlinewidth": 0,
             "ticks": ""
            },
            "type": "mesh3d"
           }
          ],
          "parcoords": [
           {
            "line": {
             "colorbar": {
              "outlinewidth": 0,
              "ticks": ""
             }
            },
            "type": "parcoords"
           }
          ],
          "scatter": [
           {
            "marker": {
             "colorbar": {
              "outlinewidth": 0,
              "ticks": ""
             }
            },
            "type": "scatter"
           }
          ],
          "scatter3d": [
           {
            "line": {
             "colorbar": {
              "outlinewidth": 0,
              "ticks": ""
             }
            },
            "marker": {
             "colorbar": {
              "outlinewidth": 0,
              "ticks": ""
             }
            },
            "type": "scatter3d"
           }
          ],
          "scattercarpet": [
           {
            "marker": {
             "colorbar": {
              "outlinewidth": 0,
              "ticks": ""
             }
            },
            "type": "scattercarpet"
           }
          ],
          "scattergeo": [
           {
            "marker": {
             "colorbar": {
              "outlinewidth": 0,
              "ticks": ""
             }
            },
            "type": "scattergeo"
           }
          ],
          "scattergl": [
           {
            "marker": {
             "colorbar": {
              "outlinewidth": 0,
              "ticks": ""
             }
            },
            "type": "scattergl"
           }
          ],
          "scattermapbox": [
           {
            "marker": {
             "colorbar": {
              "outlinewidth": 0,
              "ticks": ""
             }
            },
            "type": "scattermapbox"
           }
          ],
          "scatterpolar": [
           {
            "marker": {
             "colorbar": {
              "outlinewidth": 0,
              "ticks": ""
             }
            },
            "type": "scatterpolar"
           }
          ],
          "scatterpolargl": [
           {
            "marker": {
             "colorbar": {
              "outlinewidth": 0,
              "ticks": ""
             }
            },
            "type": "scatterpolargl"
           }
          ],
          "scatterternary": [
           {
            "marker": {
             "colorbar": {
              "outlinewidth": 0,
              "ticks": ""
             }
            },
            "type": "scatterternary"
           }
          ],
          "surface": [
           {
            "colorbar": {
             "outlinewidth": 0,
             "ticks": ""
            },
            "colorscale": [
             [
              0,
              "#0d0887"
             ],
             [
              0.1111111111111111,
              "#46039f"
             ],
             [
              0.2222222222222222,
              "#7201a8"
             ],
             [
              0.3333333333333333,
              "#9c179e"
             ],
             [
              0.4444444444444444,
              "#bd3786"
             ],
             [
              0.5555555555555556,
              "#d8576b"
             ],
             [
              0.6666666666666666,
              "#ed7953"
             ],
             [
              0.7777777777777778,
              "#fb9f3a"
             ],
             [
              0.8888888888888888,
              "#fdca26"
             ],
             [
              1,
              "#f0f921"
             ]
            ],
            "type": "surface"
           }
          ],
          "table": [
           {
            "cells": {
             "fill": {
              "color": "#EBF0F8"
             },
             "line": {
              "color": "white"
             }
            },
            "header": {
             "fill": {
              "color": "#C8D4E3"
             },
             "line": {
              "color": "white"
             }
            },
            "type": "table"
           }
          ]
         },
         "layout": {
          "annotationdefaults": {
           "arrowcolor": "#2a3f5f",
           "arrowhead": 0,
           "arrowwidth": 1
          },
          "colorscale": {
           "diverging": [
            [
             0,
             "#8e0152"
            ],
            [
             0.1,
             "#c51b7d"
            ],
            [
             0.2,
             "#de77ae"
            ],
            [
             0.3,
             "#f1b6da"
            ],
            [
             0.4,
             "#fde0ef"
            ],
            [
             0.5,
             "#f7f7f7"
            ],
            [
             0.6,
             "#e6f5d0"
            ],
            [
             0.7,
             "#b8e186"
            ],
            [
             0.8,
             "#7fbc41"
            ],
            [
             0.9,
             "#4d9221"
            ],
            [
             1,
             "#276419"
            ]
           ],
           "sequential": [
            [
             0,
             "#0d0887"
            ],
            [
             0.1111111111111111,
             "#46039f"
            ],
            [
             0.2222222222222222,
             "#7201a8"
            ],
            [
             0.3333333333333333,
             "#9c179e"
            ],
            [
             0.4444444444444444,
             "#bd3786"
            ],
            [
             0.5555555555555556,
             "#d8576b"
            ],
            [
             0.6666666666666666,
             "#ed7953"
            ],
            [
             0.7777777777777778,
             "#fb9f3a"
            ],
            [
             0.8888888888888888,
             "#fdca26"
            ],
            [
             1,
             "#f0f921"
            ]
           ],
           "sequentialminus": [
            [
             0,
             "#0d0887"
            ],
            [
             0.1111111111111111,
             "#46039f"
            ],
            [
             0.2222222222222222,
             "#7201a8"
            ],
            [
             0.3333333333333333,
             "#9c179e"
            ],
            [
             0.4444444444444444,
             "#bd3786"
            ],
            [
             0.5555555555555556,
             "#d8576b"
            ],
            [
             0.6666666666666666,
             "#ed7953"
            ],
            [
             0.7777777777777778,
             "#fb9f3a"
            ],
            [
             0.8888888888888888,
             "#fdca26"
            ],
            [
             1,
             "#f0f921"
            ]
           ]
          },
          "colorway": [
           "#636efa",
           "#EF553B",
           "#00cc96",
           "#ab63fa",
           "#FFA15A",
           "#19d3f3",
           "#FF6692",
           "#B6E880",
           "#FF97FF",
           "#FECB52"
          ],
          "font": {
           "color": "#2a3f5f"
          },
          "geo": {
           "bgcolor": "white",
           "lakecolor": "white",
           "landcolor": "#E5ECF6",
           "showlakes": true,
           "showland": true,
           "subunitcolor": "white"
          },
          "hoverlabel": {
           "align": "left"
          },
          "hovermode": "closest",
          "mapbox": {
           "style": "light"
          },
          "paper_bgcolor": "white",
          "plot_bgcolor": "#E5ECF6",
          "polar": {
           "angularaxis": {
            "gridcolor": "white",
            "linecolor": "white",
            "ticks": ""
           },
           "bgcolor": "#E5ECF6",
           "radialaxis": {
            "gridcolor": "white",
            "linecolor": "white",
            "ticks": ""
           }
          },
          "scene": {
           "xaxis": {
            "backgroundcolor": "#E5ECF6",
            "gridcolor": "white",
            "gridwidth": 2,
            "linecolor": "white",
            "showbackground": true,
            "ticks": "",
            "zerolinecolor": "white"
           },
           "yaxis": {
            "backgroundcolor": "#E5ECF6",
            "gridcolor": "white",
            "gridwidth": 2,
            "linecolor": "white",
            "showbackground": true,
            "ticks": "",
            "zerolinecolor": "white"
           },
           "zaxis": {
            "backgroundcolor": "#E5ECF6",
            "gridcolor": "white",
            "gridwidth": 2,
            "linecolor": "white",
            "showbackground": true,
            "ticks": "",
            "zerolinecolor": "white"
           }
          },
          "shapedefaults": {
           "line": {
            "color": "#2a3f5f"
           }
          },
          "ternary": {
           "aaxis": {
            "gridcolor": "white",
            "linecolor": "white",
            "ticks": ""
           },
           "baxis": {
            "gridcolor": "white",
            "linecolor": "white",
            "ticks": ""
           },
           "bgcolor": "#E5ECF6",
           "caxis": {
            "gridcolor": "white",
            "linecolor": "white",
            "ticks": ""
           }
          },
          "title": {
           "x": 0.05
          },
          "xaxis": {
           "automargin": true,
           "gridcolor": "white",
           "linecolor": "white",
           "ticks": "",
           "zerolinecolor": "white",
           "zerolinewidth": 2
          },
          "yaxis": {
           "automargin": true,
           "gridcolor": "white",
           "linecolor": "white",
           "ticks": "",
           "zerolinecolor": "white",
           "zerolinewidth": 2
          }
         }
        },
        "title": {
         "text": "ε-Progress"
        },
        "width": 340
       },
       "_py2js_addTraces": {},
       "_py2js_animate": {},
       "_py2js_deleteTraces": {},
       "_py2js_moveTraces": {},
       "_py2js_removeLayoutProps": {},
       "_py2js_removeTraceProps": {},
       "_py2js_restyle": {},
       "_view_count": 1
      }
     },
     "3df946f01439428ca59b97629b87cae4": {
      "model_module": "@jupyter-widgets/base",
      "model_module_version": "1.2.0",
      "model_name": "LayoutModel",
      "state": {}
     },
     "412a294f0a0c437c9f480bf20998c283": {
      "model_module": "@jupyter-widgets/base",
      "model_module_version": "1.2.0",
      "model_name": "LayoutModel",
      "state": {}
     },
     "43297ecd4527496e8639951688d21064": {
      "model_module": "@jupyter-widgets/controls",
      "model_module_version": "1.5.0",
      "model_name": "CheckboxModel",
      "state": {
       "description": "(M-) cost_of_capacity_expansion",
       "description_tooltip": "cost_of_capacity_expansion",
       "disabled": false,
       "layout": "IPY_MODEL_8a7f5001d17a43d0aaa8cf6409f29e3e",
       "name": "cost_of_capacity_expansion",
       "style": "IPY_MODEL_69d11761a95c4956922887f4d0d28486",
       "value": true
      }
     },
     "43e89bfc80d74a0dadf479e8faedbc6a": {
      "model_module": "@jupyter-widgets/controls",
      "model_module_version": "1.5.0",
      "model_name": "CheckboxModel",
      "state": {
       "description": "(M-) cost_of_capacity_expansion",
       "description_tooltip": "cost_of_capacity_expansion",
       "disabled": false,
       "layout": "IPY_MODEL_4abc633f0c6f47b8800d759ed23e1046",
       "name": "cost_of_capacity_expansion",
       "style": "IPY_MODEL_9f370e1975c445c0b583e9a71e0ae5cd",
       "value": true
      }
     },
     "4732ad1b7928487d80cb05f3251e51a5": {
      "model_module": "@jupyter-widgets/controls",
      "model_module_version": "1.5.0",
      "model_name": "DescriptionStyleModel",
      "state": {
       "description_width": ""
      }
     },
     "49150b188ac54a959f44a0acb64d9505": {
      "model_module": "@jupyter-widgets/base",
      "model_module_version": "1.2.0",
      "model_name": "LayoutModel",
      "state": {
       "align_items": "center"
      }
     },
     "4abc633f0c6f47b8800d759ed23e1046": {
      "model_module": "@jupyter-widgets/base",
      "model_module_version": "1.2.0",
      "model_name": "LayoutModel",
      "state": {}
     },
     "4dc1535f22944888b8850e918f50768f": {
      "model_module": "@jupyter-widgets/controls",
      "model_module_version": "1.5.0",
      "model_name": "CheckboxModel",
      "state": {
       "description": "(X) yield_curve",
       "description_tooltip": "yield_curve",
       "disabled": false,
       "layout": "IPY_MODEL_550185d10b75431bab75b5378da3a148",
       "name": "yield_curve",
       "style": "IPY_MODEL_987efc8fbaa44102bb47cb327df10857",
       "value": true
      }
     },
     "51945a23610640ce9b179e9e8886e012": {
      "buffers": [
       {
        "data": "JcHFaam5RUBh7yJhOqouQB/ACZWVEFdAfGvDVKp0D0Bc7p/DIaZPQEJvfgyaXQJAGL0S+VoNFECIs8cQSUtYQH4Px5RNRDRAAAAAAAAAAAAAAAAAAABZQNnEMX6lqAhAr0B3PEuUQUD4PZ2C3Ps/QNfYn/uFxEZAgxHP8wQZO0AKFH4OtPBKQAW6oAF0iFNAPMaNlHP0H0CfmsO4uD02QP98Bf9OQT1A9uJ9IAeEFECRXBRu3KQlQDyAxge3KCRAiEke/KXM1T9rAYTxxuNGQByfSg31D+w/mXijipTqHUBhHHTOXbEMQGJA8xS3Y/I/QF6dRenYFUCe6jIkTqMZQNDocXR6MgdAUK9f30bd/T9Wl7C01Zj3P2w1IitJcOI/mE4sIryEEUDXnFySCUgpQABeuVZFb30/gzpngodDTEBXuB8GryMlQMpym73FkShAqgGWCT8sJ0C5hnTfIIw+QIbJ1zBpsVJAXhKhk3NyIUD8gfzXAY5IQJfpH+JlfUNAghRSjXeZO0DJOB0mx0RVQA==",
        "encoding": "base64",
        "path": [
         "_data",
         0,
         "dimensions",
         0,
         "values",
         "value"
        ]
       },
       {
        "data": "UPRGFFRRAEBB2AAYiVH/P17Yc1RGiP8/sIyoztwIAEBgP6fsXBgAQHCLZtaQIQBA2JXZJ0RG/z9NDMGveEH/PxPMImZIAABAbB6nFyVMAEDPlDU/krn/PwHFAYkfUP8/6ysgWu///z/EeQGCa7r/P3eRQ778FgBAJLZ7z1lB/z9YfcuEJcL/PzPoDrkYNgBAVl9Jj2+F/z+qth/yjyYAQGue5e+tu/8/2HT8ofEvAEA+IMHItkMAQNYEC3ZKyP8/lHjTtoFIAEBg1HJrxBkAQKAj+LRQkP8/6knlwZJD/z9/Xctx7e7/Pxi1qCWJY/8/n4Zf745e/z9AVu7dGlQAQJoNSgY3KQBAwp8ApLik/z8ncY6WjGb/P0XIY09gxP8/mSBVZQlh/z+ku3tzH+7/P+sJwut0IgBAGNYgBJxV/z97VQQ1YU4AQOCS1rT65P8/ejoF8xJM/z/bjp1OEFoAQN58VVoqQv8/51AbHz4aAEAuN1aLzF8AQOWz7OZTZf8/0XzK4jto/z+5mvpzRon/Pw==",
        "encoding": "base64",
        "path": [
         "_data",
         0,
         "dimensions",
         2,
         "values",
         "value"
        ]
       },
       {
        "data": "wNeAiLv77z/J/TMfDjPwP7qZgtWTBaW/ShTMxtVu7z9wt39FVRByPxE3vWQ1Te8/k0bvpYl/7z9UoOLVcYuGPzz3otstAfA/mul/sMmb7j+rjdIRkybvP8rEwRSiMO8/HP1xIaYC7z8Qr+vTalrwPwublYy2T/A/e5CDH5qC8D95HobUWzvwP+ABAK+HGe8/ZDPyyFEdlr+XivfZhmrwP8xrcZ/KgvA/akuEOis5pr/Qdcj9bX2gPxxOZl07EPA/bMvuSSNypr9IEKS1RmicP/CbezSg03q/4Xs1ITB87z/qHDnq9gPwP7LwkvAi9qQ/zaKoXdBU8D+AlXEjt35jvzp7O07J0ZW/ht4Pv1Ro7j/30zag8Q3wPwYxXHmte/A/V5snNGKzm7/8v96yHsWWP6YcgC4hQ/A/+dNB8h2r7j/9BXtGbtfvP+f4WQbbfu8/rkwjq6C28D+JIKQHnhzvPzGWPJkBXPA/GkOelICa8D+0VtUawiGDv5Kyx6NTVfA/dKT35yVhnT+0ONgNXveXvw==",
        "encoding": "base64",
        "path": [
         "_data",
         0,
         "dimensions",
         3,
         "values",
         "value"
        ]
       },
       {
        "data": "uAsMHAwQT0AKSNR5jEVQQPZAm6BQVE5AjOh3X6jtUEDv6eRuAaJOQPcAIjgCDlFAVEodKaTZUEDnpDq4NkxOQINL3yxSE1BAAAAAAABAUUD//////0dOQEKZj5wi/lBAy+aPwTRZT0D3cFNLo3tPQDfS1lHKAE9A49RcV3i5T0AuXFuodM1OQAhJ5k1qck5AMQ2H2I2nUEDIQSXu9QFQQMMXFcu5nE9ALQ5zYo7XUEC6Uthq331QQHhkFblHiFBAtHRc9Tc4UUA//mL/Ev9OQGxIv/06LFFAyODUHKWvUEBjRscwRvRQQPMHEkpDJlFA0rgMYaHRUEC7dYR7Q8FQQN+9iJLEAVFAR0Z89O0WUUAVQDC0PB9RQEDRC8vpMlFACAu5Sj7lUEANEcv4zGVQQOS5KJ/VP1FA8G2z/ue/TkD34mHAXoFQQKJHkBlcalBA6taWAoRzUEAOzuzzn4xPQGp0uIx4e05AH7MRGzicUECo6Ql0CulOQMlfvlnHNE9AaggrLpGyT0BeMa19MGJOQA==",
        "encoding": "base64",
        "path": [
         "_data",
         0,
         "dimensions",
         4,
         "values",
         "value"
        ]
       },
       {
        "data": "QKKfH59/G0DA/nbFcE4PQCj8kn29riBAAN0FIuiV9D+IsNiI9O8eQICE/+7j/ug/AGutuPWW+T9kbBUfJc8gQNBHCzLdyhJAAAAAAAAAAAAEAAAAAOAgQICvGdxYd/A/qMmA81k2GUBIeGSl5SIYQEhuSXGt+RtA6FgZRT00FkCQHiW9WpQdQODbZshWNiBA4Fke70QOA0CA46sdoeATQOhBV6cxGhdAwHQ8Y2cc+j/AqPWkEkQIQABxU90I9wZAADAtjiogvz8IDugEaAccQACUt0ACxdM/AOdjZVwLAkBAZy7Oc+7yPwAN+O21vNk/gMvRvKeX+z9AkeIeIa//P4AQobu2He8/gNzcwQWJ5D+A9d/npWHgPwCAXehpLMo/AD69UW2w9j9g3p3mYEYLQAAADqNrMGU/gJBkCsAAHkAgocPzJ9QHQMAL9818tApAwCIlrX+PCUCQj5lgAJsXQFguHs0dEiBAIJzJnfx4BEDAsrBfrLccQLgBDTLFWRpAsLynjnZrFkCIOksJPncgQA==",
        "encoding": "base64",
        "path": [
         "_data",
         0,
         "dimensions",
         5,
         "values",
         "value"
        ]
       },
       {
        "data": "QKKfH59/G0DB/nbFcE4PQCj8kn29riBAAN0FIuiV9D+IsNiI9O8eQICE/+7j/ug/AGutuPWW+T9kbBUfJc8gQNBHCzLdyhJAAAAAAAAAAAAEAAAAAOAgQICvGdxYd/A/qcmA81k2GUBJeGSl5SIYQEhuSXGt+RtA6FgZRT00FkCQHiW9WpQdQODbZshWNiBA4Fke70QOA0CA46sdoeATQOhBV6cxGhdAwXQ8Y2cc+j/AqPWkEkQIQABxU90I9wZAADAtjiogvz8IDugEaAccQACUt0ACxdM/AOdjZVwLAkBAZy7Oc+7yPwAN+O21vNk/gMvRvKeX+z9BkeIeIa//P38Qobu2He8/gNzcwQWJ5D+A9d/npWHgPwCAXehpLMo/AD69UW2w9j9g3p3mYEYLQAAADqNrMGU/gJBkCsAAHkAgocPzJ9QHQMAL9818tApAwCIlrX+PCUCQj5lgAJsXQFguHs0dEiBAIJzJnfx4BEDBsrBfrLccQLkBDTLFWRpAsLynjnZrFkCIOksJPncgQA==",
        "encoding": "base64",
        "path": [
         "_data",
         0,
         "dimensions",
         6,
         "values",
         "value"
        ]
       },
       {
        "data": "9dQWw67+WcA9JQLKHZpBwFjnLakuYWzAJ5+EFWZ9IcC1HI9tMDhjwDrrY3msTRTAN3Bb/GxhJsA9cVnomfBtwECRWO4HgUfAAAAAAAAAAADBK+rqEtZuwBxJfEXOVhvAaEFPp1fZVMCYQqHAL+RSwCTn7vp4S1vA1yM24pXKT8DGLWYUNUJgwJulYVZd52fAZECOl9v/McB2g/hnCuNJwHpDKEUuN1HA3rTrzyDoJsDOKzOinZM4wG5IeTlR2DbA4Xnxtdvq57+WmgWje3JbwDa//r7d2v6/n7dGwFzTMMB44l6fZ94fwAcEVaO+PQTAgHH8ppBrKMDqDSo4gL4swM7mwzKgsxnA0YkMYit7EMDDEFZjfwEKwJAt7D/RP/S/TJKEntaCI8AI70KMK9c8wIvDCrUUIJC/yLoH7O0WYcD1CFpt0vw3wI6s/BLnADzA2Q5Z6HNdOsBh088ZIgJSwJAiCBFQ12bAcUqLBHKyM8DYdLZRLoddwO82bToMN1fAZ436e8QzUMDMV2nlGhpqwA==",
        "encoding": "base64",
        "path": [
         "_data",
         0,
         "dimensions",
         7,
         "values",
         "value"
        ]
       },
       {
        "data": "Gc8Qtai2W0AplVnWBI9DQBoXB4EabG1Ax1rFGSMQJEA54tURsC9kQMrbQ/eIbRdAlx1xs0uUKUADyEo6jP1uQDr6mZRj2klAAAAAAAAAAADBK+rqEuRvQPy0gnykdB9AA06HRr1sVkAdivcaXmZUQAl+A9ITC11AeqdsxY5IUUC7Vk/q1y5hQFkT6MLC6mhAoAtyNaRhNEDm/62LHl9MQJi3nV/RqFJAdkNTvK0rKkDm4NH2H5w7QI62I1UytzlA4R+3B+HO6z93G1Qj8jJdQBtSlicP5gFAfzTzTMgUM0AkPnVJAk0iQKcFFGFVdQdA8KqWnoXeK0AJMAMuMlowQN4IOApXlx1AYSVIGkwME0AjDk7d6BkOQJDd93xehfc/DDq8SORYJkBqVYvU+x9AQIuDbCkixpI/TN9a7PMGYkAZfdJrV/c6QAaOu6x2Vz9AMbP93WOPPUBabNkf0ntTQHUF2u1x2GdA9X1EmJFBNkAEgLEXqVJfQAsHjo2o3FhAMgnl5HuaUUB0C/7FjiFrQA==",
        "encoding": "base64",
        "path": [
         "_data",
         0,
         "dimensions",
         8,
         "values",
         "value"
        ]
       },
       {
        "data": "JcHFaam5RUBh7yJhOqouQB/ACZWVEFdAfGvDVKp0D0Bc7p/DIaZPQEJvfgyaXQJAGL0S+VoNFECIs8cQSUtYQH4Px5RNRDRAAAAAAAAAAAAAAAAAAABZQNnEMX6lqAhAr0B3PEuUQUD4PZ2C3Ps/QNfYn/uFxEZAgxHP8wQZO0AKFH4OtPBKQAW6oAF0iFNAPMaNlHP0H0CfmsO4uD02QP98Bf9OQT1A9uJ9IAeEFECRXBRu3KQlQDyAxge3KCRAiEke/KXM1T9rAYTxxuNGQByfSg31D+w/mXijipTqHUBhHHTOXbEMQGJA8xS3Y/I/QF6dRenYFUCe6jIkTqMZQNDocXR6MgdAUK9f30bd/T9Wl7C01Zj3P2w1IitJcOI/mE4sIryEEUDXnFySCUgpQABeuVZFb30/gzpngodDTEBXuB8GryMlQMpym73FkShAqgGWCT8sJ0C5hnTfIIw+QIbJ1zBpsVJAXhKhk3NyIUD8gfzXAY5IQJfpH+JlfUNAghRSjXeZO0DJOB0mx0RVQA==",
        "encoding": "base64",
        "path": [
         "_data",
         0,
         "line",
         "color",
         "value"
        ]
       }
      ],
      "model_module": "plotlywidget",
      "model_module_version": "^1.1.1",
      "model_name": "FigureModel",
      "state": {
       "_config": {
        "plotlyServerURL": "https://plot.ly"
       },
       "_data": [
        {
         "dimensions": [
          {
           "label": "(L) expand_capacity",
           "name": "expand_capacity",
           "range": [
            0,
            100
           ],
           "values": {
            "dtype": "float64",
            "shape": [
             50
            ]
           }
          },
          {
           "label": "(L) amortization_period",
           "name": "amortization_period",
           "range": [
            50,
            50
           ],
           "values": [
            50,
            50,
            50,
            50,
            50,
            50,
            50,
            50,
            50,
            50,
            50,
            50,
            50,
            50,
            50,
            50,
            50,
            50,
            50,
            50,
            50,
            50,
            50,
            50,
            50,
            50,
            50,
            50,
            50,
            50,
            50,
            50,
            50,
            50,
            50,
            50,
            50,
            50,
            50,
            50,
            50,
            50,
            50,
            50,
            50,
            50,
            50,
            50,
            50,
            50
           ]
          },
          {
           "label": "(L) debt_type",
           "name": "debt_type",
           "range": [
            -0.1,
            2.1
           ],
           "ticktext": [
            "",
            "GO Bond",
            "Rev Bond",
            "Paygo",
            ""
           ],
           "tickvals": [
            -0.1,
            0,
            1,
            2,
            2.1
           ],
           "values": {
            "dtype": "float64",
            "shape": [
             50
            ]
           }
          },
          {
           "label": "(L) interest_rate_lock",
           "name": "interest_rate_lock",
           "range": [
            -0.1,
            1.1
           ],
           "ticktext": [
            "",
            "False",
            "True",
            ""
           ],
           "tickvals": [
            -0.1,
            0,
            1,
            1.1
           ],
           "values": {
            "dtype": "float64",
            "shape": [
             50
            ]
           }
          },
          {
           "label": "(M-) build_travel_time",
           "name": "build_travel_time",
           "range": [
            69,
            60.56249999999999
           ],
           "values": {
            "dtype": "float64",
            "shape": [
             50
            ]
           }
          },
          {
           "label": "(M+) time_savings",
           "name": "time_savings",
           "range": [
            0,
            8.437500000000007
           ],
           "values": {
            "dtype": "float64",
            "shape": [
             50
            ]
           }
          },
          {
           "label": "(M+)<br>   value_of_time_savings",
           "name": "value_of_time_savings",
           "range": [
            0,
            8.437500000000007
           ],
           "values": {
            "dtype": "float64",
            "shape": [
             50
            ]
           }
          },
          {
           "label": "(M+) net_benefits",
           "name": "net_benefits",
           "range": [
            -246.68980928169734,
            0
           ],
           "values": {
            "dtype": "float64",
            "shape": [
             50
            ]
           }
          },
          {
           "label": "(M-) cost_of_capacity_ex<br>   pansion",
           "name": "cost_of_capacity_expansion",
           "range": [
            255.12730928169734,
            0
           ],
           "values": {
            "dtype": "float64",
            "shape": [
             50
            ]
           }
          }
         ],
         "domain": {
          "y": [
           0,
           0.7
          ]
         },
         "labelangle": -90,
         "labelfont": {
          "color": "#AA0000"
         },
         "line": {
          "cmax": 100,
          "cmin": 0,
          "color": {
           "dtype": "float64",
           "shape": [
            50
           ]
          },
          "colorbar": {
           "title": {
            "side": "right",
            "text": "expand_capacity"
           }
          },
          "colorscale": [
           [
            0,
            "#440154"
           ],
           [
            0.1111111111111111,
            "#482878"
           ],
           [
            0.2222222222222222,
            "#3e4989"
           ],
           [
            0.3333333333333333,
            "#31688e"
           ],
           [
            0.4444444444444444,
            "#26828e"
           ],
           [
            0.5555555555555556,
            "#1f9e89"
           ],
           [
            0.6666666666666666,
            "#35b779"
           ],
           [
            0.7777777777777778,
            "#6ece58"
           ],
           [
            0.8888888888888888,
            "#b5de2b"
           ],
           [
            1,
            "#fde725"
           ]
          ],
          "reversescale": true,
          "showscale": true
         },
         "type": "parcoords",
         "uid": "f92d4485-db87-416a-bad9-b6ac5296001f"
        }
       ],
       "_js2py_pointsCallback": {},
       "_js2py_restyle": {},
       "_js2py_update": {},
       "_last_layout_edit_id": 1,
       "_layout": {
        "autosize": true,
        "template": {
         "data": {
          "bar": [
           {
            "error_x": {
             "color": "#2a3f5f"
            },
            "error_y": {
             "color": "#2a3f5f"
            },
            "marker": {
             "line": {
              "color": "#E5ECF6",
              "width": 0.5
             }
            },
            "type": "bar"
           }
          ],
          "barpolar": [
           {
            "marker": {
             "line": {
              "color": "#E5ECF6",
              "width": 0.5
             }
            },
            "type": "barpolar"
           }
          ],
          "carpet": [
           {
            "aaxis": {
             "endlinecolor": "#2a3f5f",
             "gridcolor": "white",
             "linecolor": "white",
             "minorgridcolor": "white",
             "startlinecolor": "#2a3f5f"
            },
            "baxis": {
             "endlinecolor": "#2a3f5f",
             "gridcolor": "white",
             "linecolor": "white",
             "minorgridcolor": "white",
             "startlinecolor": "#2a3f5f"
            },
            "type": "carpet"
           }
          ],
          "choropleth": [
           {
            "colorbar": {
             "outlinewidth": 0,
             "ticks": ""
            },
            "type": "choropleth"
           }
          ],
          "contour": [
           {
            "colorbar": {
             "outlinewidth": 0,
             "ticks": ""
            },
            "colorscale": [
             [
              0,
              "#0d0887"
             ],
             [
              0.1111111111111111,
              "#46039f"
             ],
             [
              0.2222222222222222,
              "#7201a8"
             ],
             [
              0.3333333333333333,
              "#9c179e"
             ],
             [
              0.4444444444444444,
              "#bd3786"
             ],
             [
              0.5555555555555556,
              "#d8576b"
             ],
             [
              0.6666666666666666,
              "#ed7953"
             ],
             [
              0.7777777777777778,
              "#fb9f3a"
             ],
             [
              0.8888888888888888,
              "#fdca26"
             ],
             [
              1,
              "#f0f921"
             ]
            ],
            "type": "contour"
           }
          ],
          "contourcarpet": [
           {
            "colorbar": {
             "outlinewidth": 0,
             "ticks": ""
            },
            "type": "contourcarpet"
           }
          ],
          "heatmap": [
           {
            "colorbar": {
             "outlinewidth": 0,
             "ticks": ""
            },
            "colorscale": [
             [
              0,
              "#0d0887"
             ],
             [
              0.1111111111111111,
              "#46039f"
             ],
             [
              0.2222222222222222,
              "#7201a8"
             ],
             [
              0.3333333333333333,
              "#9c179e"
             ],
             [
              0.4444444444444444,
              "#bd3786"
             ],
             [
              0.5555555555555556,
              "#d8576b"
             ],
             [
              0.6666666666666666,
              "#ed7953"
             ],
             [
              0.7777777777777778,
              "#fb9f3a"
             ],
             [
              0.8888888888888888,
              "#fdca26"
             ],
             [
              1,
              "#f0f921"
             ]
            ],
            "type": "heatmap"
           }
          ],
          "heatmapgl": [
           {
            "colorbar": {
             "outlinewidth": 0,
             "ticks": ""
            },
            "colorscale": [
             [
              0,
              "#0d0887"
             ],
             [
              0.1111111111111111,
              "#46039f"
             ],
             [
              0.2222222222222222,
              "#7201a8"
             ],
             [
              0.3333333333333333,
              "#9c179e"
             ],
             [
              0.4444444444444444,
              "#bd3786"
             ],
             [
              0.5555555555555556,
              "#d8576b"
             ],
             [
              0.6666666666666666,
              "#ed7953"
             ],
             [
              0.7777777777777778,
              "#fb9f3a"
             ],
             [
              0.8888888888888888,
              "#fdca26"
             ],
             [
              1,
              "#f0f921"
             ]
            ],
            "type": "heatmapgl"
           }
          ],
          "histogram": [
           {
            "marker": {
             "colorbar": {
              "outlinewidth": 0,
              "ticks": ""
             }
            },
            "type": "histogram"
           }
          ],
          "histogram2d": [
           {
            "colorbar": {
             "outlinewidth": 0,
             "ticks": ""
            },
            "colorscale": [
             [
              0,
              "#0d0887"
             ],
             [
              0.1111111111111111,
              "#46039f"
             ],
             [
              0.2222222222222222,
              "#7201a8"
             ],
             [
              0.3333333333333333,
              "#9c179e"
             ],
             [
              0.4444444444444444,
              "#bd3786"
             ],
             [
              0.5555555555555556,
              "#d8576b"
             ],
             [
              0.6666666666666666,
              "#ed7953"
             ],
             [
              0.7777777777777778,
              "#fb9f3a"
             ],
             [
              0.8888888888888888,
              "#fdca26"
             ],
             [
              1,
              "#f0f921"
             ]
            ],
            "type": "histogram2d"
           }
          ],
          "histogram2dcontour": [
           {
            "colorbar": {
             "outlinewidth": 0,
             "ticks": ""
            },
            "colorscale": [
             [
              0,
              "#0d0887"
             ],
             [
              0.1111111111111111,
              "#46039f"
             ],
             [
              0.2222222222222222,
              "#7201a8"
             ],
             [
              0.3333333333333333,
              "#9c179e"
             ],
             [
              0.4444444444444444,
              "#bd3786"
             ],
             [
              0.5555555555555556,
              "#d8576b"
             ],
             [
              0.6666666666666666,
              "#ed7953"
             ],
             [
              0.7777777777777778,
              "#fb9f3a"
             ],
             [
              0.8888888888888888,
              "#fdca26"
             ],
             [
              1,
              "#f0f921"
             ]
            ],
            "type": "histogram2dcontour"
           }
          ],
          "mesh3d": [
           {
            "colorbar": {
             "outlinewidth": 0,
             "ticks": ""
            },
            "type": "mesh3d"
           }
          ],
          "parcoords": [
           {
            "line": {
             "colorbar": {
              "outlinewidth": 0,
              "ticks": ""
             }
            },
            "type": "parcoords"
           }
          ],
          "scatter": [
           {
            "marker": {
             "colorbar": {
              "outlinewidth": 0,
              "ticks": ""
             }
            },
            "type": "scatter"
           }
          ],
          "scatter3d": [
           {
            "line": {
             "colorbar": {
              "outlinewidth": 0,
              "ticks": ""
             }
            },
            "marker": {
             "colorbar": {
              "outlinewidth": 0,
              "ticks": ""
             }
            },
            "type": "scatter3d"
           }
          ],
          "scattercarpet": [
           {
            "marker": {
             "colorbar": {
              "outlinewidth": 0,
              "ticks": ""
             }
            },
            "type": "scattercarpet"
           }
          ],
          "scattergeo": [
           {
            "marker": {
             "colorbar": {
              "outlinewidth": 0,
              "ticks": ""
             }
            },
            "type": "scattergeo"
           }
          ],
          "scattergl": [
           {
            "marker": {
             "colorbar": {
              "outlinewidth": 0,
              "ticks": ""
             }
            },
            "type": "scattergl"
           }
          ],
          "scattermapbox": [
           {
            "marker": {
             "colorbar": {
              "outlinewidth": 0,
              "ticks": ""
             }
            },
            "type": "scattermapbox"
           }
          ],
          "scatterpolar": [
           {
            "marker": {
             "colorbar": {
              "outlinewidth": 0,
              "ticks": ""
             }
            },
            "type": "scatterpolar"
           }
          ],
          "scatterpolargl": [
           {
            "marker": {
             "colorbar": {
              "outlinewidth": 0,
              "ticks": ""
             }
            },
            "type": "scatterpolargl"
           }
          ],
          "scatterternary": [
           {
            "marker": {
             "colorbar": {
              "outlinewidth": 0,
              "ticks": ""
             }
            },
            "type": "scatterternary"
           }
          ],
          "surface": [
           {
            "colorbar": {
             "outlinewidth": 0,
             "ticks": ""
            },
            "colorscale": [
             [
              0,
              "#0d0887"
             ],
             [
              0.1111111111111111,
              "#46039f"
             ],
             [
              0.2222222222222222,
              "#7201a8"
             ],
             [
              0.3333333333333333,
              "#9c179e"
             ],
             [
              0.4444444444444444,
              "#bd3786"
             ],
             [
              0.5555555555555556,
              "#d8576b"
             ],
             [
              0.6666666666666666,
              "#ed7953"
             ],
             [
              0.7777777777777778,
              "#fb9f3a"
             ],
             [
              0.8888888888888888,
              "#fdca26"
             ],
             [
              1,
              "#f0f921"
             ]
            ],
            "type": "surface"
           }
          ],
          "table": [
           {
            "cells": {
             "fill": {
              "color": "#EBF0F8"
             },
             "line": {
              "color": "white"
             }
            },
            "header": {
             "fill": {
              "color": "#C8D4E3"
             },
             "line": {
              "color": "white"
             }
            },
            "type": "table"
           }
          ]
         },
         "layout": {
          "annotationdefaults": {
           "arrowcolor": "#2a3f5f",
           "arrowhead": 0,
           "arrowwidth": 1
          },
          "colorscale": {
           "diverging": [
            [
             0,
             "#8e0152"
            ],
            [
             0.1,
             "#c51b7d"
            ],
            [
             0.2,
             "#de77ae"
            ],
            [
             0.3,
             "#f1b6da"
            ],
            [
             0.4,
             "#fde0ef"
            ],
            [
             0.5,
             "#f7f7f7"
            ],
            [
             0.6,
             "#e6f5d0"
            ],
            [
             0.7,
             "#b8e186"
            ],
            [
             0.8,
             "#7fbc41"
            ],
            [
             0.9,
             "#4d9221"
            ],
            [
             1,
             "#276419"
            ]
           ],
           "sequential": [
            [
             0,
             "#0d0887"
            ],
            [
             0.1111111111111111,
             "#46039f"
            ],
            [
             0.2222222222222222,
             "#7201a8"
            ],
            [
             0.3333333333333333,
             "#9c179e"
            ],
            [
             0.4444444444444444,
             "#bd3786"
            ],
            [
             0.5555555555555556,
             "#d8576b"
            ],
            [
             0.6666666666666666,
             "#ed7953"
            ],
            [
             0.7777777777777778,
             "#fb9f3a"
            ],
            [
             0.8888888888888888,
             "#fdca26"
            ],
            [
             1,
             "#f0f921"
            ]
           ],
           "sequentialminus": [
            [
             0,
             "#0d0887"
            ],
            [
             0.1111111111111111,
             "#46039f"
            ],
            [
             0.2222222222222222,
             "#7201a8"
            ],
            [
             0.3333333333333333,
             "#9c179e"
            ],
            [
             0.4444444444444444,
             "#bd3786"
            ],
            [
             0.5555555555555556,
             "#d8576b"
            ],
            [
             0.6666666666666666,
             "#ed7953"
            ],
            [
             0.7777777777777778,
             "#fb9f3a"
            ],
            [
             0.8888888888888888,
             "#fdca26"
            ],
            [
             1,
             "#f0f921"
            ]
           ]
          },
          "colorway": [
           "#636efa",
           "#EF553B",
           "#00cc96",
           "#ab63fa",
           "#FFA15A",
           "#19d3f3",
           "#FF6692",
           "#B6E880",
           "#FF97FF",
           "#FECB52"
          ],
          "font": {
           "color": "#2a3f5f"
          },
          "geo": {
           "bgcolor": "white",
           "lakecolor": "white",
           "landcolor": "#E5ECF6",
           "showlakes": true,
           "showland": true,
           "subunitcolor": "white"
          },
          "hoverlabel": {
           "align": "left"
          },
          "hovermode": "closest",
          "mapbox": {
           "style": "light"
          },
          "paper_bgcolor": "white",
          "plot_bgcolor": "#E5ECF6",
          "polar": {
           "angularaxis": {
            "gridcolor": "white",
            "linecolor": "white",
            "ticks": ""
           },
           "bgcolor": "#E5ECF6",
           "radialaxis": {
            "gridcolor": "white",
            "linecolor": "white",
            "ticks": ""
           }
          },
          "scene": {
           "xaxis": {
            "backgroundcolor": "#E5ECF6",
            "gridcolor": "white",
            "gridwidth": 2,
            "linecolor": "white",
            "showbackground": true,
            "ticks": "",
            "zerolinecolor": "white"
           },
           "yaxis": {
            "backgroundcolor": "#E5ECF6",
            "gridcolor": "white",
            "gridwidth": 2,
            "linecolor": "white",
            "showbackground": true,
            "ticks": "",
            "zerolinecolor": "white"
           },
           "zaxis": {
            "backgroundcolor": "#E5ECF6",
            "gridcolor": "white",
            "gridwidth": 2,
            "linecolor": "white",
            "showbackground": true,
            "ticks": "",
            "zerolinecolor": "white"
           }
          },
          "shapedefaults": {
           "line": {
            "color": "#2a3f5f"
           }
          },
          "ternary": {
           "aaxis": {
            "gridcolor": "white",
            "linecolor": "white",
            "ticks": ""
           },
           "baxis": {
            "gridcolor": "white",
            "linecolor": "white",
            "ticks": ""
           },
           "bgcolor": "#E5ECF6",
           "caxis": {
            "gridcolor": "white",
            "linecolor": "white",
            "ticks": ""
           }
          },
          "title": {
           "x": 0.05
          },
          "xaxis": {
           "automargin": true,
           "gridcolor": "white",
           "linecolor": "white",
           "ticks": "",
           "zerolinecolor": "white",
           "zerolinewidth": 2
          },
          "yaxis": {
           "automargin": true,
           "gridcolor": "white",
           "linecolor": "white",
           "ticks": "",
           "zerolinecolor": "white",
           "zerolinewidth": 2
          }
         }
        }
       },
       "_py2js_addTraces": {},
       "_py2js_animate": {},
       "_py2js_deleteTraces": {},
       "_py2js_moveTraces": {},
       "_py2js_removeLayoutProps": {},
       "_py2js_removeTraceProps": {},
       "_py2js_restyle": {},
       "_py2js_update": {},
       "_view_count": 1
      }
     },
     "550185d10b75431bab75b5378da3a148": {
      "model_module": "@jupyter-widgets/base",
      "model_module_version": "1.2.0",
      "model_name": "LayoutModel",
      "state": {}
     },
     "5879935065c74d4c9a4c0763d54edac1": {
      "model_module": "@jupyter-widgets/base",
      "model_module_version": "1.2.0",
      "model_name": "LayoutModel",
      "state": {
       "flex_flow": "row wrap"
      }
     },
     "6010c779ff3b4f349672414bb06131ea": {
      "model_module": "@jupyter-widgets/controls",
      "model_module_version": "1.5.0",
      "model_name": "DescriptionStyleModel",
      "state": {
       "description_width": ""
      }
     },
     "65d743aa54a544e8bc12867f2d2c6b60": {
      "model_module": "@jupyter-widgets/controls",
      "model_module_version": "1.5.0",
      "model_name": "CheckboxModel",
      "state": {
       "description": "(X) unit_cost_expansion",
       "description_tooltip": "unit_cost_expansion",
       "disabled": false,
       "layout": "IPY_MODEL_1c8d41e8249345658be212ffc20c2e99",
       "name": "unit_cost_expansion",
       "style": "IPY_MODEL_f2e9bc41222a42268a2107421caee222",
       "value": true
      }
     },
     "69d11761a95c4956922887f4d0d28486": {
      "model_module": "@jupyter-widgets/controls",
      "model_module_version": "1.5.0",
      "model_name": "DescriptionStyleModel",
      "state": {
       "description_width": ""
      }
     },
     "6a8f8fdc6c0948809b79a5b95f540ec0": {
      "model_module": "@jupyter-widgets/base",
      "model_module_version": "1.2.0",
      "model_name": "LayoutModel",
      "state": {}
     },
     "6bde345ba8364f889a9898fb8a350e0b": {
      "model_module": "@jupyter-widgets/controls",
      "model_module_version": "1.5.0",
      "model_name": "HTMLModel",
      "state": {
       "layout": "IPY_MODEL_e3e270e654fe4408929357054ce635b5",
       "style": "IPY_MODEL_6010c779ff3b4f349672414bb06131ea",
       "value": "\n\t\t\t(M-) Performance Measure to Minimize<br>\n\t\t\t(M+) Performance Measure to Maximize<br>\n\t\t\t(M) Performance Measure without preferred direction<br>\n\t\t\t(L) Policy Lever<br>\n\t\t\t(X) Exogenous Uncertainty\n\t\t"
      }
     },
     "7094dbd1068445bca8b89150d9149801": {
      "model_module": "@jupyter-widgets/controls",
      "model_module_version": "1.5.0",
      "model_name": "DescriptionStyleModel",
      "state": {
       "description_width": ""
      }
     },
     "75e0a587f4c34029bcf734289b31de2f": {
      "model_module": "@jupyter-widgets/output",
      "model_module_version": "1.0.0",
      "model_name": "OutputModel",
      "state": {
       "layout": "IPY_MODEL_ff376203138546ea830ae9ebcb7ddad7"
      }
     },
     "7aae7560f3db44e2bb920d14cdb77a5d": {
      "model_module": "@jupyter-widgets/base",
      "model_module_version": "1.2.0",
      "model_name": "LayoutModel",
      "state": {}
     },
     "7cebd14611754039985a23682007d7f0": {
      "model_module": "@jupyter-widgets/controls",
      "model_module_version": "1.5.0",
      "model_name": "DescriptionStyleModel",
      "state": {
       "description_width": ""
      }
     },
     "7e7f006f176f40efaa2576db3f4d42f3": {
      "model_module": "@jupyter-widgets/base",
      "model_module_version": "1.2.0",
      "model_name": "LayoutModel",
      "state": {
       "flex_flow": "row wrap"
      }
     },
     "7f2b12c878ba4240ad3c8f95b862625c": {
      "model_module": "@jupyter-widgets/controls",
      "model_module_version": "1.5.0",
      "model_name": "CheckboxModel",
      "state": {
       "description": "(M+) value_of_time_savings",
       "description_tooltip": "value_of_time_savings",
       "disabled": false,
       "layout": "IPY_MODEL_31ac1e0f75e84a9cb55d9f06e7de8f6b",
       "name": "value_of_time_savings",
       "style": "IPY_MODEL_7094dbd1068445bca8b89150d9149801",
       "value": true
      }
     },
     "8101b23104aa4e9d89fb4fd5a33dfa1d": {
      "model_module": "@jupyter-widgets/controls",
      "model_module_version": "1.5.0",
      "model_name": "DescriptionStyleModel",
      "state": {
       "description_width": ""
      }
     },
     "84d67fc0813a476c97f8282293038003": {
      "model_module": "@jupyter-widgets/controls",
      "model_module_version": "1.5.0",
      "model_name": "BoxModel",
      "state": {
       "children": [
        "IPY_MODEL_e4b4d93787754183aec59fc553b41376",
        "IPY_MODEL_1bbc8660d6a64e0b8a68be171ef94a6e",
        "IPY_MODEL_1c918f3633d140e5b4df6dcab757a042",
        "IPY_MODEL_fd976fbe10a64c2aabf9115ca74f1877",
        "IPY_MODEL_65d743aa54a544e8bc12867f2d2c6b60",
        "IPY_MODEL_f885df0b03e24d8d837f531c2df4acf2",
        "IPY_MODEL_4dc1535f22944888b8850e918f50768f",
        "IPY_MODEL_ce8f29beb8024ab39860346159c68b64",
        "IPY_MODEL_1e29b9ed0f484b38a878b9c93305fff5",
        "IPY_MODEL_7f2b12c878ba4240ad3c8f95b862625c",
        "IPY_MODEL_38306834adfb4eadb742c647d4b6148b",
        "IPY_MODEL_43297ecd4527496e8639951688d21064"
       ],
       "layout": "IPY_MODEL_7e7f006f176f40efaa2576db3f4d42f3"
      }
     },
     "8a7f5001d17a43d0aaa8cf6409f29e3e": {
      "model_module": "@jupyter-widgets/base",
      "model_module_version": "1.2.0",
      "model_name": "LayoutModel",
      "state": {}
     },
     "906fd22189184d339893b2e682d8acd8": {
      "model_module": "@jupyter-widgets/controls",
      "model_module_version": "1.5.0",
      "model_name": "DescriptionStyleModel",
      "state": {
       "description_width": ""
      }
     },
     "923f85216de548e986c9962124a4a028": {
      "model_module": "@jupyter-widgets/base",
      "model_module_version": "1.2.0",
      "model_name": "LayoutModel",
      "state": {}
     },
     "9309833232da47a5886d36573273d715": {
      "model_module": "@jupyter-widgets/controls",
      "model_module_version": "1.5.0",
      "model_name": "DescriptionStyleModel",
      "state": {
       "description_width": ""
      }
     },
     "931828d2c64f44e9817e7ac44010a742": {
      "model_module": "@jupyter-widgets/controls",
      "model_module_version": "1.5.0",
      "model_name": "VBoxModel",
      "state": {
       "children": [
        "IPY_MODEL_303b9f1f22944058aa8eca33516ace72",
        "IPY_MODEL_24713e961be942e9ae0cad43cd47343b",
        "IPY_MODEL_84d67fc0813a476c97f8282293038003",
        "IPY_MODEL_6bde345ba8364f889a9898fb8a350e0b"
       ],
       "layout": "IPY_MODEL_49150b188ac54a959f44a0acb64d9505"
      }
     },
     "963f67577cb4420a9951a9d2f57a380d": {
      "model_module": "@jupyter-widgets/controls",
      "model_module_version": "1.5.0",
      "model_name": "DescriptionStyleModel",
      "state": {
       "description_width": ""
      }
     },
     "987efc8fbaa44102bb47cb327df10857": {
      "model_module": "@jupyter-widgets/controls",
      "model_module_version": "1.5.0",
      "model_name": "DescriptionStyleModel",
      "state": {
       "description_width": ""
      }
     },
     "98d2f2f6e95845c1ba839f78841fcfd0": {
      "model_module": "plotlywidget",
      "model_module_version": "^1.1.1",
      "model_name": "FigureModel",
      "state": {
       "_config": {
        "plotlyServerURL": "https://plot.ly"
       },
       "_data": [
        {
         "fill": "tonexty",
         "line": {
          "shape": "linear"
         },
         "mode": "lines+markers",
         "name": "",
         "type": "scatter",
         "uid": "172252ed-0282-4ba9-b2c4-dcecf765acd7",
         "x": [
          0,
          100,
          200,
          300,
          400,
          500,
          600,
          700,
          800,
          900,
          1000,
          1100,
          1200,
          1300,
          1400,
          1500,
          1600,
          1700,
          1800,
          1900,
          2000,
          2100,
          2200,
          2300,
          2400,
          2500,
          2600,
          2700,
          2800,
          2900,
          3000,
          3100,
          3200,
          3300,
          3400,
          3500,
          3600,
          3700,
          3800,
          3900,
          4000,
          4100,
          4200,
          4300,
          4400,
          4500,
          4600,
          4700,
          4800,
          4900,
          5000,
          5100,
          5200,
          5300,
          5400,
          5500,
          5600,
          5700,
          5800,
          5900,
          6000,
          6100,
          6200,
          6300,
          6400,
          6500,
          6600,
          6700,
          6800,
          6900,
          7000,
          7100,
          7200,
          7300,
          7400,
          7500,
          7600,
          7700,
          7800,
          7900,
          8000,
          8100,
          8200,
          8300,
          8400,
          8500,
          8600,
          8700,
          8800,
          8900,
          9000,
          9100,
          9200,
          9300,
          9400,
          9500,
          9600,
          9700,
          9800,
          9900,
          10000
         ],
         "y": [
          0,
          17,
          19,
          28,
          30,
          30,
          30,
          31,
          32,
          33,
          33,
          33,
          34,
          34,
          35,
          36,
          37,
          39,
          40,
          40,
          39,
          39,
          39,
          39,
          39,
          40,
          40,
          40,
          40,
          40,
          40,
          40,
          40,
          40,
          40,
          41,
          41,
          41,
          41,
          41,
          41,
          41,
          41,
          41,
          41,
          42,
          42,
          42,
          42,
          42,
          42,
          42,
          42,
          42,
          42,
          42,
          42,
          42,
          42,
          42,
          43,
          43,
          43,
          43,
          43,
          43,
          43,
          43,
          43,
          43,
          43,
          43,
          43,
          43,
          43,
          43,
          43,
          43,
          43,
          43,
          43,
          43,
          43,
          43,
          43,
          43,
          43,
          43,
          43,
          43,
          43,
          43,
          43,
          43,
          43,
          43,
          43,
          43,
          43,
          43,
          43
         ]
        }
       ],
       "_js2py_pointsCallback": {},
       "_js2py_relayout": {},
       "_js2py_restyle": {},
       "_js2py_update": {},
       "_last_layout_edit_id": 4,
       "_last_trace_edit_id": 1,
       "_layout": {
        "height": 240,
        "hovermode": "closest",
        "margin": {
         "b": 15,
         "l": 15,
         "r": 15,
         "t": 40
        },
        "showlegend": false,
        "template": {
         "data": {
          "bar": [
           {
            "error_x": {
             "color": "#2a3f5f"
            },
            "error_y": {
             "color": "#2a3f5f"
            },
            "marker": {
             "line": {
              "color": "#E5ECF6",
              "width": 0.5
             }
            },
            "type": "bar"
           }
          ],
          "barpolar": [
           {
            "marker": {
             "line": {
              "color": "#E5ECF6",
              "width": 0.5
             }
            },
            "type": "barpolar"
           }
          ],
          "carpet": [
           {
            "aaxis": {
             "endlinecolor": "#2a3f5f",
             "gridcolor": "white",
             "linecolor": "white",
             "minorgridcolor": "white",
             "startlinecolor": "#2a3f5f"
            },
            "baxis": {
             "endlinecolor": "#2a3f5f",
             "gridcolor": "white",
             "linecolor": "white",
             "minorgridcolor": "white",
             "startlinecolor": "#2a3f5f"
            },
            "type": "carpet"
           }
          ],
          "choropleth": [
           {
            "colorbar": {
             "outlinewidth": 0,
             "ticks": ""
            },
            "type": "choropleth"
           }
          ],
          "contour": [
           {
            "colorbar": {
             "outlinewidth": 0,
             "ticks": ""
            },
            "colorscale": [
             [
              0,
              "#0d0887"
             ],
             [
              0.1111111111111111,
              "#46039f"
             ],
             [
              0.2222222222222222,
              "#7201a8"
             ],
             [
              0.3333333333333333,
              "#9c179e"
             ],
             [
              0.4444444444444444,
              "#bd3786"
             ],
             [
              0.5555555555555556,
              "#d8576b"
             ],
             [
              0.6666666666666666,
              "#ed7953"
             ],
             [
              0.7777777777777778,
              "#fb9f3a"
             ],
             [
              0.8888888888888888,
              "#fdca26"
             ],
             [
              1,
              "#f0f921"
             ]
            ],
            "type": "contour"
           }
          ],
          "contourcarpet": [
           {
            "colorbar": {
             "outlinewidth": 0,
             "ticks": ""
            },
            "type": "contourcarpet"
           }
          ],
          "heatmap": [
           {
            "colorbar": {
             "outlinewidth": 0,
             "ticks": ""
            },
            "colorscale": [
             [
              0,
              "#0d0887"
             ],
             [
              0.1111111111111111,
              "#46039f"
             ],
             [
              0.2222222222222222,
              "#7201a8"
             ],
             [
              0.3333333333333333,
              "#9c179e"
             ],
             [
              0.4444444444444444,
              "#bd3786"
             ],
             [
              0.5555555555555556,
              "#d8576b"
             ],
             [
              0.6666666666666666,
              "#ed7953"
             ],
             [
              0.7777777777777778,
              "#fb9f3a"
             ],
             [
              0.8888888888888888,
              "#fdca26"
             ],
             [
              1,
              "#f0f921"
             ]
            ],
            "type": "heatmap"
           }
          ],
          "heatmapgl": [
           {
            "colorbar": {
             "outlinewidth": 0,
             "ticks": ""
            },
            "colorscale": [
             [
              0,
              "#0d0887"
             ],
             [
              0.1111111111111111,
              "#46039f"
             ],
             [
              0.2222222222222222,
              "#7201a8"
             ],
             [
              0.3333333333333333,
              "#9c179e"
             ],
             [
              0.4444444444444444,
              "#bd3786"
             ],
             [
              0.5555555555555556,
              "#d8576b"
             ],
             [
              0.6666666666666666,
              "#ed7953"
             ],
             [
              0.7777777777777778,
              "#fb9f3a"
             ],
             [
              0.8888888888888888,
              "#fdca26"
             ],
             [
              1,
              "#f0f921"
             ]
            ],
            "type": "heatmapgl"
           }
          ],
          "histogram": [
           {
            "marker": {
             "colorbar": {
              "outlinewidth": 0,
              "ticks": ""
             }
            },
            "type": "histogram"
           }
          ],
          "histogram2d": [
           {
            "colorbar": {
             "outlinewidth": 0,
             "ticks": ""
            },
            "colorscale": [
             [
              0,
              "#0d0887"
             ],
             [
              0.1111111111111111,
              "#46039f"
             ],
             [
              0.2222222222222222,
              "#7201a8"
             ],
             [
              0.3333333333333333,
              "#9c179e"
             ],
             [
              0.4444444444444444,
              "#bd3786"
             ],
             [
              0.5555555555555556,
              "#d8576b"
             ],
             [
              0.6666666666666666,
              "#ed7953"
             ],
             [
              0.7777777777777778,
              "#fb9f3a"
             ],
             [
              0.8888888888888888,
              "#fdca26"
             ],
             [
              1,
              "#f0f921"
             ]
            ],
            "type": "histogram2d"
           }
          ],
          "histogram2dcontour": [
           {
            "colorbar": {
             "outlinewidth": 0,
             "ticks": ""
            },
            "colorscale": [
             [
              0,
              "#0d0887"
             ],
             [
              0.1111111111111111,
              "#46039f"
             ],
             [
              0.2222222222222222,
              "#7201a8"
             ],
             [
              0.3333333333333333,
              "#9c179e"
             ],
             [
              0.4444444444444444,
              "#bd3786"
             ],
             [
              0.5555555555555556,
              "#d8576b"
             ],
             [
              0.6666666666666666,
              "#ed7953"
             ],
             [
              0.7777777777777778,
              "#fb9f3a"
             ],
             [
              0.8888888888888888,
              "#fdca26"
             ],
             [
              1,
              "#f0f921"
             ]
            ],
            "type": "histogram2dcontour"
           }
          ],
          "mesh3d": [
           {
            "colorbar": {
             "outlinewidth": 0,
             "ticks": ""
            },
            "type": "mesh3d"
           }
          ],
          "parcoords": [
           {
            "line": {
             "colorbar": {
              "outlinewidth": 0,
              "ticks": ""
             }
            },
            "type": "parcoords"
           }
          ],
          "scatter": [
           {
            "marker": {
             "colorbar": {
              "outlinewidth": 0,
              "ticks": ""
             }
            },
            "type": "scatter"
           }
          ],
          "scatter3d": [
           {
            "line": {
             "colorbar": {
              "outlinewidth": 0,
              "ticks": ""
             }
            },
            "marker": {
             "colorbar": {
              "outlinewidth": 0,
              "ticks": ""
             }
            },
            "type": "scatter3d"
           }
          ],
          "scattercarpet": [
           {
            "marker": {
             "colorbar": {
              "outlinewidth": 0,
              "ticks": ""
             }
            },
            "type": "scattercarpet"
           }
          ],
          "scattergeo": [
           {
            "marker": {
             "colorbar": {
              "outlinewidth": 0,
              "ticks": ""
             }
            },
            "type": "scattergeo"
           }
          ],
          "scattergl": [
           {
            "marker": {
             "colorbar": {
              "outlinewidth": 0,
              "ticks": ""
             }
            },
            "type": "scattergl"
           }
          ],
          "scattermapbox": [
           {
            "marker": {
             "colorbar": {
              "outlinewidth": 0,
              "ticks": ""
             }
            },
            "type": "scattermapbox"
           }
          ],
          "scatterpolar": [
           {
            "marker": {
             "colorbar": {
              "outlinewidth": 0,
              "ticks": ""
             }
            },
            "type": "scatterpolar"
           }
          ],
          "scatterpolargl": [
           {
            "marker": {
             "colorbar": {
              "outlinewidth": 0,
              "ticks": ""
             }
            },
            "type": "scatterpolargl"
           }
          ],
          "scatterternary": [
           {
            "marker": {
             "colorbar": {
              "outlinewidth": 0,
              "ticks": ""
             }
            },
            "type": "scatterternary"
           }
          ],
          "surface": [
           {
            "colorbar": {
             "outlinewidth": 0,
             "ticks": ""
            },
            "colorscale": [
             [
              0,
              "#0d0887"
             ],
             [
              0.1111111111111111,
              "#46039f"
             ],
             [
              0.2222222222222222,
              "#7201a8"
             ],
             [
              0.3333333333333333,
              "#9c179e"
             ],
             [
              0.4444444444444444,
              "#bd3786"
             ],
             [
              0.5555555555555556,
              "#d8576b"
             ],
             [
              0.6666666666666666,
              "#ed7953"
             ],
             [
              0.7777777777777778,
              "#fb9f3a"
             ],
             [
              0.8888888888888888,
              "#fdca26"
             ],
             [
              1,
              "#f0f921"
             ]
            ],
            "type": "surface"
           }
          ],
          "table": [
           {
            "cells": {
             "fill": {
              "color": "#EBF0F8"
             },
             "line": {
              "color": "white"
             }
            },
            "header": {
             "fill": {
              "color": "#C8D4E3"
             },
             "line": {
              "color": "white"
             }
            },
            "type": "table"
           }
          ]
         },
         "layout": {
          "annotationdefaults": {
           "arrowcolor": "#2a3f5f",
           "arrowhead": 0,
           "arrowwidth": 1
          },
          "colorscale": {
           "diverging": [
            [
             0,
             "#8e0152"
            ],
            [
             0.1,
             "#c51b7d"
            ],
            [
             0.2,
             "#de77ae"
            ],
            [
             0.3,
             "#f1b6da"
            ],
            [
             0.4,
             "#fde0ef"
            ],
            [
             0.5,
             "#f7f7f7"
            ],
            [
             0.6,
             "#e6f5d0"
            ],
            [
             0.7,
             "#b8e186"
            ],
            [
             0.8,
             "#7fbc41"
            ],
            [
             0.9,
             "#4d9221"
            ],
            [
             1,
             "#276419"
            ]
           ],
           "sequential": [
            [
             0,
             "#0d0887"
            ],
            [
             0.1111111111111111,
             "#46039f"
            ],
            [
             0.2222222222222222,
             "#7201a8"
            ],
            [
             0.3333333333333333,
             "#9c179e"
            ],
            [
             0.4444444444444444,
             "#bd3786"
            ],
            [
             0.5555555555555556,
             "#d8576b"
            ],
            [
             0.6666666666666666,
             "#ed7953"
            ],
            [
             0.7777777777777778,
             "#fb9f3a"
            ],
            [
             0.8888888888888888,
             "#fdca26"
            ],
            [
             1,
             "#f0f921"
            ]
           ],
           "sequentialminus": [
            [
             0,
             "#0d0887"
            ],
            [
             0.1111111111111111,
             "#46039f"
            ],
            [
             0.2222222222222222,
             "#7201a8"
            ],
            [
             0.3333333333333333,
             "#9c179e"
            ],
            [
             0.4444444444444444,
             "#bd3786"
            ],
            [
             0.5555555555555556,
             "#d8576b"
            ],
            [
             0.6666666666666666,
             "#ed7953"
            ],
            [
             0.7777777777777778,
             "#fb9f3a"
            ],
            [
             0.8888888888888888,
             "#fdca26"
            ],
            [
             1,
             "#f0f921"
            ]
           ]
          },
          "colorway": [
           "#636efa",
           "#EF553B",
           "#00cc96",
           "#ab63fa",
           "#FFA15A",
           "#19d3f3",
           "#FF6692",
           "#B6E880",
           "#FF97FF",
           "#FECB52"
          ],
          "font": {
           "color": "#2a3f5f"
          },
          "geo": {
           "bgcolor": "white",
           "lakecolor": "white",
           "landcolor": "#E5ECF6",
           "showlakes": true,
           "showland": true,
           "subunitcolor": "white"
          },
          "hoverlabel": {
           "align": "left"
          },
          "hovermode": "closest",
          "mapbox": {
           "style": "light"
          },
          "paper_bgcolor": "white",
          "plot_bgcolor": "#E5ECF6",
          "polar": {
           "angularaxis": {
            "gridcolor": "white",
            "linecolor": "white",
            "ticks": ""
           },
           "bgcolor": "#E5ECF6",
           "radialaxis": {
            "gridcolor": "white",
            "linecolor": "white",
            "ticks": ""
           }
          },
          "scene": {
           "xaxis": {
            "backgroundcolor": "#E5ECF6",
            "gridcolor": "white",
            "gridwidth": 2,
            "linecolor": "white",
            "showbackground": true,
            "ticks": "",
            "zerolinecolor": "white"
           },
           "yaxis": {
            "backgroundcolor": "#E5ECF6",
            "gridcolor": "white",
            "gridwidth": 2,
            "linecolor": "white",
            "showbackground": true,
            "ticks": "",
            "zerolinecolor": "white"
           },
           "zaxis": {
            "backgroundcolor": "#E5ECF6",
            "gridcolor": "white",
            "gridwidth": 2,
            "linecolor": "white",
            "showbackground": true,
            "ticks": "",
            "zerolinecolor": "white"
           }
          },
          "shapedefaults": {
           "line": {
            "color": "#2a3f5f"
           }
          },
          "ternary": {
           "aaxis": {
            "gridcolor": "white",
            "linecolor": "white",
            "ticks": ""
           },
           "baxis": {
            "gridcolor": "white",
            "linecolor": "white",
            "ticks": ""
           },
           "bgcolor": "#E5ECF6",
           "caxis": {
            "gridcolor": "white",
            "linecolor": "white",
            "ticks": ""
           }
          },
          "title": {
           "x": 0.05
          },
          "xaxis": {
           "automargin": true,
           "gridcolor": "white",
           "linecolor": "white",
           "ticks": "",
           "zerolinecolor": "white",
           "zerolinewidth": 2
          },
          "yaxis": {
           "automargin": true,
           "gridcolor": "white",
           "linecolor": "white",
           "ticks": "",
           "zerolinecolor": "white",
           "zerolinewidth": 2
          }
         }
        },
        "title": {
         "text": "Number of Solutions"
        },
        "width": 340
       },
       "_py2js_addTraces": {},
       "_py2js_animate": {},
       "_py2js_deleteTraces": {},
       "_py2js_moveTraces": {},
       "_py2js_removeLayoutProps": {},
       "_py2js_removeTraceProps": {},
       "_py2js_restyle": {},
       "_view_count": 1
      }
     },
     "9905c871f6c9463f9a1eda81eef6eb3a": {
      "model_module": "@jupyter-widgets/base",
      "model_module_version": "1.2.0",
      "model_name": "LayoutModel",
      "state": {}
     },
     "9acdef70ec2e43b6a2eb3368eb2b1b62": {
      "model_module": "@jupyter-widgets/base",
      "model_module_version": "1.2.0",
      "model_name": "LayoutModel",
      "state": {}
     },
     "9b393db81a4b46259d7793b67bf948c9": {
      "model_module": "@jupyter-widgets/controls",
      "model_module_version": "1.5.0",
      "model_name": "CheckboxModel",
      "state": {
       "description": "(M+) net_benefits",
       "description_tooltip": "net_benefits",
       "disabled": false,
       "layout": "IPY_MODEL_7aae7560f3db44e2bb920d14cdb77a5d",
       "name": "net_benefits",
       "style": "IPY_MODEL_9309833232da47a5886d36573273d715",
       "value": true
      }
     },
     "9b441007549447598eb71291001afdba": {
      "model_module": "@jupyter-widgets/base",
      "model_module_version": "1.2.0",
      "model_name": "LayoutModel",
      "state": {}
     },
     "9f370e1975c445c0b583e9a71e0ae5cd": {
      "model_module": "@jupyter-widgets/controls",
      "model_module_version": "1.5.0",
      "model_name": "DescriptionStyleModel",
      "state": {
       "description_width": ""
      }
     },
     "a065318911bc42dc8f550b8012117d91": {
      "model_module": "@jupyter-widgets/controls",
      "model_module_version": "1.5.0",
      "model_name": "CheckboxModel",
      "state": {
       "description": "(L) interest_rate_lock",
       "description_tooltip": "interest_rate_lock",
       "disabled": false,
       "layout": "IPY_MODEL_d82a8e5b929745708f6e0b6544dda64d",
       "name": "interest_rate_lock",
       "style": "IPY_MODEL_7cebd14611754039985a23682007d7f0",
       "value": true
      }
     },
     "aeb5fe43e4c24702a1d52b5460417551": {
      "model_module": "@jupyter-widgets/controls",
      "model_module_version": "1.5.0",
      "model_name": "DescriptionStyleModel",
      "state": {
       "description_width": ""
      }
     },
     "afbafea5646b4ac086bc9d39b55b439d": {
      "model_module": "@jupyter-widgets/controls",
      "model_module_version": "1.5.0",
      "model_name": "HBoxModel",
      "state": {
       "children": [
        "IPY_MODEL_e9b985d68e98477e8f8e19e092513b6a",
        "IPY_MODEL_98d2f2f6e95845c1ba839f78841fcfd0"
       ],
       "layout": "IPY_MODEL_c1512808169949b0a2f261af9a86d6c6"
      }
     },
     "b06939a71f72489d944b83ab46c5498b": {
      "model_module": "@jupyter-widgets/base",
      "model_module_version": "1.2.0",
      "model_name": "LayoutModel",
      "state": {}
     },
     "bc92531d41c14a81a480851d08e2d0bf": {
      "model_module": "@jupyter-widgets/controls",
      "model_module_version": "1.5.0",
      "model_name": "CheckboxModel",
      "state": {
       "description": "(M+) value_of_time_savings",
       "description_tooltip": "value_of_time_savings",
       "disabled": false,
       "layout": "IPY_MODEL_38033ddd955341a38518812ea40f5bc0",
       "name": "value_of_time_savings",
       "style": "IPY_MODEL_e23d60b6382446b893607b1a8049af6b",
       "value": true
      }
     },
     "c1512808169949b0a2f261af9a86d6c6": {
      "model_module": "@jupyter-widgets/base",
      "model_module_version": "1.2.0",
      "model_name": "LayoutModel",
      "state": {
       "flex_flow": "row wrap"
      }
     },
     "c26fbb7c7ad4407690f161eba67585f1": {
      "model_module": "plotlywidget",
      "model_module_version": "^1.1.1",
      "model_name": "FigureModel",
      "state": {
       "_config": {
        "plotlyServerURL": "https://plot.ly"
       },
       "_data": [
        {
         "fill": "tonexty",
         "line": {
          "shape": "linear"
         },
         "mode": "lines+markers",
         "name": "",
         "type": "scatter",
         "uid": "50dabb91-db27-4efb-81d3-aa1e1afca53b",
         "x": [
          0,
          100,
          200,
          300,
          400,
          500,
          600,
          700,
          800,
          900,
          1000,
          1100,
          1200,
          1300,
          1400,
          1500,
          1600,
          1700,
          1800,
          1900,
          2000,
          2100,
          2200,
          2300,
          2400,
          2500,
          2600,
          2700,
          2800,
          2900,
          3000,
          3100,
          3200,
          3300,
          3400,
          3500,
          3600,
          3700,
          3800,
          3900,
          4000,
          4100,
          4200,
          4300,
          4400,
          4500,
          4600,
          4700,
          4800,
          4900,
          5000,
          5100,
          5200,
          5300,
          5400,
          5500,
          5600,
          5700,
          5800,
          5900,
          6000,
          6100,
          6200,
          6300,
          6400,
          6500,
          6600,
          6700,
          6800,
          6900,
          7000,
          7100,
          7200,
          7300,
          7400,
          7500,
          7600,
          7700,
          7800,
          7900,
          8000,
          8100,
          8200,
          8300,
          8400,
          8500,
          8600,
          8700,
          8800,
          8900,
          9000,
          9100,
          9200,
          9300,
          9400,
          9500,
          9600,
          9700,
          9800,
          9900,
          10000
         ],
         "y": [
          0,
          38,
          57,
          93,
          106,
          124,
          134,
          147,
          158,
          177,
          189,
          188,
          197,
          209,
          217,
          214,
          218,
          217,
          216,
          225,
          232,
          240,
          247,
          246,
          241,
          245,
          247,
          240,
          243,
          246,
          250,
          258,
          252,
          260,
          262,
          270,
          273,
          276,
          278,
          283,
          281,
          289,
          288,
          294,
          298,
          305,
          307,
          310,
          313,
          315,
          318,
          322,
          328,
          330,
          333,
          332,
          333,
          340,
          337,
          340,
          344,
          349,
          352,
          355,
          344,
          346,
          347,
          351,
          355,
          351,
          345,
          343,
          335,
          333,
          336,
          339,
          336,
          336,
          337,
          339,
          340,
          343,
          339,
          342,
          340,
          342,
          341,
          339,
          340,
          346,
          349,
          354,
          355,
          352,
          353,
          356,
          349,
          350,
          352,
          353,
          351
         ]
        }
       ],
       "_js2py_pointsCallback": {},
       "_js2py_relayout": {},
       "_js2py_restyle": {},
       "_js2py_update": {},
       "_last_layout_edit_id": 4,
       "_last_trace_edit_id": 1,
       "_layout": {
        "height": 240,
        "hovermode": "closest",
        "margin": {
         "b": 15,
         "l": 15,
         "r": 15,
         "t": 40
        },
        "showlegend": false,
        "template": {
         "data": {
          "bar": [
           {
            "error_x": {
             "color": "#2a3f5f"
            },
            "error_y": {
             "color": "#2a3f5f"
            },
            "marker": {
             "line": {
              "color": "#E5ECF6",
              "width": 0.5
             }
            },
            "type": "bar"
           }
          ],
          "barpolar": [
           {
            "marker": {
             "line": {
              "color": "#E5ECF6",
              "width": 0.5
             }
            },
            "type": "barpolar"
           }
          ],
          "carpet": [
           {
            "aaxis": {
             "endlinecolor": "#2a3f5f",
             "gridcolor": "white",
             "linecolor": "white",
             "minorgridcolor": "white",
             "startlinecolor": "#2a3f5f"
            },
            "baxis": {
             "endlinecolor": "#2a3f5f",
             "gridcolor": "white",
             "linecolor": "white",
             "minorgridcolor": "white",
             "startlinecolor": "#2a3f5f"
            },
            "type": "carpet"
           }
          ],
          "choropleth": [
           {
            "colorbar": {
             "outlinewidth": 0,
             "ticks": ""
            },
            "type": "choropleth"
           }
          ],
          "contour": [
           {
            "colorbar": {
             "outlinewidth": 0,
             "ticks": ""
            },
            "colorscale": [
             [
              0,
              "#0d0887"
             ],
             [
              0.1111111111111111,
              "#46039f"
             ],
             [
              0.2222222222222222,
              "#7201a8"
             ],
             [
              0.3333333333333333,
              "#9c179e"
             ],
             [
              0.4444444444444444,
              "#bd3786"
             ],
             [
              0.5555555555555556,
              "#d8576b"
             ],
             [
              0.6666666666666666,
              "#ed7953"
             ],
             [
              0.7777777777777778,
              "#fb9f3a"
             ],
             [
              0.8888888888888888,
              "#fdca26"
             ],
             [
              1,
              "#f0f921"
             ]
            ],
            "type": "contour"
           }
          ],
          "contourcarpet": [
           {
            "colorbar": {
             "outlinewidth": 0,
             "ticks": ""
            },
            "type": "contourcarpet"
           }
          ],
          "heatmap": [
           {
            "colorbar": {
             "outlinewidth": 0,
             "ticks": ""
            },
            "colorscale": [
             [
              0,
              "#0d0887"
             ],
             [
              0.1111111111111111,
              "#46039f"
             ],
             [
              0.2222222222222222,
              "#7201a8"
             ],
             [
              0.3333333333333333,
              "#9c179e"
             ],
             [
              0.4444444444444444,
              "#bd3786"
             ],
             [
              0.5555555555555556,
              "#d8576b"
             ],
             [
              0.6666666666666666,
              "#ed7953"
             ],
             [
              0.7777777777777778,
              "#fb9f3a"
             ],
             [
              0.8888888888888888,
              "#fdca26"
             ],
             [
              1,
              "#f0f921"
             ]
            ],
            "type": "heatmap"
           }
          ],
          "heatmapgl": [
           {
            "colorbar": {
             "outlinewidth": 0,
             "ticks": ""
            },
            "colorscale": [
             [
              0,
              "#0d0887"
             ],
             [
              0.1111111111111111,
              "#46039f"
             ],
             [
              0.2222222222222222,
              "#7201a8"
             ],
             [
              0.3333333333333333,
              "#9c179e"
             ],
             [
              0.4444444444444444,
              "#bd3786"
             ],
             [
              0.5555555555555556,
              "#d8576b"
             ],
             [
              0.6666666666666666,
              "#ed7953"
             ],
             [
              0.7777777777777778,
              "#fb9f3a"
             ],
             [
              0.8888888888888888,
              "#fdca26"
             ],
             [
              1,
              "#f0f921"
             ]
            ],
            "type": "heatmapgl"
           }
          ],
          "histogram": [
           {
            "marker": {
             "colorbar": {
              "outlinewidth": 0,
              "ticks": ""
             }
            },
            "type": "histogram"
           }
          ],
          "histogram2d": [
           {
            "colorbar": {
             "outlinewidth": 0,
             "ticks": ""
            },
            "colorscale": [
             [
              0,
              "#0d0887"
             ],
             [
              0.1111111111111111,
              "#46039f"
             ],
             [
              0.2222222222222222,
              "#7201a8"
             ],
             [
              0.3333333333333333,
              "#9c179e"
             ],
             [
              0.4444444444444444,
              "#bd3786"
             ],
             [
              0.5555555555555556,
              "#d8576b"
             ],
             [
              0.6666666666666666,
              "#ed7953"
             ],
             [
              0.7777777777777778,
              "#fb9f3a"
             ],
             [
              0.8888888888888888,
              "#fdca26"
             ],
             [
              1,
              "#f0f921"
             ]
            ],
            "type": "histogram2d"
           }
          ],
          "histogram2dcontour": [
           {
            "colorbar": {
             "outlinewidth": 0,
             "ticks": ""
            },
            "colorscale": [
             [
              0,
              "#0d0887"
             ],
             [
              0.1111111111111111,
              "#46039f"
             ],
             [
              0.2222222222222222,
              "#7201a8"
             ],
             [
              0.3333333333333333,
              "#9c179e"
             ],
             [
              0.4444444444444444,
              "#bd3786"
             ],
             [
              0.5555555555555556,
              "#d8576b"
             ],
             [
              0.6666666666666666,
              "#ed7953"
             ],
             [
              0.7777777777777778,
              "#fb9f3a"
             ],
             [
              0.8888888888888888,
              "#fdca26"
             ],
             [
              1,
              "#f0f921"
             ]
            ],
            "type": "histogram2dcontour"
           }
          ],
          "mesh3d": [
           {
            "colorbar": {
             "outlinewidth": 0,
             "ticks": ""
            },
            "type": "mesh3d"
           }
          ],
          "parcoords": [
           {
            "line": {
             "colorbar": {
              "outlinewidth": 0,
              "ticks": ""
             }
            },
            "type": "parcoords"
           }
          ],
          "scatter": [
           {
            "marker": {
             "colorbar": {
              "outlinewidth": 0,
              "ticks": ""
             }
            },
            "type": "scatter"
           }
          ],
          "scatter3d": [
           {
            "line": {
             "colorbar": {
              "outlinewidth": 0,
              "ticks": ""
             }
            },
            "marker": {
             "colorbar": {
              "outlinewidth": 0,
              "ticks": ""
             }
            },
            "type": "scatter3d"
           }
          ],
          "scattercarpet": [
           {
            "marker": {
             "colorbar": {
              "outlinewidth": 0,
              "ticks": ""
             }
            },
            "type": "scattercarpet"
           }
          ],
          "scattergeo": [
           {
            "marker": {
             "colorbar": {
              "outlinewidth": 0,
              "ticks": ""
             }
            },
            "type": "scattergeo"
           }
          ],
          "scattergl": [
           {
            "marker": {
             "colorbar": {
              "outlinewidth": 0,
              "ticks": ""
             }
            },
            "type": "scattergl"
           }
          ],
          "scattermapbox": [
           {
            "marker": {
             "colorbar": {
              "outlinewidth": 0,
              "ticks": ""
             }
            },
            "type": "scattermapbox"
           }
          ],
          "scatterpolar": [
           {
            "marker": {
             "colorbar": {
              "outlinewidth": 0,
              "ticks": ""
             }
            },
            "type": "scatterpolar"
           }
          ],
          "scatterpolargl": [
           {
            "marker": {
             "colorbar": {
              "outlinewidth": 0,
              "ticks": ""
             }
            },
            "type": "scatterpolargl"
           }
          ],
          "scatterternary": [
           {
            "marker": {
             "colorbar": {
              "outlinewidth": 0,
              "ticks": ""
             }
            },
            "type": "scatterternary"
           }
          ],
          "surface": [
           {
            "colorbar": {
             "outlinewidth": 0,
             "ticks": ""
            },
            "colorscale": [
             [
              0,
              "#0d0887"
             ],
             [
              0.1111111111111111,
              "#46039f"
             ],
             [
              0.2222222222222222,
              "#7201a8"
             ],
             [
              0.3333333333333333,
              "#9c179e"
             ],
             [
              0.4444444444444444,
              "#bd3786"
             ],
             [
              0.5555555555555556,
              "#d8576b"
             ],
             [
              0.6666666666666666,
              "#ed7953"
             ],
             [
              0.7777777777777778,
              "#fb9f3a"
             ],
             [
              0.8888888888888888,
              "#fdca26"
             ],
             [
              1,
              "#f0f921"
             ]
            ],
            "type": "surface"
           }
          ],
          "table": [
           {
            "cells": {
             "fill": {
              "color": "#EBF0F8"
             },
             "line": {
              "color": "white"
             }
            },
            "header": {
             "fill": {
              "color": "#C8D4E3"
             },
             "line": {
              "color": "white"
             }
            },
            "type": "table"
           }
          ]
         },
         "layout": {
          "annotationdefaults": {
           "arrowcolor": "#2a3f5f",
           "arrowhead": 0,
           "arrowwidth": 1
          },
          "colorscale": {
           "diverging": [
            [
             0,
             "#8e0152"
            ],
            [
             0.1,
             "#c51b7d"
            ],
            [
             0.2,
             "#de77ae"
            ],
            [
             0.3,
             "#f1b6da"
            ],
            [
             0.4,
             "#fde0ef"
            ],
            [
             0.5,
             "#f7f7f7"
            ],
            [
             0.6,
             "#e6f5d0"
            ],
            [
             0.7,
             "#b8e186"
            ],
            [
             0.8,
             "#7fbc41"
            ],
            [
             0.9,
             "#4d9221"
            ],
            [
             1,
             "#276419"
            ]
           ],
           "sequential": [
            [
             0,
             "#0d0887"
            ],
            [
             0.1111111111111111,
             "#46039f"
            ],
            [
             0.2222222222222222,
             "#7201a8"
            ],
            [
             0.3333333333333333,
             "#9c179e"
            ],
            [
             0.4444444444444444,
             "#bd3786"
            ],
            [
             0.5555555555555556,
             "#d8576b"
            ],
            [
             0.6666666666666666,
             "#ed7953"
            ],
            [
             0.7777777777777778,
             "#fb9f3a"
            ],
            [
             0.8888888888888888,
             "#fdca26"
            ],
            [
             1,
             "#f0f921"
            ]
           ],
           "sequentialminus": [
            [
             0,
             "#0d0887"
            ],
            [
             0.1111111111111111,
             "#46039f"
            ],
            [
             0.2222222222222222,
             "#7201a8"
            ],
            [
             0.3333333333333333,
             "#9c179e"
            ],
            [
             0.4444444444444444,
             "#bd3786"
            ],
            [
             0.5555555555555556,
             "#d8576b"
            ],
            [
             0.6666666666666666,
             "#ed7953"
            ],
            [
             0.7777777777777778,
             "#fb9f3a"
            ],
            [
             0.8888888888888888,
             "#fdca26"
            ],
            [
             1,
             "#f0f921"
            ]
           ]
          },
          "colorway": [
           "#636efa",
           "#EF553B",
           "#00cc96",
           "#ab63fa",
           "#FFA15A",
           "#19d3f3",
           "#FF6692",
           "#B6E880",
           "#FF97FF",
           "#FECB52"
          ],
          "font": {
           "color": "#2a3f5f"
          },
          "geo": {
           "bgcolor": "white",
           "lakecolor": "white",
           "landcolor": "#E5ECF6",
           "showlakes": true,
           "showland": true,
           "subunitcolor": "white"
          },
          "hoverlabel": {
           "align": "left"
          },
          "hovermode": "closest",
          "mapbox": {
           "style": "light"
          },
          "paper_bgcolor": "white",
          "plot_bgcolor": "#E5ECF6",
          "polar": {
           "angularaxis": {
            "gridcolor": "white",
            "linecolor": "white",
            "ticks": ""
           },
           "bgcolor": "#E5ECF6",
           "radialaxis": {
            "gridcolor": "white",
            "linecolor": "white",
            "ticks": ""
           }
          },
          "scene": {
           "xaxis": {
            "backgroundcolor": "#E5ECF6",
            "gridcolor": "white",
            "gridwidth": 2,
            "linecolor": "white",
            "showbackground": true,
            "ticks": "",
            "zerolinecolor": "white"
           },
           "yaxis": {
            "backgroundcolor": "#E5ECF6",
            "gridcolor": "white",
            "gridwidth": 2,
            "linecolor": "white",
            "showbackground": true,
            "ticks": "",
            "zerolinecolor": "white"
           },
           "zaxis": {
            "backgroundcolor": "#E5ECF6",
            "gridcolor": "white",
            "gridwidth": 2,
            "linecolor": "white",
            "showbackground": true,
            "ticks": "",
            "zerolinecolor": "white"
           }
          },
          "shapedefaults": {
           "line": {
            "color": "#2a3f5f"
           }
          },
          "ternary": {
           "aaxis": {
            "gridcolor": "white",
            "linecolor": "white",
            "ticks": ""
           },
           "baxis": {
            "gridcolor": "white",
            "linecolor": "white",
            "ticks": ""
           },
           "bgcolor": "#E5ECF6",
           "caxis": {
            "gridcolor": "white",
            "linecolor": "white",
            "ticks": ""
           }
          },
          "title": {
           "x": 0.05
          },
          "xaxis": {
           "automargin": true,
           "gridcolor": "white",
           "linecolor": "white",
           "ticks": "",
           "zerolinecolor": "white",
           "zerolinewidth": 2
          },
          "yaxis": {
           "automargin": true,
           "gridcolor": "white",
           "linecolor": "white",
           "ticks": "",
           "zerolinecolor": "white",
           "zerolinewidth": 2
          }
         }
        },
        "title": {
         "text": "Number of Solutions"
        },
        "width": 340
       },
       "_py2js_addTraces": {},
       "_py2js_animate": {},
       "_py2js_deleteTraces": {},
       "_py2js_moveTraces": {},
       "_py2js_removeLayoutProps": {},
       "_py2js_removeTraceProps": {},
       "_py2js_restyle": {},
       "_view_count": 1
      }
     },
     "cbca895257a141e588831e3069364efc": {
      "model_module": "@jupyter-widgets/controls",
      "model_module_version": "1.5.0",
      "model_name": "BoxModel",
      "state": {
       "children": [
        "IPY_MODEL_d17073b3df4e4b9daf1b02fca87eaab5",
        "IPY_MODEL_35a71f5cb00d46eda17b76a5e83e28b5",
        "IPY_MODEL_fbc19274c18843058b9da10ddf53991b",
        "IPY_MODEL_a065318911bc42dc8f550b8012117d91",
        "IPY_MODEL_20d7842fe28b4a50bdea96bc90cf12ba",
        "IPY_MODEL_32cac07ce7d54f098ec02312b877df4c",
        "IPY_MODEL_bc92531d41c14a81a480851d08e2d0bf",
        "IPY_MODEL_9b393db81a4b46259d7793b67bf948c9",
        "IPY_MODEL_43e89bfc80d74a0dadf479e8faedbc6a"
       ],
       "layout": "IPY_MODEL_5879935065c74d4c9a4c0763d54edac1"
      }
     },
     "ce8f29beb8024ab39860346159c68b64": {
      "model_module": "@jupyter-widgets/controls",
      "model_module_version": "1.5.0",
      "model_name": "CheckboxModel",
      "state": {
       "description": "(M-) build_travel_time",
       "description_tooltip": "build_travel_time",
       "disabled": false,
       "layout": "IPY_MODEL_f7c32c8e635c419db6fcf13426cacf57",
       "name": "build_travel_time",
       "style": "IPY_MODEL_963f67577cb4420a9951a9d2f57a380d",
       "value": true
      }
     },
     "d0e12c4afd684728a447357e2ee922e5": {
      "model_module": "@jupyter-widgets/controls",
      "model_module_version": "1.5.0",
      "model_name": "DescriptionStyleModel",
      "state": {
       "description_width": ""
      }
     },
     "d17073b3df4e4b9daf1b02fca87eaab5": {
      "model_module": "@jupyter-widgets/controls",
      "model_module_version": "1.5.0",
      "model_name": "CheckboxModel",
      "state": {
       "description": "(L) expand_capacity",
       "description_tooltip": "expand_capacity",
       "disabled": false,
       "layout": "IPY_MODEL_9905c871f6c9463f9a1eda81eef6eb3a",
       "name": "expand_capacity",
       "style": "IPY_MODEL_e3d7a5f0c81540829cdf41dcaa17f3f3",
       "value": true
      }
     },
     "d81b10ac02cb4b4a84076b87537cdb1d": {
      "model_module": "@jupyter-widgets/controls",
      "model_module_version": "1.5.0",
      "model_name": "DescriptionStyleModel",
      "state": {
       "description_width": ""
      }
     },
     "d82a8e5b929745708f6e0b6544dda64d": {
      "model_module": "@jupyter-widgets/base",
      "model_module_version": "1.2.0",
      "model_name": "LayoutModel",
      "state": {}
     },
     "d9572439aed84a1d9e879248928256c7": {
      "model_module": "@jupyter-widgets/controls",
      "model_module_version": "1.5.0",
      "model_name": "DescriptionStyleModel",
      "state": {
       "description_width": ""
      }
     },
     "d9701895be8241d48e087d679f19676f": {
      "model_module": "@jupyter-widgets/controls",
      "model_module_version": "1.5.0",
      "model_name": "DescriptionStyleModel",
      "state": {
       "description_width": ""
      }
     },
     "e1f52c46a8624295be0a082d74a76e76": {
      "model_module": "@jupyter-widgets/base",
      "model_module_version": "1.2.0",
      "model_name": "LayoutModel",
      "state": {}
     },
     "e23d60b6382446b893607b1a8049af6b": {
      "model_module": "@jupyter-widgets/controls",
      "model_module_version": "1.5.0",
      "model_name": "DescriptionStyleModel",
      "state": {
       "description_width": ""
      }
     },
     "e31c4b0bd48246b4982fc7fa674f81d7": {
      "model_module": "@jupyter-widgets/base",
      "model_module_version": "1.2.0",
      "model_name": "LayoutModel",
      "state": {
       "width": "250px"
      }
     },
     "e3d7a5f0c81540829cdf41dcaa17f3f3": {
      "model_module": "@jupyter-widgets/controls",
      "model_module_version": "1.5.0",
      "model_name": "DescriptionStyleModel",
      "state": {
       "description_width": ""
      }
     },
     "e3e270e654fe4408929357054ce635b5": {
      "model_module": "@jupyter-widgets/base",
      "model_module_version": "1.2.0",
      "model_name": "LayoutModel",
      "state": {}
     },
     "e4b4d93787754183aec59fc553b41376": {
      "model_module": "@jupyter-widgets/controls",
      "model_module_version": "1.5.0",
      "model_name": "CheckboxModel",
      "state": {
       "description": "(X) alpha",
       "description_tooltip": "alpha",
       "disabled": false,
       "layout": "IPY_MODEL_6a8f8fdc6c0948809b79a5b95f540ec0",
       "name": "alpha",
       "style": "IPY_MODEL_906fd22189184d339893b2e682d8acd8",
       "value": true
      }
     },
     "e9b985d68e98477e8f8e19e092513b6a": {
      "model_module": "plotlywidget",
      "model_module_version": "^1.1.1",
      "model_name": "FigureModel",
      "state": {
       "_config": {
        "plotlyServerURL": "https://plot.ly"
       },
       "_data": [
        {
         "fill": "tonexty",
         "line": {
          "shape": "linear"
         },
         "mode": "lines+markers",
         "name": "",
         "type": "scatter",
         "uid": "3eb4dee1-29c3-4745-a5ca-75d541126dcd",
         "x": [
          0,
          100,
          200,
          300,
          400,
          500,
          600,
          700,
          800,
          900,
          1000,
          1100,
          1200,
          1300,
          1400,
          1500,
          1600,
          1700,
          1800,
          1900,
          2000,
          2100,
          2200,
          2300,
          2400,
          2500,
          2600,
          2700,
          2800,
          2900,
          3000,
          3100,
          3200,
          3300,
          3400,
          3500,
          3600,
          3700,
          3800,
          3900,
          4000,
          4100,
          4200,
          4300,
          4400,
          4500,
          4600,
          4700,
          4800,
          4900,
          5000,
          5100,
          5200,
          5300,
          5400,
          5500,
          5600,
          5700,
          5800,
          5900,
          6000,
          6100,
          6200,
          6300,
          6400,
          6500,
          6600,
          6700,
          6800,
          6900,
          7000,
          7100,
          7200,
          7300,
          7400,
          7500,
          7600,
          7700,
          7800,
          7900,
          8000,
          8100,
          8200,
          8300,
          8400,
          8500,
          8600,
          8700,
          8800,
          8900,
          9000,
          9100,
          9200,
          9300,
          9400,
          9500,
          9600,
          9700,
          9800,
          9900,
          10000
         ],
         "y": [
          0,
          42,
          47,
          58,
          64,
          68,
          71,
          74,
          79,
          80,
          80,
          81,
          82,
          83,
          84,
          86,
          88,
          93,
          95,
          95,
          96,
          97,
          97,
          97,
          97,
          98,
          98,
          99,
          99,
          99,
          99,
          100,
          100,
          100,
          100,
          101,
          101,
          101,
          102,
          102,
          102,
          103,
          103,
          103,
          103,
          104,
          104,
          104,
          104,
          104,
          104,
          104,
          104,
          104,
          104,
          104,
          104,
          104,
          104,
          105,
          106,
          106,
          106,
          106,
          106,
          106,
          106,
          106,
          106,
          106,
          106,
          106,
          106,
          106,
          106,
          106,
          106,
          106,
          106,
          106,
          106,
          106,
          106,
          106,
          106,
          106,
          106,
          106,
          106,
          106,
          106,
          106,
          106,
          106,
          106,
          106,
          106,
          106,
          106,
          106,
          106
         ]
        }
       ],
       "_js2py_pointsCallback": {},
       "_js2py_relayout": {},
       "_js2py_restyle": {},
       "_js2py_update": {},
       "_last_layout_edit_id": 4,
       "_last_trace_edit_id": 1,
       "_layout": {
        "height": 240,
        "hovermode": "closest",
        "margin": {
         "b": 15,
         "l": 15,
         "r": 15,
         "t": 40
        },
        "showlegend": false,
        "template": {
         "data": {
          "bar": [
           {
            "error_x": {
             "color": "#2a3f5f"
            },
            "error_y": {
             "color": "#2a3f5f"
            },
            "marker": {
             "line": {
              "color": "#E5ECF6",
              "width": 0.5
             }
            },
            "type": "bar"
           }
          ],
          "barpolar": [
           {
            "marker": {
             "line": {
              "color": "#E5ECF6",
              "width": 0.5
             }
            },
            "type": "barpolar"
           }
          ],
          "carpet": [
           {
            "aaxis": {
             "endlinecolor": "#2a3f5f",
             "gridcolor": "white",
             "linecolor": "white",
             "minorgridcolor": "white",
             "startlinecolor": "#2a3f5f"
            },
            "baxis": {
             "endlinecolor": "#2a3f5f",
             "gridcolor": "white",
             "linecolor": "white",
             "minorgridcolor": "white",
             "startlinecolor": "#2a3f5f"
            },
            "type": "carpet"
           }
          ],
          "choropleth": [
           {
            "colorbar": {
             "outlinewidth": 0,
             "ticks": ""
            },
            "type": "choropleth"
           }
          ],
          "contour": [
           {
            "colorbar": {
             "outlinewidth": 0,
             "ticks": ""
            },
            "colorscale": [
             [
              0,
              "#0d0887"
             ],
             [
              0.1111111111111111,
              "#46039f"
             ],
             [
              0.2222222222222222,
              "#7201a8"
             ],
             [
              0.3333333333333333,
              "#9c179e"
             ],
             [
              0.4444444444444444,
              "#bd3786"
             ],
             [
              0.5555555555555556,
              "#d8576b"
             ],
             [
              0.6666666666666666,
              "#ed7953"
             ],
             [
              0.7777777777777778,
              "#fb9f3a"
             ],
             [
              0.8888888888888888,
              "#fdca26"
             ],
             [
              1,
              "#f0f921"
             ]
            ],
            "type": "contour"
           }
          ],
          "contourcarpet": [
           {
            "colorbar": {
             "outlinewidth": 0,
             "ticks": ""
            },
            "type": "contourcarpet"
           }
          ],
          "heatmap": [
           {
            "colorbar": {
             "outlinewidth": 0,
             "ticks": ""
            },
            "colorscale": [
             [
              0,
              "#0d0887"
             ],
             [
              0.1111111111111111,
              "#46039f"
             ],
             [
              0.2222222222222222,
              "#7201a8"
             ],
             [
              0.3333333333333333,
              "#9c179e"
             ],
             [
              0.4444444444444444,
              "#bd3786"
             ],
             [
              0.5555555555555556,
              "#d8576b"
             ],
             [
              0.6666666666666666,
              "#ed7953"
             ],
             [
              0.7777777777777778,
              "#fb9f3a"
             ],
             [
              0.8888888888888888,
              "#fdca26"
             ],
             [
              1,
              "#f0f921"
             ]
            ],
            "type": "heatmap"
           }
          ],
          "heatmapgl": [
           {
            "colorbar": {
             "outlinewidth": 0,
             "ticks": ""
            },
            "colorscale": [
             [
              0,
              "#0d0887"
             ],
             [
              0.1111111111111111,
              "#46039f"
             ],
             [
              0.2222222222222222,
              "#7201a8"
             ],
             [
              0.3333333333333333,
              "#9c179e"
             ],
             [
              0.4444444444444444,
              "#bd3786"
             ],
             [
              0.5555555555555556,
              "#d8576b"
             ],
             [
              0.6666666666666666,
              "#ed7953"
             ],
             [
              0.7777777777777778,
              "#fb9f3a"
             ],
             [
              0.8888888888888888,
              "#fdca26"
             ],
             [
              1,
              "#f0f921"
             ]
            ],
            "type": "heatmapgl"
           }
          ],
          "histogram": [
           {
            "marker": {
             "colorbar": {
              "outlinewidth": 0,
              "ticks": ""
             }
            },
            "type": "histogram"
           }
          ],
          "histogram2d": [
           {
            "colorbar": {
             "outlinewidth": 0,
             "ticks": ""
            },
            "colorscale": [
             [
              0,
              "#0d0887"
             ],
             [
              0.1111111111111111,
              "#46039f"
             ],
             [
              0.2222222222222222,
              "#7201a8"
             ],
             [
              0.3333333333333333,
              "#9c179e"
             ],
             [
              0.4444444444444444,
              "#bd3786"
             ],
             [
              0.5555555555555556,
              "#d8576b"
             ],
             [
              0.6666666666666666,
              "#ed7953"
             ],
             [
              0.7777777777777778,
              "#fb9f3a"
             ],
             [
              0.8888888888888888,
              "#fdca26"
             ],
             [
              1,
              "#f0f921"
             ]
            ],
            "type": "histogram2d"
           }
          ],
          "histogram2dcontour": [
           {
            "colorbar": {
             "outlinewidth": 0,
             "ticks": ""
            },
            "colorscale": [
             [
              0,
              "#0d0887"
             ],
             [
              0.1111111111111111,
              "#46039f"
             ],
             [
              0.2222222222222222,
              "#7201a8"
             ],
             [
              0.3333333333333333,
              "#9c179e"
             ],
             [
              0.4444444444444444,
              "#bd3786"
             ],
             [
              0.5555555555555556,
              "#d8576b"
             ],
             [
              0.6666666666666666,
              "#ed7953"
             ],
             [
              0.7777777777777778,
              "#fb9f3a"
             ],
             [
              0.8888888888888888,
              "#fdca26"
             ],
             [
              1,
              "#f0f921"
             ]
            ],
            "type": "histogram2dcontour"
           }
          ],
          "mesh3d": [
           {
            "colorbar": {
             "outlinewidth": 0,
             "ticks": ""
            },
            "type": "mesh3d"
           }
          ],
          "parcoords": [
           {
            "line": {
             "colorbar": {
              "outlinewidth": 0,
              "ticks": ""
             }
            },
            "type": "parcoords"
           }
          ],
          "scatter": [
           {
            "marker": {
             "colorbar": {
              "outlinewidth": 0,
              "ticks": ""
             }
            },
            "type": "scatter"
           }
          ],
          "scatter3d": [
           {
            "line": {
             "colorbar": {
              "outlinewidth": 0,
              "ticks": ""
             }
            },
            "marker": {
             "colorbar": {
              "outlinewidth": 0,
              "ticks": ""
             }
            },
            "type": "scatter3d"
           }
          ],
          "scattercarpet": [
           {
            "marker": {
             "colorbar": {
              "outlinewidth": 0,
              "ticks": ""
             }
            },
            "type": "scattercarpet"
           }
          ],
          "scattergeo": [
           {
            "marker": {
             "colorbar": {
              "outlinewidth": 0,
              "ticks": ""
             }
            },
            "type": "scattergeo"
           }
          ],
          "scattergl": [
           {
            "marker": {
             "colorbar": {
              "outlinewidth": 0,
              "ticks": ""
             }
            },
            "type": "scattergl"
           }
          ],
          "scattermapbox": [
           {
            "marker": {
             "colorbar": {
              "outlinewidth": 0,
              "ticks": ""
             }
            },
            "type": "scattermapbox"
           }
          ],
          "scatterpolar": [
           {
            "marker": {
             "colorbar": {
              "outlinewidth": 0,
              "ticks": ""
             }
            },
            "type": "scatterpolar"
           }
          ],
          "scatterpolargl": [
           {
            "marker": {
             "colorbar": {
              "outlinewidth": 0,
              "ticks": ""
             }
            },
            "type": "scatterpolargl"
           }
          ],
          "scatterternary": [
           {
            "marker": {
             "colorbar": {
              "outlinewidth": 0,
              "ticks": ""
             }
            },
            "type": "scatterternary"
           }
          ],
          "surface": [
           {
            "colorbar": {
             "outlinewidth": 0,
             "ticks": ""
            },
            "colorscale": [
             [
              0,
              "#0d0887"
             ],
             [
              0.1111111111111111,
              "#46039f"
             ],
             [
              0.2222222222222222,
              "#7201a8"
             ],
             [
              0.3333333333333333,
              "#9c179e"
             ],
             [
              0.4444444444444444,
              "#bd3786"
             ],
             [
              0.5555555555555556,
              "#d8576b"
             ],
             [
              0.6666666666666666,
              "#ed7953"
             ],
             [
              0.7777777777777778,
              "#fb9f3a"
             ],
             [
              0.8888888888888888,
              "#fdca26"
             ],
             [
              1,
              "#f0f921"
             ]
            ],
            "type": "surface"
           }
          ],
          "table": [
           {
            "cells": {
             "fill": {
              "color": "#EBF0F8"
             },
             "line": {
              "color": "white"
             }
            },
            "header": {
             "fill": {
              "color": "#C8D4E3"
             },
             "line": {
              "color": "white"
             }
            },
            "type": "table"
           }
          ]
         },
         "layout": {
          "annotationdefaults": {
           "arrowcolor": "#2a3f5f",
           "arrowhead": 0,
           "arrowwidth": 1
          },
          "colorscale": {
           "diverging": [
            [
             0,
             "#8e0152"
            ],
            [
             0.1,
             "#c51b7d"
            ],
            [
             0.2,
             "#de77ae"
            ],
            [
             0.3,
             "#f1b6da"
            ],
            [
             0.4,
             "#fde0ef"
            ],
            [
             0.5,
             "#f7f7f7"
            ],
            [
             0.6,
             "#e6f5d0"
            ],
            [
             0.7,
             "#b8e186"
            ],
            [
             0.8,
             "#7fbc41"
            ],
            [
             0.9,
             "#4d9221"
            ],
            [
             1,
             "#276419"
            ]
           ],
           "sequential": [
            [
             0,
             "#0d0887"
            ],
            [
             0.1111111111111111,
             "#46039f"
            ],
            [
             0.2222222222222222,
             "#7201a8"
            ],
            [
             0.3333333333333333,
             "#9c179e"
            ],
            [
             0.4444444444444444,
             "#bd3786"
            ],
            [
             0.5555555555555556,
             "#d8576b"
            ],
            [
             0.6666666666666666,
             "#ed7953"
            ],
            [
             0.7777777777777778,
             "#fb9f3a"
            ],
            [
             0.8888888888888888,
             "#fdca26"
            ],
            [
             1,
             "#f0f921"
            ]
           ],
           "sequentialminus": [
            [
             0,
             "#0d0887"
            ],
            [
             0.1111111111111111,
             "#46039f"
            ],
            [
             0.2222222222222222,
             "#7201a8"
            ],
            [
             0.3333333333333333,
             "#9c179e"
            ],
            [
             0.4444444444444444,
             "#bd3786"
            ],
            [
             0.5555555555555556,
             "#d8576b"
            ],
            [
             0.6666666666666666,
             "#ed7953"
            ],
            [
             0.7777777777777778,
             "#fb9f3a"
            ],
            [
             0.8888888888888888,
             "#fdca26"
            ],
            [
             1,
             "#f0f921"
            ]
           ]
          },
          "colorway": [
           "#636efa",
           "#EF553B",
           "#00cc96",
           "#ab63fa",
           "#FFA15A",
           "#19d3f3",
           "#FF6692",
           "#B6E880",
           "#FF97FF",
           "#FECB52"
          ],
          "font": {
           "color": "#2a3f5f"
          },
          "geo": {
           "bgcolor": "white",
           "lakecolor": "white",
           "landcolor": "#E5ECF6",
           "showlakes": true,
           "showland": true,
           "subunitcolor": "white"
          },
          "hoverlabel": {
           "align": "left"
          },
          "hovermode": "closest",
          "mapbox": {
           "style": "light"
          },
          "paper_bgcolor": "white",
          "plot_bgcolor": "#E5ECF6",
          "polar": {
           "angularaxis": {
            "gridcolor": "white",
            "linecolor": "white",
            "ticks": ""
           },
           "bgcolor": "#E5ECF6",
           "radialaxis": {
            "gridcolor": "white",
            "linecolor": "white",
            "ticks": ""
           }
          },
          "scene": {
           "xaxis": {
            "backgroundcolor": "#E5ECF6",
            "gridcolor": "white",
            "gridwidth": 2,
            "linecolor": "white",
            "showbackground": true,
            "ticks": "",
            "zerolinecolor": "white"
           },
           "yaxis": {
            "backgroundcolor": "#E5ECF6",
            "gridcolor": "white",
            "gridwidth": 2,
            "linecolor": "white",
            "showbackground": true,
            "ticks": "",
            "zerolinecolor": "white"
           },
           "zaxis": {
            "backgroundcolor": "#E5ECF6",
            "gridcolor": "white",
            "gridwidth": 2,
            "linecolor": "white",
            "showbackground": true,
            "ticks": "",
            "zerolinecolor": "white"
           }
          },
          "shapedefaults": {
           "line": {
            "color": "#2a3f5f"
           }
          },
          "ternary": {
           "aaxis": {
            "gridcolor": "white",
            "linecolor": "white",
            "ticks": ""
           },
           "baxis": {
            "gridcolor": "white",
            "linecolor": "white",
            "ticks": ""
           },
           "bgcolor": "#E5ECF6",
           "caxis": {
            "gridcolor": "white",
            "linecolor": "white",
            "ticks": ""
           }
          },
          "title": {
           "x": 0.05
          },
          "xaxis": {
           "automargin": true,
           "gridcolor": "white",
           "linecolor": "white",
           "ticks": "",
           "zerolinecolor": "white",
           "zerolinewidth": 2
          },
          "yaxis": {
           "automargin": true,
           "gridcolor": "white",
           "linecolor": "white",
           "ticks": "",
           "zerolinecolor": "white",
           "zerolinewidth": 2
          }
         }
        },
        "title": {
         "text": "ε-Progress"
        },
        "width": 340
       },
       "_py2js_addTraces": {},
       "_py2js_animate": {},
       "_py2js_deleteTraces": {},
       "_py2js_moveTraces": {},
       "_py2js_removeLayoutProps": {},
       "_py2js_removeTraceProps": {},
       "_py2js_restyle": {},
       "_view_count": 1
      }
     },
     "eba7ba6d2d544a9a934c1a13778ba0ed": {
      "model_module": "@jupyter-widgets/base",
      "model_module_version": "1.2.0",
      "model_name": "LayoutModel",
      "state": {}
     },
     "ebfd5943a0734d189d158b349195ed9a": {
      "model_module": "@jupyter-widgets/controls",
      "model_module_version": "1.5.0",
      "model_name": "VBoxModel",
      "state": {
       "children": [
        "IPY_MODEL_51945a23610640ce9b179e9e8886e012",
        "IPY_MODEL_f64252be050e4f618b159fe43300d39c",
        "IPY_MODEL_cbca895257a141e588831e3069364efc",
        "IPY_MODEL_25628e56de5d4ad8b482c4fa84c7c0cd"
       ],
       "layout": "IPY_MODEL_f9a87ab8fb4a44d0aaf79eb84fbff701"
      }
     },
     "ecd6d89c0e024906b4c3bb7501f04ebc": {
      "model_module": "@jupyter-widgets/output",
      "model_module_version": "1.0.0",
      "model_name": "OutputModel",
      "state": {
       "layout": "IPY_MODEL_b06939a71f72489d944b83ab46c5498b"
      }
     },
     "f11b3b291697460cb7c8db69e2f58d29": {
      "model_module": "@jupyter-widgets/base",
      "model_module_version": "1.2.0",
      "model_name": "LayoutModel",
      "state": {}
     },
     "f2e9bc41222a42268a2107421caee222": {
      "model_module": "@jupyter-widgets/controls",
      "model_module_version": "1.5.0",
      "model_name": "DescriptionStyleModel",
      "state": {
       "description_width": ""
      }
     },
     "f4920edfb5e846a78e0edd8af27186eb": {
      "model_module": "@jupyter-widgets/controls",
      "model_module_version": "1.5.0",
      "model_name": "DescriptionStyleModel",
      "state": {
       "description_width": ""
      }
     },
     "f64252be050e4f618b159fe43300d39c": {
      "model_module": "@jupyter-widgets/controls",
      "model_module_version": "1.5.0",
      "model_name": "DropdownModel",
      "state": {
       "_options_labels": [
        "< None >",
        "expand_capacity",
        "amortization_period",
        "debt_type",
        "interest_rate_lock",
        "build_travel_time",
        "time_savings",
        "value_of_time_savings",
        "net_benefits",
        "cost_of_capacity_expansion"
       ],
       "description": "Colorize:",
       "index": 1,
       "layout": "IPY_MODEL_923f85216de548e986c9962124a4a028",
       "style": "IPY_MODEL_14c36be4e6214eae8a54933a6b86d73f"
      }
     },
     "f64bb408c679406fab7b5f4143d276ec": {
      "model_module": "@jupyter-widgets/controls",
      "model_module_version": "1.5.0",
      "model_name": "DescriptionStyleModel",
      "state": {
       "description_width": ""
      }
     },
     "f7c32c8e635c419db6fcf13426cacf57": {
      "model_module": "@jupyter-widgets/base",
      "model_module_version": "1.2.0",
      "model_name": "LayoutModel",
      "state": {}
     },
     "f885df0b03e24d8d837f531c2df4acf2": {
      "model_module": "@jupyter-widgets/controls",
      "model_module_version": "1.5.0",
      "model_name": "CheckboxModel",
      "state": {
       "description": "(X) interest_rate",
       "description_tooltip": "interest_rate",
       "disabled": false,
       "layout": "IPY_MODEL_2452781212a142f991b101451c885e05",
       "name": "interest_rate",
       "style": "IPY_MODEL_1dfa1328ac4b4a90a53f6eb256611ab9",
       "value": true
      }
     },
     "f9a87ab8fb4a44d0aaf79eb84fbff701": {
      "model_module": "@jupyter-widgets/base",
      "model_module_version": "1.2.0",
      "model_name": "LayoutModel",
      "state": {
       "align_items": "center"
      }
     },
     "fbc19274c18843058b9da10ddf53991b": {
      "model_module": "@jupyter-widgets/controls",
      "model_module_version": "1.5.0",
      "model_name": "CheckboxModel",
      "state": {
       "description": "(L) debt_type",
       "description_tooltip": "debt_type",
       "disabled": false,
       "layout": "IPY_MODEL_f11b3b291697460cb7c8db69e2f58d29",
       "name": "debt_type",
       "style": "IPY_MODEL_4732ad1b7928487d80cb05f3251e51a5",
       "value": true
      }
     },
     "fd976fbe10a64c2aabf9115ca74f1877": {
      "model_module": "@jupyter-widgets/controls",
      "model_module_version": "1.5.0",
      "model_name": "CheckboxModel",
      "state": {
       "description": "(X) value_of_time",
       "description_tooltip": "value_of_time",
       "disabled": false,
       "layout": "IPY_MODEL_412a294f0a0c437c9f480bf20998c283",
       "name": "value_of_time",
       "style": "IPY_MODEL_f4920edfb5e846a78e0edd8af27186eb",
       "value": true
      }
     },
     "fe52f1c0ca144892b37411a104e9bffc": {
      "model_module": "@jupyter-widgets/base",
      "model_module_version": "1.2.0",
      "model_name": "LayoutModel",
      "state": {}
     },
     "ff376203138546ea830ae9ebcb7ddad7": {
      "model_module": "@jupyter-widgets/base",
      "model_module_version": "1.2.0",
      "model_name": "LayoutModel",
      "state": {}
     }
    },
    "version_major": 2,
    "version_minor": 0
   }
  }
 },
 "nbformat": 4,
 "nbformat_minor": 4
}
